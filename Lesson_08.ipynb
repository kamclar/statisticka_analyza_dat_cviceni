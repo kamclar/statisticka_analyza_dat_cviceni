{
  "cells": [
    {
      "cell_type": "markdown",
      "source": [
        "# Statistical hypothesis testing\n",
        "<br>\n",
        "Statistical hypothesis testing provides the tools to \n",
        "to make quantified decisions about the data under study. In principle, it can be said that in many cases statistical tests try to reveal whether the data obtained are the result of chance or whether the opposite is the case. This is the purpose of rejecting or accepting the null hypothesis, but both cases can be good or bad news, depending on the assumption made. "
      ],
      "metadata": {
        "id": "OClN4wHQ4Dp1"
      }
    },
    {
      "cell_type": "markdown",
      "source": [
        "# ANOVA"
      ],
      "metadata": {
        "id": "xZLHaLH73Jpd"
      }
    },
    {
      "cell_type": "markdown",
      "source": [
        "The ANOVA test can be viewed as a generalization of a two-sample t-test for agreement of means on more than two samples. <br>\n",
        "The solution of using t-test for all pairs for all samples we need to test would accumulate the type I error (false positive finding or mistaken rejection of null hypothesis) . https://web.vscht.cz/~spiwokv/statistika/skripta.pdf page 67."
      ],
      "metadata": {
        "id": "OHMj7Z243Nks"
      }
    },
    {
      "cell_type": "markdown",
      "source": [
        "Example:<br>\n",
        "Let's test whether music has effect on the growth of plants. The experiment setting is as follows we have 500 plants (500 factors) divided to group of fives that while growing were in the box with certain type of music, then we have a control group of 5 that was not exposed to the influence of music at all. Now we want to do statistical testing ($\\alpha$ = 0.05) and see what type of music, if any made the plants grow faster and thus be higher at the moment of the testing. Let's pretend that in the following table we have accumulated all the measurements and simulate them by random sampling from a certain distribution."
      ],
      "metadata": {
        "id": "K4RUFu8e5p0i"
      }
    },
    {
      "cell_type": "code",
      "source": [
        "\n",
        "df <- as.data.frame(matrix(rnorm(505, 30, 4), ncol=101 ))\n",
        "colnames(df) <- c('control', paste('plnt', 1:100))\n",
        "df"
      ],
      "metadata": {
        "colab": {
          "base_uri": "https://localhost:8080/",
          "height": 255
        },
        "id": "-jfB08vK5qGY",
        "outputId": "9f936514-f7c0-4c0c-d9a3-7ab30a01f37a"
      },
      "execution_count": null,
      "outputs": [
        {
          "output_type": "display_data",
          "data": {
            "text/html": [
              "<table class=\"dataframe\">\n",
              "<caption>A data.frame: 5 × 101</caption>\n",
              "<thead>\n",
              "\t<tr><th scope=col>control</th><th scope=col>plnt 1</th><th scope=col>plnt 2</th><th scope=col>plnt 3</th><th scope=col>plnt 4</th><th scope=col>plnt 5</th><th scope=col>plnt 6</th><th scope=col>plnt 7</th><th scope=col>plnt 8</th><th scope=col>plnt 9</th><th scope=col>⋯</th><th scope=col>plnt 91</th><th scope=col>plnt 92</th><th scope=col>plnt 93</th><th scope=col>plnt 94</th><th scope=col>plnt 95</th><th scope=col>plnt 96</th><th scope=col>plnt 97</th><th scope=col>plnt 98</th><th scope=col>plnt 99</th><th scope=col>plnt 100</th></tr>\n",
              "\t<tr><th scope=col>&lt;dbl&gt;</th><th scope=col>&lt;dbl&gt;</th><th scope=col>&lt;dbl&gt;</th><th scope=col>&lt;dbl&gt;</th><th scope=col>&lt;dbl&gt;</th><th scope=col>&lt;dbl&gt;</th><th scope=col>&lt;dbl&gt;</th><th scope=col>&lt;dbl&gt;</th><th scope=col>&lt;dbl&gt;</th><th scope=col>&lt;dbl&gt;</th><th scope=col>⋯</th><th scope=col>&lt;dbl&gt;</th><th scope=col>&lt;dbl&gt;</th><th scope=col>&lt;dbl&gt;</th><th scope=col>&lt;dbl&gt;</th><th scope=col>&lt;dbl&gt;</th><th scope=col>&lt;dbl&gt;</th><th scope=col>&lt;dbl&gt;</th><th scope=col>&lt;dbl&gt;</th><th scope=col>&lt;dbl&gt;</th><th scope=col>&lt;dbl&gt;</th></tr>\n",
              "</thead>\n",
              "<tbody>\n",
              "\t<tr><td>26.22651</td><td>35.13713</td><td>35.63598</td><td>22.16616</td><td>37.93321</td><td>26.41228</td><td>35.15787</td><td>32.73665</td><td>23.07722</td><td>39.21277</td><td>⋯</td><td>28.89811</td><td>23.57016</td><td>27.63775</td><td>25.24876</td><td>30.76094</td><td>27.09803</td><td>28.81318</td><td>33.46160</td><td>32.79284</td><td>26.34843</td></tr>\n",
              "\t<tr><td>33.90538</td><td>27.10591</td><td>37.04246</td><td>22.81403</td><td>28.66849</td><td>34.07826</td><td>26.19925</td><td>29.77665</td><td>31.82607</td><td>31.52026</td><td>⋯</td><td>34.38924</td><td>32.72627</td><td>27.39166</td><td>34.29395</td><td>30.70695</td><td>36.00697</td><td>27.07444</td><td>29.12214</td><td>30.77516</td><td>30.48505</td></tr>\n",
              "\t<tr><td>31.85885</td><td>30.68657</td><td>27.96502</td><td>29.74624</td><td>28.69596</td><td>28.40873</td><td>22.73275</td><td>32.29791</td><td>29.34702</td><td>23.99567</td><td>⋯</td><td>29.66058</td><td>29.07677</td><td>34.72876</td><td>27.60583</td><td>25.95203</td><td>32.25062</td><td>29.36617</td><td>36.68255</td><td>30.96338</td><td>29.19239</td></tr>\n",
              "\t<tr><td>26.09990</td><td>26.08475</td><td>27.72784</td><td>29.41107</td><td>28.92090</td><td>32.94920</td><td>34.06103</td><td>37.42951</td><td>24.79689</td><td>33.75582</td><td>⋯</td><td>33.62539</td><td>27.73249</td><td>37.03556</td><td>31.94674</td><td>34.14151</td><td>27.02495</td><td>26.24346</td><td>35.96263</td><td>32.71111</td><td>25.65883</td></tr>\n",
              "\t<tr><td>32.25854</td><td>24.09944</td><td>41.96377</td><td>29.11409</td><td>29.24120</td><td>29.87515</td><td>26.62051</td><td>31.13784</td><td>28.73805</td><td>22.85985</td><td>⋯</td><td>32.29167</td><td>27.53900</td><td>29.99087</td><td>29.55804</td><td>31.01432</td><td>32.80514</td><td>31.15290</td><td>36.21894</td><td>29.74974</td><td>25.15069</td></tr>\n",
              "</tbody>\n",
              "</table>\n"
            ],
            "text/markdown": "\nA data.frame: 5 × 101\n\n| control &lt;dbl&gt; | plnt 1 &lt;dbl&gt; | plnt 2 &lt;dbl&gt; | plnt 3 &lt;dbl&gt; | plnt 4 &lt;dbl&gt; | plnt 5 &lt;dbl&gt; | plnt 6 &lt;dbl&gt; | plnt 7 &lt;dbl&gt; | plnt 8 &lt;dbl&gt; | plnt 9 &lt;dbl&gt; | ⋯ ⋯ | plnt 91 &lt;dbl&gt; | plnt 92 &lt;dbl&gt; | plnt 93 &lt;dbl&gt; | plnt 94 &lt;dbl&gt; | plnt 95 &lt;dbl&gt; | plnt 96 &lt;dbl&gt; | plnt 97 &lt;dbl&gt; | plnt 98 &lt;dbl&gt; | plnt 99 &lt;dbl&gt; | plnt 100 &lt;dbl&gt; |\n|---|---|---|---|---|---|---|---|---|---|---|---|---|---|---|---|---|---|---|---|---|\n| 26.22651 | 35.13713 | 35.63598 | 22.16616 | 37.93321 | 26.41228 | 35.15787 | 32.73665 | 23.07722 | 39.21277 | ⋯ | 28.89811 | 23.57016 | 27.63775 | 25.24876 | 30.76094 | 27.09803 | 28.81318 | 33.46160 | 32.79284 | 26.34843 |\n| 33.90538 | 27.10591 | 37.04246 | 22.81403 | 28.66849 | 34.07826 | 26.19925 | 29.77665 | 31.82607 | 31.52026 | ⋯ | 34.38924 | 32.72627 | 27.39166 | 34.29395 | 30.70695 | 36.00697 | 27.07444 | 29.12214 | 30.77516 | 30.48505 |\n| 31.85885 | 30.68657 | 27.96502 | 29.74624 | 28.69596 | 28.40873 | 22.73275 | 32.29791 | 29.34702 | 23.99567 | ⋯ | 29.66058 | 29.07677 | 34.72876 | 27.60583 | 25.95203 | 32.25062 | 29.36617 | 36.68255 | 30.96338 | 29.19239 |\n| 26.09990 | 26.08475 | 27.72784 | 29.41107 | 28.92090 | 32.94920 | 34.06103 | 37.42951 | 24.79689 | 33.75582 | ⋯ | 33.62539 | 27.73249 | 37.03556 | 31.94674 | 34.14151 | 27.02495 | 26.24346 | 35.96263 | 32.71111 | 25.65883 |\n| 32.25854 | 24.09944 | 41.96377 | 29.11409 | 29.24120 | 29.87515 | 26.62051 | 31.13784 | 28.73805 | 22.85985 | ⋯ | 32.29167 | 27.53900 | 29.99087 | 29.55804 | 31.01432 | 32.80514 | 31.15290 | 36.21894 | 29.74974 | 25.15069 |\n\n",
            "text/latex": "A data.frame: 5 × 101\n\\begin{tabular}{lllllllllllllllllllll}\n control & plnt 1 & plnt 2 & plnt 3 & plnt 4 & plnt 5 & plnt 6 & plnt 7 & plnt 8 & plnt 9 & ⋯ & plnt 91 & plnt 92 & plnt 93 & plnt 94 & plnt 95 & plnt 96 & plnt 97 & plnt 98 & plnt 99 & plnt 100\\\\\n <dbl> & <dbl> & <dbl> & <dbl> & <dbl> & <dbl> & <dbl> & <dbl> & <dbl> & <dbl> & ⋯ & <dbl> & <dbl> & <dbl> & <dbl> & <dbl> & <dbl> & <dbl> & <dbl> & <dbl> & <dbl>\\\\\n\\hline\n\t 26.22651 & 35.13713 & 35.63598 & 22.16616 & 37.93321 & 26.41228 & 35.15787 & 32.73665 & 23.07722 & 39.21277 & ⋯ & 28.89811 & 23.57016 & 27.63775 & 25.24876 & 30.76094 & 27.09803 & 28.81318 & 33.46160 & 32.79284 & 26.34843\\\\\n\t 33.90538 & 27.10591 & 37.04246 & 22.81403 & 28.66849 & 34.07826 & 26.19925 & 29.77665 & 31.82607 & 31.52026 & ⋯ & 34.38924 & 32.72627 & 27.39166 & 34.29395 & 30.70695 & 36.00697 & 27.07444 & 29.12214 & 30.77516 & 30.48505\\\\\n\t 31.85885 & 30.68657 & 27.96502 & 29.74624 & 28.69596 & 28.40873 & 22.73275 & 32.29791 & 29.34702 & 23.99567 & ⋯ & 29.66058 & 29.07677 & 34.72876 & 27.60583 & 25.95203 & 32.25062 & 29.36617 & 36.68255 & 30.96338 & 29.19239\\\\\n\t 26.09990 & 26.08475 & 27.72784 & 29.41107 & 28.92090 & 32.94920 & 34.06103 & 37.42951 & 24.79689 & 33.75582 & ⋯ & 33.62539 & 27.73249 & 37.03556 & 31.94674 & 34.14151 & 27.02495 & 26.24346 & 35.96263 & 32.71111 & 25.65883\\\\\n\t 32.25854 & 24.09944 & 41.96377 & 29.11409 & 29.24120 & 29.87515 & 26.62051 & 31.13784 & 28.73805 & 22.85985 & ⋯ & 32.29167 & 27.53900 & 29.99087 & 29.55804 & 31.01432 & 32.80514 & 31.15290 & 36.21894 & 29.74974 & 25.15069\\\\\n\\end{tabular}\n",
            "text/plain": [
              "  control  plnt 1   plnt 2   plnt 3   plnt 4   plnt 5   plnt 6   plnt 7  \n",
              "1 26.22651 35.13713 35.63598 22.16616 37.93321 26.41228 35.15787 32.73665\n",
              "2 33.90538 27.10591 37.04246 22.81403 28.66849 34.07826 26.19925 29.77665\n",
              "3 31.85885 30.68657 27.96502 29.74624 28.69596 28.40873 22.73275 32.29791\n",
              "4 26.09990 26.08475 27.72784 29.41107 28.92090 32.94920 34.06103 37.42951\n",
              "5 32.25854 24.09944 41.96377 29.11409 29.24120 29.87515 26.62051 31.13784\n",
              "  plnt 8   plnt 9   ⋯ plnt 91  plnt 92  plnt 93  plnt 94  plnt 95  plnt 96 \n",
              "1 23.07722 39.21277 ⋯ 28.89811 23.57016 27.63775 25.24876 30.76094 27.09803\n",
              "2 31.82607 31.52026 ⋯ 34.38924 32.72627 27.39166 34.29395 30.70695 36.00697\n",
              "3 29.34702 23.99567 ⋯ 29.66058 29.07677 34.72876 27.60583 25.95203 32.25062\n",
              "4 24.79689 33.75582 ⋯ 33.62539 27.73249 37.03556 31.94674 34.14151 27.02495\n",
              "5 28.73805 22.85985 ⋯ 32.29167 27.53900 29.99087 29.55804 31.01432 32.80514\n",
              "  plnt 97  plnt 98  plnt 99  plnt 100\n",
              "1 28.81318 33.46160 32.79284 26.34843\n",
              "2 27.07444 29.12214 30.77516 30.48505\n",
              "3 29.36617 36.68255 30.96338 29.19239\n",
              "4 26.24346 35.96263 32.71111 25.65883\n",
              "5 31.15290 36.21894 29.74974 25.15069"
            ]
          },
          "metadata": {}
        }
      ]
    },
    {
      "cell_type": "code",
      "source": [],
      "metadata": {
        "id": "4s3TV1S8KJNe"
      },
      "execution_count": null,
      "outputs": []
    },
    {
      "cell_type": "markdown",
      "source": [
        "Now let's see how many p-values would fall into our α = 0.05 level of significance region. For the simplicity sake we would do a pair t-test just between control group and all sample groups."
      ],
      "metadata": {
        "id": "J49qtpC_D2OY"
      }
    },
    {
      "cell_type": "code",
      "source": [
        "p_vals <- c()\n",
        "for (i in 2:101){\n",
        "  result <- t.test(df$control, df[,i], alternative='greater')\n",
        "  p_vals <-c(p_vals, result$p.value) # list of components - names(result)\n",
        "}\n",
        "\n",
        "mask <- ( p_vals < 0.05 )\n",
        "p_vals[mask]"
      ],
      "metadata": {
        "colab": {
          "base_uri": "https://localhost:8080/",
          "height": 34
        },
        "id": "_wZnfNkJ9aSV",
        "outputId": "fb2d5b24-9f6f-41b7-8c2f-bd2dca69a182"
      },
      "execution_count": null,
      "outputs": [
        {
          "output_type": "display_data",
          "data": {
            "text/html": [
              "<style>\n",
              ".list-inline {list-style: none; margin:0; padding: 0}\n",
              ".list-inline>li {display: inline-block}\n",
              ".list-inline>li:not(:last-child)::after {content: \"\\00b7\"; padding: 0 .5ex}\n",
              "</style>\n",
              "<ol class=list-inline><li>0.0369658661877861</li><li>0.0432871864724571</li></ol>\n"
            ],
            "text/markdown": "1. 0.0369658661877861\n2. 0.0432871864724571\n\n\n",
            "text/latex": "\\begin{enumerate*}\n\\item 0.0369658661877861\n\\item 0.0432871864724571\n\\end{enumerate*}\n",
            "text/plain": [
              "[1] 0.03696587 0.04328719"
            ]
          },
          "metadata": {}
        }
      ]
    },
    {
      "cell_type": "markdown",
      "source": [
        "![image.png](data:image/png;base64,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)"
      ],
      "metadata": {
        "id": "FUph5uG6E29M"
      }
    },
    {
      "cell_type": "markdown",
      "source": [
        "We can compute the probability that we fail to reject null hypothesis at least once:"
      ],
      "metadata": {
        "id": "c-d-nPdFHSBY"
      }
    },
    {
      "cell_type": "code",
      "source": [
        "print('the probability that we do not always correctly reject the null hypothesis of 100 types of music genres influence:')\n",
        "0.95^100\n",
        "print('and at least once:')\n",
        "1 - 0.95^100"
      ],
      "metadata": {
        "colab": {
          "base_uri": "https://localhost:8080/",
          "height": 88
        },
        "id": "Soi7Z59GHSRC",
        "outputId": "9c8ebf57-db72-4606-fc4c-ec26c0580245"
      },
      "execution_count": null,
      "outputs": [
        {
          "output_type": "stream",
          "name": "stdout",
          "text": [
            "[1] \"the probability that we do not always correctly reject the null hypothesis\"\n"
          ]
        },
        {
          "output_type": "display_data",
          "data": {
            "text/html": [
              "0.005920529220334"
            ],
            "text/markdown": "0.005920529220334",
            "text/latex": "0.005920529220334",
            "text/plain": [
              "[1] 0.005920529"
            ]
          },
          "metadata": {}
        },
        {
          "output_type": "stream",
          "name": "stdout",
          "text": [
            "[1] \"and at least once:\"\n"
          ]
        },
        {
          "output_type": "display_data",
          "data": {
            "text/html": [
              "0.994079470779666"
            ],
            "text/markdown": "0.994079470779666",
            "text/latex": "0.994079470779666",
            "text/plain": [
              "[1] 0.9940795"
            ]
          },
          "metadata": {}
        }
      ]
    },
    {
      "cell_type": "markdown",
      "source": [
        "Solution is to use ANOVA and first test the influence of music as whole on the whole dataset."
      ],
      "metadata": {
        "id": "ePgJcpxuKSI7"
      }
    },
    {
      "cell_type": "code",
      "source": [
        " summary(aov(formula=values~ind, data=(stack(df))))"
      ],
      "metadata": {
        "colab": {
          "base_uri": "https://localhost:8080/",
          "height": 72
        },
        "id": "9MOSHRxJHSTy",
        "outputId": "73bacb1a-fae2-46f0-ff62-ae56dce60c83"
      },
      "execution_count": null,
      "outputs": [
        {
          "output_type": "display_data",
          "data": {
            "text/plain": [
              "             Df Sum Sq Mean Sq F value Pr(>F)\n",
              "ind         100   1702   17.02   1.047  0.372\n",
              "Residuals   404   6564   16.25               "
            ]
          },
          "metadata": {}
        }
      ]
    },
    {
      "cell_type": "markdown",
      "source": [
        "The result of ANOVA is p-value > 0.05. We can not reject null hypothesis on the 95% significance level."
      ],
      "metadata": {
        "id": "g1WrgLxsNi3o"
      }
    },
    {
      "cell_type": "markdown",
      "source": [
        "Analysis of variance (ANOVA) is a method to compare the means of several populations, based on random, independent samples from each population. It is a parametric test that assumes a normal distribution of values and homoscedasticity (standard deviations of the groups are all equal).\n",
        "<br><br>\n",
        "$\n",
        "H_0: \\mu_1 = \\mu_2 = ... = \\mu_j\n",
        "$\n",
        "<br><br>\n",
        "$\n",
        "H_1:$ at least one population mean $\\mu_j$ differs from others\n",
        "<br><br><br>\n",
        "The test statistic is as follows:\n",
        "<br><br>\n",
        "$\n",
        "F = \\frac{\\frac{SS_B}{f_b}}{\\frac{SS_W}{f_w}} = \\frac{MSS_b}{MSS_W}\n",
        "$"
      ],
      "metadata": {
        "id": "WDhvY4SmOJI9"
      }
    },
    {
      "cell_type": "markdown",
      "source": [
        "Sum of Squares between groups:<br><br>\n",
        "$\n",
        "SS_b = SS_t -SS_w\n",
        "$\n",
        "<br><br>\n",
        "Total Sum of Squares:<br><br>\n",
        "$\n",
        "SS_T = \\sum_{i=1}^N (x_{i} - \\bar{x}_j)^2\n",
        "$\n",
        "<br><br>\n",
        "Sum of Squares within groups:<br><br>\n",
        "$\n",
        "SS_W = \\sum_{j=1}^J \\sum_{i=1}^N (x_{ij} - \\bar{x}_j)^2\n",
        "$"
      ],
      "metadata": {
        "id": "ht4E1NkbQMCa"
      }
    },
    {
      "cell_type": "markdown",
      "source": [
        "Notice that the test statistic for an ANOVA is denoted as F. Basicaly it is a ratio of variance caused by a treatment to variance due to random chance.\n",
        "<br>\n",
        "<br>\n",
        "\n"
      ],
      "metadata": {
        "id": "ylBPJkw2RjM0"
      }
    },
    {
      "cell_type": "markdown",
      "source": [
        "### F distribution"
      ],
      "metadata": {
        "id": "QxvTAHAaKwUv"
      }
    },
    {
      "cell_type": "markdown",
      "source": [
        "![image](http://www.countbio.com/web_pages/left_object/R_for_biology/R_biostatistics_part-1/figures_and_scripts/F_distribution1.png)\n",
        "\n",
        "*picture from: http://www.countbio.com/web_pages/left_object/R_for_biology/R_biostatistics_part-1/figures_and_scripts/F_distribution1.png*"
      ],
      "metadata": {
        "id": "Rn64l2NuEN7k"
      }
    },
    {
      "cell_type": "code",
      "source": [
        "install.packages(\"sjPlot\")"
      ],
      "metadata": {
        "colab": {
          "base_uri": "https://localhost:8080/"
        },
        "id": "evan3gS3FL06",
        "outputId": "57e4b14e-0026-469d-da53-adc479e920fc"
      },
      "execution_count": 225,
      "outputs": [
        {
          "output_type": "stream",
          "name": "stderr",
          "text": [
            "Installing package into ‘/usr/local/lib/R/site-library’\n",
            "(as ‘lib’ is unspecified)\n",
            "\n",
            "also installing the dependencies ‘estimability’, ‘xtable’, ‘emmeans’, ‘lme4’, ‘ggeffects’, ‘sjlabelled’, ‘sjmisc’, ‘sjstats’\n",
            "\n",
            "\n"
          ]
        }
      ]
    },
    {
      "cell_type": "code",
      "source": [
        "library('sjPlot')\n",
        "\n",
        "dist_f(deg.f1=10, deg.f2=10)"
      ],
      "metadata": {
        "colab": {
          "base_uri": "https://localhost:8080/",
          "height": 437
        },
        "id": "MyF2CbioFdmM",
        "outputId": "fae40ccd-81a5-4752-9248-c35b294bc373"
      },
      "execution_count": 231,
      "outputs": [
        {
          "output_type": "display_data",
          "data": {
            "text/plain": [
              "plot without title"
            ],
            "image/png": "[encoded data removed]"
          },
          "metadata": {
            "image/png": {
              "width": 420,
              "height": 420
            }
          }
        }
      ]
    },
    {
      "cell_type": "markdown",
      "source": [
        "### ANOVA manualy\n",
        "<br>\n",
        "Example\n",
        "<br>\n",
        "https://web.vscht.cz/~spiwokv/statistika/skripta.pdf str 69: <br>\n",
        "Let's create three batches of sample, one for the control, one for the test compound and one \n",
        "for the placebo. The null hypothesis is that the means of all three categories are the same. The alternative hypothesis is that at least one mean is different. We start by creating the data:"
      ],
      "metadata": {
        "id": "ZsusHLuq_D0_"
      }
    },
    {
      "cell_type": "code",
      "source": [
        "control <- rnorm(10, mean=100, sd=25)\n",
        "compound <- rnorm(10, mean=70, sd=30)\n",
        "placebo <- rnorm(10, mean=90, sd=25)\n",
        "print(control)\n",
        "print(rep('-', 15))\n",
        "print(compound)\n",
        "print(rep('-', 15))\n",
        "print(placebo)"
      ],
      "metadata": {
        "id": "jwx30laEHSYt",
        "colab": {
          "base_uri": "https://localhost:8080/"
        },
        "outputId": "05ef8e80-5d0a-4cc0-ed38-c5ff68df7c85"
      },
      "execution_count": 240,
      "outputs": [
        {
          "output_type": "stream",
          "name": "stdout",
          "text": [
            " [1] 112.73185 100.33132 107.57421  98.79740 100.38375 112.62641 117.43373\n",
            " [8] 123.66538  78.91631  89.20990\n",
            " [1] \"-\" \"-\" \"-\" \"-\" \"-\" \"-\" \"-\" \"-\" \"-\" \"-\" \"-\" \"-\" \"-\" \"-\" \"-\"\n",
            " [1]  87.44202  63.86666  66.01167  66.94558  27.72351  77.51812  54.36347\n",
            " [8] 105.28203  71.29319 101.05900\n",
            " [1] \"-\" \"-\" \"-\" \"-\" \"-\" \"-\" \"-\" \"-\" \"-\" \"-\" \"-\" \"-\" \"-\" \"-\" \"-\"\n",
            " [1] 155.13711  82.96036  84.10800  85.71663  75.44912  80.07264 112.92193\n",
            " [8] 147.37294 115.72377  83.60280\n"
          ]
        }
      ]
    },
    {
      "cell_type": "code",
      "source": [
        "# Here we compute sum of squares of deviation from mean in each group\n",
        "ss_control <- sum((control-mean(control))^2)\n",
        "ss_compound <- sum((compound-mean(compound))^2)\n",
        "ss_placebo <- sum((placebo-mean(placebo))^2)\n",
        "\n",
        "# Then we sum values computed above and name the variable Sum of Squares Within the groups\n",
        "SSW <- ss_control + ss_compound + ss_placebo\n",
        "SSW"
      ],
      "metadata": {
        "colab": {
          "base_uri": "https://localhost:8080/",
          "height": 34
        },
        "id": "vjxL8vaH-lsQ",
        "outputId": "35e683d8-b1a3-4b3c-c11c-849607626d17"
      },
      "execution_count": 241,
      "outputs": [
        {
          "output_type": "display_data",
          "data": {
            "text/html": [
              "13913.1431669739"
            ],
            "text/markdown": "13913.1431669739",
            "text/latex": "13913.1431669739",
            "text/plain": [
              "[1] 13913.14"
            ]
          },
          "metadata": {}
        }
      ]
    },
    {
      "cell_type": "code",
      "source": [
        "# Boxplots to have a visual control how the data looks like\n",
        "\n",
        "boxplot(data.frame(control, compound, placebo ))"
      ],
      "metadata": {
        "colab": {
          "base_uri": "https://localhost:8080/",
          "height": 437
        },
        "id": "UkmfOADGQwf7",
        "outputId": "884bca54-c102-4696-d11f-e418f0d8b791"
      },
      "execution_count": 242,
      "outputs": [
        {
          "output_type": "display_data",
          "data": {
            "text/plain": [
              "plot without title"
            ],
            "image/png": "[encoded data removed]"
          },
          "metadata": {
            "image/png": {
              "width": 420,
              "height": 420
            }
          }
        }
      ]
    },
    {
      "cell_type": "code",
      "source": [
        "# Concatenate all groups into one\n",
        "\n",
        "all_groups <- c(control, compound, placebo)\n",
        "all_groups"
      ],
      "metadata": {
        "colab": {
          "base_uri": "https://localhost:8080/",
          "height": 86
        },
        "id": "cTPZ8Q1p-lvN",
        "outputId": "26de2502-7983-4ed5-b96d-a4a10d97e34b"
      },
      "execution_count": 243,
      "outputs": [
        {
          "output_type": "display_data",
          "data": {
            "text/html": [
              "<style>\n",
              ".list-inline {list-style: none; margin:0; padding: 0}\n",
              ".list-inline>li {display: inline-block}\n",
              ".list-inline>li:not(:last-child)::after {content: \"\\00b7\"; padding: 0 .5ex}\n",
              "</style>\n",
              "<ol class=list-inline><li>112.731853200298</li><li>100.331317692796</li><li>107.574206067473</li><li>98.7974000223267</li><li>100.383752687204</li><li>112.626411757698</li><li>117.433733402467</li><li>123.665384341737</li><li>78.916306853754</li><li>89.2098994737154</li><li>87.4420198275268</li><li>63.8666560253747</li><li>66.011671218976</li><li>66.9455802839796</li><li>27.7235104468562</li><li>77.5181247232919</li><li>54.3634677888484</li><li>105.282025694672</li><li>71.293191127655</li><li>101.059004297371</li><li>155.137109071465</li><li>82.9603629316633</li><li>84.108004420259</li><li>85.7166333889555</li><li>75.4491232315843</li><li>80.0726439402283</li><li>112.921927290257</li><li>147.372940857225</li><li>115.723774038798</li><li>83.6028014266876</li></ol>\n"
            ],
            "text/markdown": "1. 112.731853200298\n2. 100.331317692796\n3. 107.574206067473\n4. 98.7974000223267\n5. 100.383752687204\n6. 112.626411757698\n7. 117.433733402467\n8. 123.665384341737\n9. 78.916306853754\n10. 89.2098994737154\n11. 87.4420198275268\n12. 63.8666560253747\n13. 66.011671218976\n14. 66.9455802839796\n15. 27.7235104468562\n16. 77.5181247232919\n17. 54.3634677888484\n18. 105.282025694672\n19. 71.293191127655\n20. 101.059004297371\n21. 155.137109071465\n22. 82.9603629316633\n23. 84.108004420259\n24. 85.7166333889555\n25. 75.4491232315843\n26. 80.0726439402283\n27. 112.921927290257\n28. 147.372940857225\n29. 115.723774038798\n30. 83.6028014266876\n\n\n",
            "text/latex": "\\begin{enumerate*}\n\\item 112.731853200298\n\\item 100.331317692796\n\\item 107.574206067473\n\\item 98.7974000223267\n\\item 100.383752687204\n\\item 112.626411757698\n\\item 117.433733402467\n\\item 123.665384341737\n\\item 78.916306853754\n\\item 89.2098994737154\n\\item 87.4420198275268\n\\item 63.8666560253747\n\\item 66.011671218976\n\\item 66.9455802839796\n\\item 27.7235104468562\n\\item 77.5181247232919\n\\item 54.3634677888484\n\\item 105.282025694672\n\\item 71.293191127655\n\\item 101.059004297371\n\\item 155.137109071465\n\\item 82.9603629316633\n\\item 84.108004420259\n\\item 85.7166333889555\n\\item 75.4491232315843\n\\item 80.0726439402283\n\\item 112.921927290257\n\\item 147.372940857225\n\\item 115.723774038798\n\\item 83.6028014266876\n\\end{enumerate*}\n",
            "text/plain": [
              " [1] 112.73185 100.33132 107.57421  98.79740 100.38375 112.62641 117.43373\n",
              " [8] 123.66538  78.91631  89.20990  87.44202  63.86666  66.01167  66.94558\n",
              "[15]  27.72351  77.51812  54.36347 105.28203  71.29319 101.05900 155.13711\n",
              "[22]  82.96036  84.10800  85.71663  75.44912  80.07264 112.92193 147.37294\n",
              "[29] 115.72377  83.60280"
            ]
          },
          "metadata": {}
        }
      ]
    },
    {
      "cell_type": "code",
      "source": [
        "# And compute sum of squares of deviation from mean of this big group\n",
        "# calling the variable SST - Sum of Squares Total\n",
        "\n",
        "SST <- sum((all_groups - mean(all_groups))^2)\n",
        "SST"
      ],
      "metadata": {
        "colab": {
          "base_uri": "https://localhost:8080/",
          "height": 34
        },
        "id": "P8H_lZ-R-lxk",
        "outputId": "67839a42-b6eb-406c-a0ea-a28e07b754c8"
      },
      "execution_count": 244,
      "outputs": [
        {
          "output_type": "display_data",
          "data": {
            "text/html": [
              "20372.818350952"
            ],
            "text/markdown": "20372.818350952",
            "text/latex": "20372.818350952",
            "text/plain": [
              "[1] 20372.82"
            ]
          },
          "metadata": {}
        }
      ]
    },
    {
      "cell_type": "markdown",
      "source": [
        "This value is greater than or equal to SSW. If SSW and SST are nearly equal, then either their means are close or the variances are high compared to the differences in means. \n"
      ],
      "metadata": {
        "id": "3man5NrvCqMP"
      }
    },
    {
      "cell_type": "code",
      "source": [
        "# Compute difference of these values - SSB, Sum of Squares Between groups\n",
        "\n",
        "SSB <- SST - SSW\n",
        "SSB"
      ],
      "metadata": {
        "colab": {
          "base_uri": "https://localhost:8080/",
          "height": 34
        },
        "id": "GbcPgwJA-l0L",
        "outputId": "e281c136-0d1f-48fe-d7ef-fb65574926ab"
      },
      "execution_count": 245,
      "outputs": [
        {
          "output_type": "display_data",
          "data": {
            "text/html": [
              "6459.67518397813"
            ],
            "text/markdown": "6459.67518397813",
            "text/latex": "6459.67518397813",
            "text/plain": [
              "[1] 6459.675"
            ]
          },
          "metadata": {}
        }
      ]
    },
    {
      "cell_type": "code",
      "source": [
        "# Finaly we need to compute F criterion\n",
        "# Value of 27 is first degree of freedom: number of measurments - number of groups\n",
        "# Value of 2 ks second degree of freedom: number of categories - 1\n",
        "\n",
        "Fe <- (SSB*27)/(SSW*2)\n",
        "Fe"
      ],
      "metadata": {
        "id": "tcSEXcqlPHSb",
        "colab": {
          "base_uri": "https://localhost:8080/",
          "height": 34
        },
        "outputId": "63f88184-4538-40e0-d418-3f1e7a52d563"
      },
      "execution_count": 246,
      "outputs": [
        {
          "output_type": "display_data",
          "data": {
            "text/html": [
              "6.26785866695512"
            ],
            "text/markdown": "6.26785866695512",
            "text/latex": "6.26785866695512",
            "text/plain": [
              "[1] 6.267859"
            ]
          },
          "metadata": {}
        }
      ]
    },
    {
      "cell_type": "code",
      "source": [],
      "metadata": {
        "id": "PIrjcxx2EXe2"
      },
      "execution_count": 247,
      "outputs": []
    },
    {
      "cell_type": "code",
      "source": [
        "# le't get the criterion threshold for our degrees of freedom\n",
        "\n",
        "qf(p=0.95, df1=2, df2=27)"
      ],
      "metadata": {
        "colab": {
          "base_uri": "https://localhost:8080/",
          "height": 34
        },
        "id": "G9omLcpeDp5z",
        "outputId": "7f0ac904-ecb9-49c6-95a8-d8a8bb1ec6aa"
      },
      "execution_count": 248,
      "outputs": [
        {
          "output_type": "display_data",
          "data": {
            "text/html": [
              "3.3541308285292"
            ],
            "text/markdown": "3.3541308285292",
            "text/latex": "3.3541308285292",
            "text/plain": [
              "[1] 3.354131"
            ]
          },
          "metadata": {}
        }
      ]
    },
    {
      "cell_type": "markdown",
      "source": [
        "The obtained value is lower then F, we can refuse null hypothesis. There is a difference between the three groups."
      ],
      "metadata": {
        "id": "zkLnLmCSD1TU"
      }
    },
    {
      "cell_type": "markdown",
      "source": [
        "Let' try with r aov() function.\n",
        "\n"
      ],
      "metadata": {
        "id": "82RVv3mLEaHq"
      }
    },
    {
      "cell_type": "code",
      "source": [
        "labels <- gl(3, 10)\n",
        "labels"
      ],
      "metadata": {
        "colab": {
          "base_uri": "https://localhost:8080/",
          "height": 52
        },
        "id": "lX8nRT8zEYmU",
        "outputId": "fdc46975-abc2-4f66-8baa-e53663cebdf0"
      },
      "execution_count": 42,
      "outputs": [
        {
          "output_type": "display_data",
          "data": {
            "text/html": [
              "<style>\n",
              ".list-inline {list-style: none; margin:0; padding: 0}\n",
              ".list-inline>li {display: inline-block}\n",
              ".list-inline>li:not(:last-child)::after {content: \"\\00b7\"; padding: 0 .5ex}\n",
              "</style>\n",
              "<ol class=list-inline><li>1</li><li>1</li><li>1</li><li>1</li><li>1</li><li>1</li><li>1</li><li>1</li><li>1</li><li>1</li><li>2</li><li>2</li><li>2</li><li>2</li><li>2</li><li>2</li><li>2</li><li>2</li><li>2</li><li>2</li><li>3</li><li>3</li><li>3</li><li>3</li><li>3</li><li>3</li><li>3</li><li>3</li><li>3</li><li>3</li></ol>\n",
              "\n",
              "<details>\n",
              "\t<summary style=display:list-item;cursor:pointer>\n",
              "\t\t<strong>Levels</strong>:\n",
              "\t</summary>\n",
              "\t<style>\n",
              "\t.list-inline {list-style: none; margin:0; padding: 0}\n",
              "\t.list-inline>li {display: inline-block}\n",
              "\t.list-inline>li:not(:last-child)::after {content: \"\\00b7\"; padding: 0 .5ex}\n",
              "\t</style>\n",
              "\t<ol class=list-inline><li>'1'</li><li>'2'</li><li>'3'</li></ol>\n",
              "</details>"
            ],
            "text/markdown": "1. 1\n2. 1\n3. 1\n4. 1\n5. 1\n6. 1\n7. 1\n8. 1\n9. 1\n10. 1\n11. 2\n12. 2\n13. 2\n14. 2\n15. 2\n16. 2\n17. 2\n18. 2\n19. 2\n20. 2\n21. 3\n22. 3\n23. 3\n24. 3\n25. 3\n26. 3\n27. 3\n28. 3\n29. 3\n30. 3\n\n\n\n**Levels**: 1. '1'\n2. '2'\n3. '3'\n\n\n",
            "text/latex": "\\begin{enumerate*}\n\\item 1\n\\item 1\n\\item 1\n\\item 1\n\\item 1\n\\item 1\n\\item 1\n\\item 1\n\\item 1\n\\item 1\n\\item 2\n\\item 2\n\\item 2\n\\item 2\n\\item 2\n\\item 2\n\\item 2\n\\item 2\n\\item 2\n\\item 2\n\\item 3\n\\item 3\n\\item 3\n\\item 3\n\\item 3\n\\item 3\n\\item 3\n\\item 3\n\\item 3\n\\item 3\n\\end{enumerate*}\n\n\\emph{Levels}: \\begin{enumerate*}\n\\item '1'\n\\item '2'\n\\item '3'\n\\end{enumerate*}\n",
            "text/plain": [
              " [1] 1 1 1 1 1 1 1 1 1 1 2 2 2 2 2 2 2 2 2 2 3 3 3 3 3 3 3 3 3 3\n",
              "Levels: 1 2 3"
            ]
          },
          "metadata": {}
        }
      ]
    },
    {
      "cell_type": "code",
      "source": [
        "model <- aov(all_groups ~ labels)\n",
        "model"
      ],
      "metadata": {
        "colab": {
          "base_uri": "https://localhost:8080/",
          "height": 200
        },
        "id": "lVbWYdj1EYo8",
        "outputId": "7e9f6351-422a-4f1f-fdd2-eec835d95aec"
      },
      "execution_count": 41,
      "outputs": [
        {
          "output_type": "display_data",
          "data": {
            "text/plain": [
              "Call:\n",
              "   aov(formula = all_groups ~ labels)\n",
              "\n",
              "Terms:\n",
              "                   labels Residuals\n",
              "Sum of Squares   8230.196 14049.226\n",
              "Deg. of Freedom         2        27\n",
              "\n",
              "Residual standard error: 22.811\n",
              "Estimated effects may be unbalanced"
            ]
          },
          "metadata": {}
        }
      ]
    },
    {
      "cell_type": "code",
      "source": [
        "summary(model)"
      ],
      "metadata": {
        "colab": {
          "base_uri": "https://localhost:8080/",
          "height": 108
        },
        "id": "oySe9LwpEYrX",
        "outputId": "6e70796a-40d9-4e18-91e0-dd5d7c16730b"
      },
      "execution_count": 44,
      "outputs": [
        {
          "output_type": "display_data",
          "data": {
            "text/plain": [
              "            Df Sum Sq Mean Sq F value  Pr(>F)   \n",
              "labels       2   8230    4115   7.908 0.00198 **\n",
              "Residuals   27  14049     520                   \n",
              "---\n",
              "Signif. codes:  0 ‘***’ 0.001 ‘**’ 0.01 ‘*’ 0.05 ‘.’ 0.1 ‘ ’ 1"
            ]
          },
          "metadata": {}
        }
      ]
    },
    {
      "cell_type": "markdown",
      "source": [
        "At this moment we know there is a difference between the three groups, but we don't know what groups differ. Ultimately we would like to find out, whether the compound we used as a new drug works. We know that using pair test is not the best method, the solution is to use Tukey test HSD (Honest significance Difference) - TukeyHSD()."
      ],
      "metadata": {
        "id": "8kuSLNdrH33W"
      }
    },
    {
      "cell_type": "code",
      "source": [
        "TukeyHSD(model)"
      ],
      "metadata": {
        "colab": {
          "base_uri": "https://localhost:8080/",
          "height": 200
        },
        "id": "ui-rgtvvEYuL",
        "outputId": "6cf246db-f681-447e-821c-4b54321f2362"
      },
      "execution_count": 45,
      "outputs": [
        {
          "output_type": "display_data",
          "data": {
            "text/plain": [
              "  Tukey multiple comparisons of means\n",
              "    95% family-wise confidence level\n",
              "\n",
              "Fit: aov(formula = all_groups ~ labels)\n",
              "\n",
              "$labels\n",
              "         diff        lwr       upr     p adj\n",
              "2-1 -39.33339 -64.626890 -14.03988 0.0018153\n",
              "3-1 -11.05316 -36.346660  14.24035 0.5322422\n",
              "3-2  28.28023   2.986725  53.57373 0.0261040\n"
            ]
          },
          "metadata": {}
        }
      ]
    },
    {
      "cell_type": "markdown",
      "source": [
        "This test will do pair comparison and if the p adj is lower then chosen $\\alpha$ We can consider these groups as differing. In our case $\\alpha$ = 0.05, so from the table we can see that group 2-1 and 3-2 are different, that means that test showed significant difference between drug and other groups. "
      ],
      "metadata": {
        "id": "QNZfbjfnIrex"
      }
    },
    {
      "cell_type": "code",
      "source": [
        "# We can also plot the output of the TukeyHSD test\n",
        "\n",
        "plot(TukeyHSD(model))"
      ],
      "metadata": {
        "colab": {
          "base_uri": "https://localhost:8080/",
          "height": 437
        },
        "id": "c6Jl0IhrJbEG",
        "outputId": "2f41e523-41eb-4199-e5d3-22bf1395d8de"
      },
      "execution_count": 46,
      "outputs": [
        {
          "output_type": "display_data",
          "data": {
            "text/plain": [
              "Plot with title “95% family-wise confidence level\n",
              "”"
            ],
            "image/png": "[encoded data removed]"
          },
          "metadata": {
            "image/png": {
              "width": 420,
              "height": 420
            }
          }
        }
      ]
    },
    {
      "cell_type": "markdown",
      "source": [
        "Here we can see the corresponding confidence intervals for the differences of the individual means in all comparisons. If the confidence interval does not contain zero, we can reject the null hypothesis at a given significance level for a given pair and say that the two groups are significantly different from each other."
      ],
      "metadata": {
        "id": "r5oMjiLFft5e"
      }
    },
    {
      "cell_type": "markdown",
      "source": [
        "Exercise:<br>\n",
        "Analyse the following salami data to decide whether there is a difference from nutrition point of view between these type of salamis.<br>"
      ],
      "metadata": {
        "id": "u6LvGU6cSHT9"
      }
    },
    {
      "cell_type": "code",
      "source": [
        "df_dogs <- read.csv(\"https://raw.githubusercontent.com/lich-uct/r_tutorial/56e08976134ebbfaa7739e244306650841c204a9/08/dogs.csv\", \n",
        "                    header=T, sep =\",\", stringsAsFactors=T) # import the column 'Type' as factor\n",
        "\n",
        "head(df_dogs)\n",
        "dim(df_dogs)"
      ],
      "metadata": {
        "colab": {
          "base_uri": "https://localhost:8080/",
          "height": 303
        },
        "id": "ri0xNznWJbNn",
        "outputId": "252196fe-e8cd-4339-cbd6-3cd2bec29213"
      },
      "execution_count": 58,
      "outputs": [
        {
          "output_type": "display_data",
          "data": {
            "text/html": [
              "<table class=\"dataframe\">\n",
              "<caption>A data.frame: 6 × 3</caption>\n",
              "<thead>\n",
              "\t<tr><th></th><th scope=col>Type</th><th scope=col>Calories</th><th scope=col>Sodium</th></tr>\n",
              "\t<tr><th></th><th scope=col>&lt;fct&gt;</th><th scope=col>&lt;int&gt;</th><th scope=col>&lt;int&gt;</th></tr>\n",
              "</thead>\n",
              "<tbody>\n",
              "\t<tr><th scope=row>1</th><td>Beef</td><td>186</td><td>495</td></tr>\n",
              "\t<tr><th scope=row>2</th><td>Beef</td><td>181</td><td>477</td></tr>\n",
              "\t<tr><th scope=row>3</th><td>Beef</td><td>176</td><td>425</td></tr>\n",
              "\t<tr><th scope=row>4</th><td>Beef</td><td>149</td><td>322</td></tr>\n",
              "\t<tr><th scope=row>5</th><td>Beef</td><td>184</td><td>482</td></tr>\n",
              "\t<tr><th scope=row>6</th><td>Beef</td><td>190</td><td>587</td></tr>\n",
              "</tbody>\n",
              "</table>\n"
            ],
            "text/markdown": "\nA data.frame: 6 × 3\n\n| <!--/--> | Type &lt;fct&gt; | Calories &lt;int&gt; | Sodium &lt;int&gt; |\n|---|---|---|---|\n| 1 | Beef | 186 | 495 |\n| 2 | Beef | 181 | 477 |\n| 3 | Beef | 176 | 425 |\n| 4 | Beef | 149 | 322 |\n| 5 | Beef | 184 | 482 |\n| 6 | Beef | 190 | 587 |\n\n",
            "text/latex": "A data.frame: 6 × 3\n\\begin{tabular}{r|lll}\n  & Type & Calories & Sodium\\\\\n  & <fct> & <int> & <int>\\\\\n\\hline\n\t1 & Beef & 186 & 495\\\\\n\t2 & Beef & 181 & 477\\\\\n\t3 & Beef & 176 & 425\\\\\n\t4 & Beef & 149 & 322\\\\\n\t5 & Beef & 184 & 482\\\\\n\t6 & Beef & 190 & 587\\\\\n\\end{tabular}\n",
            "text/plain": [
              "  Type Calories Sodium\n",
              "1 Beef 186      495   \n",
              "2 Beef 181      477   \n",
              "3 Beef 176      425   \n",
              "4 Beef 149      322   \n",
              "5 Beef 184      482   \n",
              "6 Beef 190      587   "
            ]
          },
          "metadata": {}
        },
        {
          "output_type": "display_data",
          "data": {
            "text/html": [
              "<style>\n",
              ".list-inline {list-style: none; margin:0; padding: 0}\n",
              ".list-inline>li {display: inline-block}\n",
              ".list-inline>li:not(:last-child)::after {content: \"\\00b7\"; padding: 0 .5ex}\n",
              "</style>\n",
              "<ol class=list-inline><li>54</li><li>3</li></ol>\n"
            ],
            "text/markdown": "1. 54\n2. 3\n\n\n",
            "text/latex": "\\begin{enumerate*}\n\\item 54\n\\item 3\n\\end{enumerate*}\n",
            "text/plain": [
              "[1] 54  3"
            ]
          },
          "metadata": {}
        }
      ]
    },
    {
      "cell_type": "code",
      "source": [
        "levels(df_dogs$Type)"
      ],
      "metadata": {
        "colab": {
          "base_uri": "https://localhost:8080/",
          "height": 34
        },
        "id": "X1kY1k21JbQR",
        "outputId": "956965a7-4fa9-4f7f-e7b4-d68371af7417"
      },
      "execution_count": 59,
      "outputs": [
        {
          "output_type": "display_data",
          "data": {
            "text/html": [
              "<style>\n",
              ".list-inline {list-style: none; margin:0; padding: 0}\n",
              ".list-inline>li {display: inline-block}\n",
              ".list-inline>li:not(:last-child)::after {content: \"\\00b7\"; padding: 0 .5ex}\n",
              "</style>\n",
              "<ol class=list-inline><li>'Beef'</li><li>'Meat'</li><li>'Poultry'</li></ol>\n"
            ],
            "text/markdown": "1. 'Beef'\n2. 'Meat'\n3. 'Poultry'\n\n\n",
            "text/latex": "\\begin{enumerate*}\n\\item 'Beef'\n\\item 'Meat'\n\\item 'Poultry'\n\\end{enumerate*}\n",
            "text/plain": [
              "[1] \"Beef\"    \"Meat\"    \"Poultry\""
            ]
          },
          "metadata": {}
        }
      ]
    },
    {
      "cell_type": "markdown",
      "source": [
        "We need to perform two types of analysis of variances, one for Calories and one for Sodium."
      ],
      "metadata": {
        "id": "9LoXGgTSUhPs"
      }
    },
    {
      "cell_type": "code",
      "source": [
        "cals_total <- df_dogs$Calories\n",
        "cals_beef <- df_dogs[df_dogs$Type == \"Beef\", \"Calories\"]\n",
        "cals_poultry <- df_dogs[df_dogs$Type == \"Poultry\", \"Calories\"]\n",
        "cals_meat <- df_dogs[df_dogs$Type == \"Meat\", \"Calories\"]\n",
        "\n",
        "length(cals_beef)\n",
        "length(cals_poultry)\n",
        "length(cals_meat)\n",
        "\n",
        "boxplot(\n",
        "    cals_beef\n",
        "    , cals_poultry\n",
        "    , cals_meat\n",
        "    , names = c(\"Beef\", \"Poultry\", \"Meat\")\n",
        "    , ylab = \"Calories\"\n",
        ")"
      ],
      "metadata": {
        "colab": {
          "base_uri": "https://localhost:8080/",
          "height": 489
        },
        "id": "YueTIP_mJbSh",
        "outputId": "e2e2b307-281f-485e-e1f4-844f8abcd151"
      },
      "execution_count": 250,
      "outputs": [
        {
          "output_type": "display_data",
          "data": {
            "text/html": [
              "20"
            ],
            "text/markdown": "20",
            "text/latex": "20",
            "text/plain": [
              "[1] 20"
            ]
          },
          "metadata": {}
        },
        {
          "output_type": "display_data",
          "data": {
            "text/html": [
              "17"
            ],
            "text/markdown": "17",
            "text/latex": "17",
            "text/plain": [
              "[1] 17"
            ]
          },
          "metadata": {}
        },
        {
          "output_type": "display_data",
          "data": {
            "text/html": [
              "17"
            ],
            "text/markdown": "17",
            "text/latex": "17",
            "text/plain": [
              "[1] 17"
            ]
          },
          "metadata": {}
        },
        {
          "output_type": "display_data",
          "data": {
            "text/plain": [
              "plot without title"
            ],
            "image/png": "[encoded data removed]"
          },
          "metadata": {
            "image/png": {
              "width": 420,
              "height": 420
            }
          }
        }
      ]
    },
    {
      "cell_type": "code",
      "source": [
        "mean_cals_total <- mean(cals_total) \n",
        "mean_cals_beef <- mean(cals_beef) \n",
        "mean_cals_poultry <- mean(cals_poultry)\n",
        "mean_cals_meat <- mean(cals_meat) \n",
        "\n",
        "N <- length(cals_total) \n",
        "J <- length(levels(df_dogs$Type)) #\n",
        "\n",
        "# SS within group\n",
        "ss_w <- sum(\n",
        "    c(\n",
        "        sum((cals_beef - mean_cals_beef)^2)\n",
        "        , sum((cals_poultry - mean_cals_poultry)^2)\n",
        "        , sum((cals_meat - mean_cals_meat)^2)\n",
        "    )\n",
        ")\n",
        "# SS total\n",
        "ss_t <- sum((cals_total - mean_cals_total)^2)\n",
        "# SS squares between group\n",
        "ss_b <- ss_t - ss_w\n",
        "\n",
        "# degrees of freedom\n",
        "f_b <- J - 1\n",
        "f_w <- N - J\n",
        "\n",
        "# F ratio\n",
        "Fe = (ss_b / f_b) / (ss_w / f_w)\n",
        "Fe"
      ],
      "metadata": {
        "colab": {
          "base_uri": "https://localhost:8080/",
          "height": 34
        },
        "id": "NH1IeX2pU0mH",
        "outputId": "46c3a96f-dc1e-4190-a04e-99a316dccc57"
      },
      "execution_count": 252,
      "outputs": [
        {
          "output_type": "display_data",
          "data": {
            "text/html": [
              "16.0739926962943"
            ],
            "text/markdown": "16.0739926962943",
            "text/latex": "16.0739926962943",
            "text/plain": [
              "[1] 16.07399"
            ]
          },
          "metadata": {}
        }
      ]
    },
    {
      "cell_type": "code",
      "source": [
        "# pf() is a tool to get distribution function for F-ditribution:\n",
        "\n",
        "p_val <- 1 - pf(FE, f_b, f_w)\n",
        "p_val"
      ],
      "metadata": {
        "colab": {
          "base_uri": "https://localhost:8080/",
          "height": 34
        },
        "id": "gIAmL4RCU0oz",
        "outputId": "1daa49d0-e915-42b7-833d-de9d13c4558c"
      },
      "execution_count": 253,
      "outputs": [
        {
          "output_type": "display_data",
          "data": {
            "text/html": [
              "3.86207183855625e-06"
            ],
            "text/markdown": "3.86207183855625e-06",
            "text/latex": "3.86207183855625e-06",
            "text/plain": [
              "[1] 3.862072e-06"
            ]
          },
          "metadata": {}
        }
      ]
    },
    {
      "cell_type": "code",
      "source": [
        "F_range <- seq(0, 10, 0.1)\n",
        "plot(F_range, pf(F_range, f_b, f_w), type='l')"
      ],
      "metadata": {
        "colab": {
          "base_uri": "https://localhost:8080/",
          "height": 437
        },
        "id": "1SBHS4EnU0re",
        "outputId": "2e394679-d47c-4f8f-fedc-e1d66f2d3b73"
      },
      "execution_count": 65,
      "outputs": [
        {
          "output_type": "display_data",
          "data": {
            "text/plain": [
              "plot without title"
            ],
            "image/png": "[encoded data removed]"
          },
          "metadata": {
            "image/png": {
              "width": 420,
              "height": 420
            }
          }
        }
      ]
    },
    {
      "cell_type": "markdown",
      "source": [
        "This p-value is of high statistical significance and we can refuse the null hypothesis. But again, we can only say that the groups differs, but we don't know which groups. This information can be obtained using post-hoc tests."
      ],
      "metadata": {
        "id": "itYrVf7qWG7o"
      }
    },
    {
      "cell_type": "markdown",
      "source": [
        "Now for the second tests analysis of variance. Next independent variable is amount of sodium. Let's find out whether some salami are more salty then others."
      ],
      "metadata": {
        "id": "J405xz2FWHBE"
      }
    },
    {
      "cell_type": "code",
      "source": [
        "df_dogs_split <- split(df_dogs, df_dogs$Type)\n",
        "boxplot(\n",
        "    df_dogs_split$Beef$Sodium\n",
        "    , df_dogs_split$Poultry$Sodium\n",
        "    , df_dogs_split$Meat$Sodium\n",
        "    , names = c(\"Beef\", \"Poultry\", \"Meat\")\n",
        "    , ylab = \"Sodium\"\n",
        ")"
      ],
      "metadata": {
        "colab": {
          "base_uri": "https://localhost:8080/",
          "height": 437
        },
        "id": "ZI_ubzI4U0u_",
        "outputId": "45d70f4f-846f-4230-8664-2002380b387e"
      },
      "execution_count": 255,
      "outputs": [
        {
          "output_type": "display_data",
          "data": {
            "text/plain": [
              "plot without title"
            ],
            "image/png": "[encoded data removed]"
          },
          "metadata": {
            "image/png": {
              "width": 420,
              "height": 420
            }
          }
        }
      ]
    },
    {
      "cell_type": "code",
      "source": [
        "test_sum <- summary(aov(df_dogs$Sodium ~ df_dogs$Type))\n",
        "test_sum"
      ],
      "metadata": {
        "colab": {
          "base_uri": "https://localhost:8080/",
          "height": 72
        },
        "id": "Bdl-DmmDU0xi",
        "outputId": "f45c43f5-b492-4c8a-e0b8-29846b8e21fc"
      },
      "execution_count": 262,
      "outputs": [
        {
          "output_type": "display_data",
          "data": {
            "text/plain": [
              "             Df Sum Sq Mean Sq F value Pr(>F)\n",
              "df_dogs$Type  2  31739   15869   1.778  0.179\n",
              "Residuals    51 455249    8926               "
            ]
          },
          "metadata": {}
        }
      ]
    },
    {
      "cell_type": "code",
      "source": [
        "Fe <- test_sum[[1]][1,4]"
      ],
      "metadata": {
        "id": "JDaNa7zuIU4Y"
      },
      "execution_count": 270,
      "outputs": []
    },
    {
      "cell_type": "code",
      "source": [
        "dist_f(f=Fe, deg.f1=2, deg.f2=51)"
      ],
      "metadata": {
        "colab": {
          "base_uri": "https://localhost:8080/",
          "height": 437
        },
        "id": "sDDpak9eIQwW",
        "outputId": "0e977cbd-b00b-4188-bad7-14a54687786a"
      },
      "execution_count": 273,
      "outputs": [
        {
          "output_type": "display_data",
          "data": {
            "text/plain": [
              "plot without title"
            ],
            "image/png": "[encoded data removed]"
          },
          "metadata": {
            "image/png": {
              "width": 420,
              "height": 420
            }
          }
        }
      ]
    },
    {
      "cell_type": "markdown",
      "source": [
        "Here we can not refuse null hypothesis, maybe removing the outlier from the meat group could change the results of ANOVA. "
      ],
      "metadata": {
        "id": "tV77fnXqXNzi"
      }
    },
    {
      "cell_type": "code",
      "source": [
        "library('dplyr')\n",
        "\n",
        "df_sodium_dogs <- subset(df_dogs, select=c('Type', 'Sodium'))\n",
        "df_sodium_dogs <- filter(df_sodium_dogs, Sodium > 200)\n",
        "\n",
        "df_dogs_split <- split(df_sodium_dogs, df_sodium_dogs$Type)\n",
        "boxplot(\n",
        "    df_dogs_split$Beef$Sodium\n",
        "    , df_dogs_split$Poultry$Sodium\n",
        "    , df_dogs_split$Meat$Sodium\n",
        "    , names = c(\"Beef\", \"Poultry\", \"Meat\")\n",
        "    , ylab = \"Sodium\"\n",
        ")"
      ],
      "metadata": {
        "colab": {
          "base_uri": "https://localhost:8080/",
          "height": 437
        },
        "id": "5LOKAt5iXell",
        "outputId": "0a77e0c3-2e52-4725-e228-0a2cb896b0fa"
      },
      "execution_count": 275,
      "outputs": [
        {
          "output_type": "display_data",
          "data": {
            "text/plain": [
              "plot without title"
            ],
            "image/png": "[encoded data removed]"
          },
          "metadata": {
            "image/png": {
              "width": 420,
              "height": 420
            }
          }
        }
      ]
    },
    {
      "cell_type": "code",
      "source": [
        "test_summary <- summary(aov(df_sodium_dogs$Sodium ~ df_sodium_dogs$Type))\n",
        "test_summary"
      ],
      "metadata": {
        "colab": {
          "base_uri": "https://localhost:8080/",
          "height": 72
        },
        "id": "JtifPvk0aYLa",
        "outputId": "9d766d3f-70e6-4e5c-ebb9-fbdc96369e84"
      },
      "execution_count": 276,
      "outputs": [
        {
          "output_type": "display_data",
          "data": {
            "text/plain": [
              "                    Df Sum Sq Mean Sq F value Pr(>F)\n",
              "df_sodium_dogs$Type  2  31460   15730   2.096  0.134\n",
              "Residuals           50 375172    7503               "
            ]
          },
          "metadata": {}
        }
      ]
    },
    {
      "cell_type": "code",
      "source": [
        "Fe <- test_summary[[1]][1,4]\n",
        "dist_f(f=Fe, deg.f1=2, deg.f2=50)"
      ],
      "metadata": {
        "colab": {
          "base_uri": "https://localhost:8080/",
          "height": 437
        },
        "id": "8TgZydjsH4Ni",
        "outputId": "40cbb996-669e-4a36-f580-ac921979a8b0"
      },
      "execution_count": 278,
      "outputs": [
        {
          "output_type": "display_data",
          "data": {
            "text/plain": [
              "plot without title"
            ],
            "image/png": "[encoded data removed]"
          },
          "metadata": {
            "image/png": {
              "width": 420,
              "height": 420
            }
          }
        }
      ]
    },
    {
      "cell_type": "markdown",
      "source": [
        "Removing outlier did not help. We can not refuse null hypothesis."
      ],
      "metadata": {
        "id": "6C5tk2NLahCc"
      }
    },
    {
      "cell_type": "markdown",
      "source": [
        "### Post-hoc analysis\n",
        "<br>\n",
        "Let's get back to the amount of calories in different types of salami. Now we would like to know which groups differ. We know we can not perfom pair t-tests due to higher probability of Type I error. This problem can be solved using some type correction. There are several possibilities, first one is Bonferonni correction. It works as follows, we can lower the $\\alpha$ dividing the original value by number of tests p: $\\frac{\\alpha}{p}$<br>\n",
        "This method is highly problematic, because real probability is usualy much lower and the whole procedure does not have good statistical power. Usualy the individual tests will have such small α that they will not - incorrectly refuce the null hypothesis.  "
      ],
      "metadata": {
        "id": "lszeTwp1XN6x"
      }
    },
    {
      "cell_type": "code",
      "source": [
        "# this would be adjusted p-value for pair t-test\n",
        "adjusted_p <- 0.05 / 3\n",
        "adjusted_p"
      ],
      "metadata": {
        "colab": {
          "base_uri": "https://localhost:8080/",
          "height": 34
        },
        "id": "d0UOg_UDJbU1",
        "outputId": "05282c86-352f-4ebd-fb05-46ff12ed0bce"
      },
      "execution_count": 87,
      "outputs": [
        {
          "output_type": "display_data",
          "data": {
            "text/html": [
              "0.0166666666666667"
            ],
            "text/markdown": "0.0166666666666667",
            "text/latex": "0.0166666666666667",
            "text/plain": [
              "[1] 0.01666667"
            ]
          },
          "metadata": {}
        }
      ]
    },
    {
      "cell_type": "code",
      "source": [
        "# same effect can be achieved by multiplying each p-value by three\n",
        "\n",
        "p_vals <- c(\n",
        "    t.test(cals_beef, cals_poultry)$p.value\n",
        "    , t.test(cals_beef, cals_meat)$p.value\n",
        "    , t.test(cals_meat, cals_poultry)$p.value\n",
        ")\n",
        "p_vals * 3"
      ],
      "metadata": {
        "colab": {
          "base_uri": "https://localhost:8080/",
          "height": 34
        },
        "id": "fgPfreUQdodN",
        "outputId": "dbd6ed44-ccc4-4857-d7a4-49fdc753e61b"
      },
      "execution_count": 88,
      "outputs": [
        {
          "output_type": "display_data",
          "data": {
            "text/html": [
              "<style>\n",
              ".list-inline {list-style: none; margin:0; padding: 0}\n",
              ".list-inline>li {display: inline-block}\n",
              ".list-inline>li:not(:last-child)::after {content: \"\\00b7\"; padding: 0 .5ex}\n",
              "</style>\n",
              "<ol class=list-inline><li>3.68603077052987e-05</li><li>2.45017350350629</li><li>9.05185706244107e-05</li></ol>\n"
            ],
            "text/markdown": "1. 3.68603077052987e-05\n2. 2.45017350350629\n3. 9.05185706244107e-05\n\n\n",
            "text/latex": "\\begin{enumerate*}\n\\item 3.68603077052987e-05\n\\item 2.45017350350629\n\\item 9.05185706244107e-05\n\\end{enumerate*}\n",
            "text/plain": [
              "[1] 3.686031e-05 2.450174e+00 9.051857e-05"
            ]
          },
          "metadata": {}
        }
      ]
    },
    {
      "cell_type": "code",
      "source": [
        "# r have function p.adjust() for such adjustment\n",
        "\n",
        "p.adjust(p_vals,  method = \"bonferroni\")"
      ],
      "metadata": {
        "colab": {
          "base_uri": "https://localhost:8080/",
          "height": 34
        },
        "id": "gBqm-2kzd1GO",
        "outputId": "0f0a5785-2c8e-431b-dbbe-55771233c1c5"
      },
      "execution_count": 89,
      "outputs": [
        {
          "output_type": "display_data",
          "data": {
            "text/html": [
              "<style>\n",
              ".list-inline {list-style: none; margin:0; padding: 0}\n",
              ".list-inline>li {display: inline-block}\n",
              ".list-inline>li:not(:last-child)::after {content: \"\\00b7\"; padding: 0 .5ex}\n",
              "</style>\n",
              "<ol class=list-inline><li>3.68603077052987e-05</li><li>1</li><li>9.05185706244107e-05</li></ol>\n"
            ],
            "text/markdown": "1. 3.68603077052987e-05\n2. 1\n3. 9.05185706244107e-05\n\n\n",
            "text/latex": "\\begin{enumerate*}\n\\item 3.68603077052987e-05\n\\item 1\n\\item 9.05185706244107e-05\n\\end{enumerate*}\n",
            "text/plain": [
              "[1] 3.686031e-05 1.000000e+00 9.051857e-05"
            ]
          },
          "metadata": {}
        }
      ]
    },
    {
      "cell_type": "code",
      "source": [
        "# R has a function for pairwise t.tests\n",
        "# https://www.rdocumentation.org/packages/stats/versions/3.6.2/topics/pairwise.t.test\n",
        "\n",
        "result <- pairwise.t.test(\n",
        "    df_dogs$Calories\n",
        "    , df_dogs$Type\n",
        "    , p.adjust.method = \"bonferroni\"\n",
        "    , pool.sd=FALSE\n",
        ")\n",
        "result$p.value"
      ],
      "metadata": {
        "colab": {
          "base_uri": "https://localhost:8080/",
          "height": 129
        },
        "id": "faCbBSCyeCFo",
        "outputId": "dd9f296b-232e-4a02-de0e-af31c45dfb59"
      },
      "execution_count": 91,
      "outputs": [
        {
          "output_type": "display_data",
          "data": {
            "text/html": [
              "<table class=\"dataframe\">\n",
              "<caption>A matrix: 2 × 2 of type dbl</caption>\n",
              "<thead>\n",
              "\t<tr><th></th><th scope=col>Beef</th><th scope=col>Meat</th></tr>\n",
              "</thead>\n",
              "<tbody>\n",
              "\t<tr><th scope=row>Meat</th><td>1.000000e+00</td><td>          NA</td></tr>\n",
              "\t<tr><th scope=row>Poultry</th><td>3.686031e-05</td><td>9.051857e-05</td></tr>\n",
              "</tbody>\n",
              "</table>\n"
            ],
            "text/markdown": "\nA matrix: 2 × 2 of type dbl\n\n| <!--/--> | Beef | Meat |\n|---|---|---|\n| Meat | 1.000000e+00 |           NA |\n| Poultry | 3.686031e-05 | 9.051857e-05 |\n\n",
            "text/latex": "A matrix: 2 × 2 of type dbl\n\\begin{tabular}{r|ll}\n  & Beef & Meat\\\\\n\\hline\n\tMeat & 1.000000e+00 &           NA\\\\\n\tPoultry & 3.686031e-05 & 9.051857e-05\\\\\n\\end{tabular}\n",
            "text/plain": [
              "        Beef         Meat        \n",
              "Meat    1.000000e+00           NA\n",
              "Poultry 3.686031e-05 9.051857e-05"
            ]
          },
          "metadata": {}
        }
      ]
    },
    {
      "cell_type": "markdown",
      "source": [
        "This approach is problematic because it the type II error - the probability that we will fail to correctly reject null hypothesis. We could end up with an ANOVA that comes out significant but no difference is detected by the post-hoc analysis. The solution is to use Tukey HSD test or use Benjamini-Hochberg p-value adjustment."
      ],
      "metadata": {
        "id": "BLM3256CeZqZ"
      }
    },
    {
      "cell_type": "code",
      "source": [
        "# first let's see try BH p-value adjustment using pair t.test\n",
        "\n",
        "result <- pairwise.t.test(\n",
        "    df_dogs$Calories\n",
        "    , df_dogs$Type\n",
        "    , p.adjust.method = \"BH\"\n",
        "    , pool.sd=FALSE\n",
        ")\n",
        "result$p.value"
      ],
      "metadata": {
        "colab": {
          "base_uri": "https://localhost:8080/",
          "height": 129
        },
        "id": "UGG91LT-uufs",
        "outputId": "ae652418-38b9-4154-85b3-dfd0a9f04093"
      },
      "execution_count": 98,
      "outputs": [
        {
          "output_type": "display_data",
          "data": {
            "text/html": [
              "<table class=\"dataframe\">\n",
              "<caption>A matrix: 2 × 2 of type dbl</caption>\n",
              "<thead>\n",
              "\t<tr><th></th><th scope=col>Beef</th><th scope=col>Meat</th></tr>\n",
              "</thead>\n",
              "<tbody>\n",
              "\t<tr><th scope=row>Meat</th><td>8.167245e-01</td><td>          NA</td></tr>\n",
              "\t<tr><th scope=row>Poultry</th><td>3.686031e-05</td><td>4.525929e-05</td></tr>\n",
              "</tbody>\n",
              "</table>\n"
            ],
            "text/markdown": "\nA matrix: 2 × 2 of type dbl\n\n| <!--/--> | Beef | Meat |\n|---|---|---|\n| Meat | 8.167245e-01 |           NA |\n| Poultry | 3.686031e-05 | 4.525929e-05 |\n\n",
            "text/latex": "A matrix: 2 × 2 of type dbl\n\\begin{tabular}{r|ll}\n  & Beef & Meat\\\\\n\\hline\n\tMeat & 8.167245e-01 &           NA\\\\\n\tPoultry & 3.686031e-05 & 4.525929e-05\\\\\n\\end{tabular}\n",
            "text/plain": [
              "        Beef         Meat        \n",
              "Meat    8.167245e-01           NA\n",
              "Poultry 3.686031e-05 4.525929e-05"
            ]
          },
          "metadata": {}
        }
      ]
    },
    {
      "cell_type": "code",
      "source": [
        "# Now let's use Tukey HSD test\n",
        "\n",
        "model <- TukeyHSD(aov(df_dogs$Calories ~ df_dogs$Type))\n",
        "model$df_dogs"
      ],
      "metadata": {
        "colab": {
          "base_uri": "https://localhost:8080/",
          "height": 161
        },
        "id": "srTcy7cYeNFr",
        "outputId": "ca9d90dd-75a8-46a8-8b84-0273b63e7fc0"
      },
      "execution_count": 95,
      "outputs": [
        {
          "output_type": "display_data",
          "data": {
            "text/html": [
              "<table class=\"dataframe\">\n",
              "<caption>A matrix: 3 × 4 of type dbl</caption>\n",
              "<thead>\n",
              "\t<tr><th></th><th scope=col>diff</th><th scope=col>lwr</th><th scope=col>upr</th><th scope=col>p adj</th></tr>\n",
              "</thead>\n",
              "<tbody>\n",
              "\t<tr><th scope=row>Meat-Beef</th><td>  1.855882</td><td>-16.82550</td><td> 20.53726</td><td>9.688129e-01</td></tr>\n",
              "\t<tr><th scope=row>Poultry-Beef</th><td>-38.085294</td><td>-56.76667</td><td>-19.40391</td><td>2.767694e-05</td></tr>\n",
              "\t<tr><th scope=row>Poultry-Meat</th><td>-39.941176</td><td>-59.36515</td><td>-20.51720</td><td>2.390087e-05</td></tr>\n",
              "</tbody>\n",
              "</table>\n"
            ],
            "text/markdown": "\nA matrix: 3 × 4 of type dbl\n\n| <!--/--> | diff | lwr | upr | p adj |\n|---|---|---|---|---|\n| Meat-Beef |   1.855882 | -16.82550 |  20.53726 | 9.688129e-01 |\n| Poultry-Beef | -38.085294 | -56.76667 | -19.40391 | 2.767694e-05 |\n| Poultry-Meat | -39.941176 | -59.36515 | -20.51720 | 2.390087e-05 |\n\n",
            "text/latex": "A matrix: 3 × 4 of type dbl\n\\begin{tabular}{r|llll}\n  & diff & lwr & upr & p adj\\\\\n\\hline\n\tMeat-Beef &   1.855882 & -16.82550 &  20.53726 & 9.688129e-01\\\\\n\tPoultry-Beef & -38.085294 & -56.76667 & -19.40391 & 2.767694e-05\\\\\n\tPoultry-Meat & -39.941176 & -59.36515 & -20.51720 & 2.390087e-05\\\\\n\\end{tabular}\n",
            "text/plain": [
              "             diff       lwr       upr       p adj       \n",
              "Meat-Beef      1.855882 -16.82550  20.53726 9.688129e-01\n",
              "Poultry-Beef -38.085294 -56.76667 -19.40391 2.767694e-05\n",
              "Poultry-Meat -39.941176 -59.36515 -20.51720 2.390087e-05"
            ]
          },
          "metadata": {}
        }
      ]
    },
    {
      "cell_type": "code",
      "source": [
        "# Visual control of confidence interval for each pair\n",
        "\n",
        "plot(model)"
      ],
      "metadata": {
        "colab": {
          "base_uri": "https://localhost:8080/",
          "height": 437
        },
        "id": "J_rxkCISeNIf",
        "outputId": "703bee6d-5d8d-40a9-b12f-dd358bf00363"
      },
      "execution_count": 97,
      "outputs": [
        {
          "output_type": "display_data",
          "data": {
            "text/plain": [
              "Plot with title “95% family-wise confidence level\n",
              "”"
            ],
            "image/png": "[encoded data removed]"
          },
          "metadata": {
            "image/png": {
              "width": 420,
              "height": 420
            }
          }
        }
      ]
    },
    {
      "cell_type": "markdown",
      "source": [
        "Again, if the confidence interval does not contain zero, we can reject the null hypothesis at a given significance level for a given pair and say that the two groups are significantly different from each other."
      ],
      "metadata": {
        "id": "FAt2dfZ3fpNT"
      }
    },
    {
      "cell_type": "markdown",
      "source": [
        "### Influence of more than one factors\n",
        "\n",
        "Next type of task could be testing for influence of more factors:\n",
        "https://web.vscht.cz/~spiwokv/statistika/skripta.pdf page 74\n",
        "<br>\n",
        "<br>\n",
        "\n",
        "Suppose we want to test the effect of \n",
        "of two different compounds on tissue cell growth. These cells require a metabolite, \n",
        "that can be synthesized by two different metabolic pathways. If the cells\n",
        "add an inhibitor of one or the other metabolic pathway to the cells, then we can assume a small\n",
        "or no effect on cell growth, because inhibition of one metabolic pathway will compensate for \n",
        "by the other pathway. Significant inhibition of growth can only be achieved by simultaneous\n",
        "by simultaneous action of inhibitors of both pathways. The design of the experiment may look like this, for example: to the first\n",
        "culture no inhibitor will be added, to the second inhibitor A will be added, to the third inhibitor B will be added and to the fourth both inhibitors will be added simultaneously. For each of the four samples, the\n",
        "three biological replicates will be performed. Let's generate the model data:\n"
      ],
      "metadata": {
        "id": "9LWV5LM50JdG"
      }
    },
    {
      "cell_type": "markdown",
      "source": [
        "Real life example: https://www.ncbi.nlm.nih.gov/pmc/articles/PMC7392756/"
      ],
      "metadata": {
        "id": "p7zU8qUs2vz2"
      }
    },
    {
      "cell_type": "code",
      "source": [
        "none <- rnorm(3, mean=10)\n",
        "justA <- rnorm(3, mean=10)\n",
        "justB <- rnorm(3, mean=10)\n",
        "AandB <- rnorm(3, mean=3)\n",
        "all_groups <- c(none, justA, justB, AandB)\n",
        "boxplot(none, justA, justB, AandB)\n"
      ],
      "metadata": {
        "colab": {
          "base_uri": "https://localhost:8080/",
          "height": 437
        },
        "id": "vwq7bchqeNMX",
        "outputId": "3fe48ccf-bf4e-4307-e669-835b2d184bef"
      },
      "execution_count": 129,
      "outputs": [
        {
          "output_type": "display_data",
          "data": {
            "text/plain": [
              "plot without title"
            ],
            "image/png": "[encoded data removed]"
          },
          "metadata": {
            "image/png": {
              "width": 420,
              "height": 420
            }
          }
        }
      ]
    },
    {
      "cell_type": "code",
      "source": [
        "x <- c('n', 'y', 'n', 'y')\n",
        "addedA <- as.factor(c(rep(x, each=3)))\n",
        "addedA\n",
        "\n",
        "x <- c('n', 'y')\n",
        "addedB <- as.factor(c(rep(x, each=6)))\n",
        "addedB\n",
        "\n",
        "indata <- data.frame(addedA, addedB, all_groups)\n",
        "indata"
      ],
      "metadata": {
        "colab": {
          "base_uri": "https://localhost:8080/",
          "height": 543
        },
        "id": "x76cDy1c3acg",
        "outputId": "a0e31af5-8b03-4417-eb94-acdd1979ca4a"
      },
      "execution_count": 130,
      "outputs": [
        {
          "output_type": "display_data",
          "data": {
            "text/html": [
              "<style>\n",
              ".list-inline {list-style: none; margin:0; padding: 0}\n",
              ".list-inline>li {display: inline-block}\n",
              ".list-inline>li:not(:last-child)::after {content: \"\\00b7\"; padding: 0 .5ex}\n",
              "</style>\n",
              "<ol class=list-inline><li>n</li><li>n</li><li>n</li><li>y</li><li>y</li><li>y</li><li>n</li><li>n</li><li>n</li><li>y</li><li>y</li><li>y</li></ol>\n",
              "\n",
              "<details>\n",
              "\t<summary style=display:list-item;cursor:pointer>\n",
              "\t\t<strong>Levels</strong>:\n",
              "\t</summary>\n",
              "\t<style>\n",
              "\t.list-inline {list-style: none; margin:0; padding: 0}\n",
              "\t.list-inline>li {display: inline-block}\n",
              "\t.list-inline>li:not(:last-child)::after {content: \"\\00b7\"; padding: 0 .5ex}\n",
              "\t</style>\n",
              "\t<ol class=list-inline><li>'n'</li><li>'y'</li></ol>\n",
              "</details>"
            ],
            "text/markdown": "1. n\n2. n\n3. n\n4. y\n5. y\n6. y\n7. n\n8. n\n9. n\n10. y\n11. y\n12. y\n\n\n\n**Levels**: 1. 'n'\n2. 'y'\n\n\n",
            "text/latex": "\\begin{enumerate*}\n\\item n\n\\item n\n\\item n\n\\item y\n\\item y\n\\item y\n\\item n\n\\item n\n\\item n\n\\item y\n\\item y\n\\item y\n\\end{enumerate*}\n\n\\emph{Levels}: \\begin{enumerate*}\n\\item 'n'\n\\item 'y'\n\\end{enumerate*}\n",
            "text/plain": [
              " [1] n n n y y y n n n y y y\n",
              "Levels: n y"
            ]
          },
          "metadata": {}
        },
        {
          "output_type": "display_data",
          "data": {
            "text/html": [
              "<style>\n",
              ".list-inline {list-style: none; margin:0; padding: 0}\n",
              ".list-inline>li {display: inline-block}\n",
              ".list-inline>li:not(:last-child)::after {content: \"\\00b7\"; padding: 0 .5ex}\n",
              "</style>\n",
              "<ol class=list-inline><li>n</li><li>n</li><li>n</li><li>n</li><li>n</li><li>n</li><li>y</li><li>y</li><li>y</li><li>y</li><li>y</li><li>y</li></ol>\n",
              "\n",
              "<details>\n",
              "\t<summary style=display:list-item;cursor:pointer>\n",
              "\t\t<strong>Levels</strong>:\n",
              "\t</summary>\n",
              "\t<style>\n",
              "\t.list-inline {list-style: none; margin:0; padding: 0}\n",
              "\t.list-inline>li {display: inline-block}\n",
              "\t.list-inline>li:not(:last-child)::after {content: \"\\00b7\"; padding: 0 .5ex}\n",
              "\t</style>\n",
              "\t<ol class=list-inline><li>'n'</li><li>'y'</li></ol>\n",
              "</details>"
            ],
            "text/markdown": "1. n\n2. n\n3. n\n4. n\n5. n\n6. n\n7. y\n8. y\n9. y\n10. y\n11. y\n12. y\n\n\n\n**Levels**: 1. 'n'\n2. 'y'\n\n\n",
            "text/latex": "\\begin{enumerate*}\n\\item n\n\\item n\n\\item n\n\\item n\n\\item n\n\\item n\n\\item y\n\\item y\n\\item y\n\\item y\n\\item y\n\\item y\n\\end{enumerate*}\n\n\\emph{Levels}: \\begin{enumerate*}\n\\item 'n'\n\\item 'y'\n\\end{enumerate*}\n",
            "text/plain": [
              " [1] n n n n n n y y y y y y\n",
              "Levels: n y"
            ]
          },
          "metadata": {}
        },
        {
          "output_type": "display_data",
          "data": {
            "text/html": [
              "<table class=\"dataframe\">\n",
              "<caption>A data.frame: 12 × 3</caption>\n",
              "<thead>\n",
              "\t<tr><th scope=col>addedA</th><th scope=col>addedB</th><th scope=col>all_groups</th></tr>\n",
              "\t<tr><th scope=col>&lt;fct&gt;</th><th scope=col>&lt;fct&gt;</th><th scope=col>&lt;dbl&gt;</th></tr>\n",
              "</thead>\n",
              "<tbody>\n",
              "\t<tr><td>n</td><td>n</td><td> 7.652706</td></tr>\n",
              "\t<tr><td>n</td><td>n</td><td>11.324744</td></tr>\n",
              "\t<tr><td>n</td><td>n</td><td> 9.683605</td></tr>\n",
              "\t<tr><td>y</td><td>n</td><td> 8.852379</td></tr>\n",
              "\t<tr><td>y</td><td>n</td><td> 9.077923</td></tr>\n",
              "\t<tr><td>y</td><td>n</td><td> 9.427135</td></tr>\n",
              "\t<tr><td>n</td><td>y</td><td>10.316750</td></tr>\n",
              "\t<tr><td>n</td><td>y</td><td> 9.935723</td></tr>\n",
              "\t<tr><td>n</td><td>y</td><td>10.206562</td></tr>\n",
              "\t<tr><td>y</td><td>y</td><td> 3.138126</td></tr>\n",
              "\t<tr><td>y</td><td>y</td><td> 4.238766</td></tr>\n",
              "\t<tr><td>y</td><td>y</td><td> 4.069925</td></tr>\n",
              "</tbody>\n",
              "</table>\n"
            ],
            "text/markdown": "\nA data.frame: 12 × 3\n\n| addedA &lt;fct&gt; | addedB &lt;fct&gt; | all_groups &lt;dbl&gt; |\n|---|---|---|\n| n | n |  7.652706 |\n| n | n | 11.324744 |\n| n | n |  9.683605 |\n| y | n |  8.852379 |\n| y | n |  9.077923 |\n| y | n |  9.427135 |\n| n | y | 10.316750 |\n| n | y |  9.935723 |\n| n | y | 10.206562 |\n| y | y |  3.138126 |\n| y | y |  4.238766 |\n| y | y |  4.069925 |\n\n",
            "text/latex": "A data.frame: 12 × 3\n\\begin{tabular}{lll}\n addedA & addedB & all\\_groups\\\\\n <fct> & <fct> & <dbl>\\\\\n\\hline\n\t n & n &  7.652706\\\\\n\t n & n & 11.324744\\\\\n\t n & n &  9.683605\\\\\n\t y & n &  8.852379\\\\\n\t y & n &  9.077923\\\\\n\t y & n &  9.427135\\\\\n\t n & y & 10.316750\\\\\n\t n & y &  9.935723\\\\\n\t n & y & 10.206562\\\\\n\t y & y &  3.138126\\\\\n\t y & y &  4.238766\\\\\n\t y & y &  4.069925\\\\\n\\end{tabular}\n",
            "text/plain": [
              "   addedA addedB all_groups\n",
              "1  n      n       7.652706 \n",
              "2  n      n      11.324744 \n",
              "3  n      n       9.683605 \n",
              "4  y      n       8.852379 \n",
              "5  y      n       9.077923 \n",
              "6  y      n       9.427135 \n",
              "7  n      y      10.316750 \n",
              "8  n      y       9.935723 \n",
              "9  n      y      10.206562 \n",
              "10 y      y       3.138126 \n",
              "11 y      y       4.238766 \n",
              "12 y      y       4.069925 "
            ]
          },
          "metadata": {}
        }
      ]
    },
    {
      "cell_type": "markdown",
      "source": [
        "First one factor analysis of variance, where we will test if the cell culture will grow after treatment by A compound or B compound. We are using equation: \n",
        "<br>\n",
        "<br>\n",
        "$                                                  \n",
        "all.groups = a*addedA + b*addedC + c\n",
        "$\n",
        "<br>\n",
        "<br>\n",
        "addedA and addedB are either 1 or 0, depending on which compound was added."
      ],
      "metadata": {
        "id": "-leUHokg4zYg"
      }
    },
    {
      "cell_type": "code",
      "source": [
        "model_1 <- lm(all_groups ~ (addedA + addedB), data=indata)\n",
        "model_1"
      ],
      "metadata": {
        "colab": {
          "base_uri": "https://localhost:8080/",
          "height": 145
        },
        "id": "5fDK7p3w3afX",
        "outputId": "d1c21abd-b99f-413c-80d6-fe1fee949abc"
      },
      "execution_count": 131,
      "outputs": [
        {
          "output_type": "display_data",
          "data": {
            "text/plain": [
              "\n",
              "Call:\n",
              "lm(formula = all_groups ~ (addedA + addedB), data = indata)\n",
              "\n",
              "Coefficients:\n",
              "(Intercept)      addedAy      addedBy  \n",
              "     11.029       -3.386       -2.352  \n"
            ]
          },
          "metadata": {}
        }
      ]
    },
    {
      "cell_type": "code",
      "source": [
        "anova(model_1)"
      ],
      "metadata": {
        "colab": {
          "base_uri": "https://localhost:8080/",
          "height": 192
        },
        "id": "tUEkRBg03ah_",
        "outputId": "1dedb639-fef0-4292-96a0-0c65281454db"
      },
      "execution_count": 132,
      "outputs": [
        {
          "output_type": "display_data",
          "data": {
            "text/html": [
              "<table class=\"dataframe\">\n",
              "<caption>A anova: 3 × 5</caption>\n",
              "<thead>\n",
              "\t<tr><th></th><th scope=col>Df</th><th scope=col>Sum Sq</th><th scope=col>Mean Sq</th><th scope=col>F value</th><th scope=col>Pr(&gt;F)</th></tr>\n",
              "\t<tr><th></th><th scope=col>&lt;int&gt;</th><th scope=col>&lt;dbl&gt;</th><th scope=col>&lt;dbl&gt;</th><th scope=col>&lt;dbl&gt;</th><th scope=col>&lt;dbl&gt;</th></tr>\n",
              "</thead>\n",
              "<tbody>\n",
              "\t<tr><th scope=row>addedA</th><td>1</td><td>34.39444</td><td>34.394436</td><td>9.145440</td><td>0.01438247</td></tr>\n",
              "\t<tr><th scope=row>addedB</th><td>1</td><td>16.59722</td><td>16.597219</td><td>4.413181</td><td>0.06503832</td></tr>\n",
              "\t<tr><th scope=row>Residuals</th><td>9</td><td>33.84746</td><td> 3.760829</td><td>      NA</td><td>        NA</td></tr>\n",
              "</tbody>\n",
              "</table>\n"
            ],
            "text/markdown": "\nA anova: 3 × 5\n\n| <!--/--> | Df &lt;int&gt; | Sum Sq &lt;dbl&gt; | Mean Sq &lt;dbl&gt; | F value &lt;dbl&gt; | Pr(&gt;F) &lt;dbl&gt; |\n|---|---|---|---|---|---|\n| addedA | 1 | 34.39444 | 34.394436 | 9.145440 | 0.01438247 |\n| addedB | 1 | 16.59722 | 16.597219 | 4.413181 | 0.06503832 |\n| Residuals | 9 | 33.84746 |  3.760829 |       NA |         NA |\n\n",
            "text/latex": "A anova: 3 × 5\n\\begin{tabular}{r|lllll}\n  & Df & Sum Sq & Mean Sq & F value & Pr(>F)\\\\\n  & <int> & <dbl> & <dbl> & <dbl> & <dbl>\\\\\n\\hline\n\taddedA & 1 & 34.39444 & 34.394436 & 9.145440 & 0.01438247\\\\\n\taddedB & 1 & 16.59722 & 16.597219 & 4.413181 & 0.06503832\\\\\n\tResiduals & 9 & 33.84746 &  3.760829 &       NA &         NA\\\\\n\\end{tabular}\n",
            "text/plain": [
              "          Df Sum Sq   Mean Sq   F value  Pr(>F)    \n",
              "addedA    1  34.39444 34.394436 9.145440 0.01438247\n",
              "addedB    1  16.59722 16.597219 4.413181 0.06503832\n",
              "Residuals 9  33.84746  3.760829       NA         NA"
            ]
          },
          "metadata": {}
        }
      ]
    },
    {
      "cell_type": "markdown",
      "source": [
        "But we want to also know the effect of both compound at once:\n",
        "<br>\n",
        "<br>\n",
        "$\n",
        "all.groups = a*addedA + b*addedC + c*addedA*addedB + d\n",
        "$\n",
        "<br>\n",
        "<br>"
      ],
      "metadata": {
        "id": "qjpHqxtx3Ztt"
      }
    },
    {
      "cell_type": "code",
      "source": [
        "model_2 <- lm(all_groups~addedA*addedB, data=indata)\n",
        "model_2"
      ],
      "metadata": {
        "id": "_HVFK6IEupaB",
        "colab": {
          "base_uri": "https://localhost:8080/",
          "height": 145
        },
        "outputId": "8a5dc04c-1020-4098-89b0-9fd4df85eee2"
      },
      "execution_count": 133,
      "outputs": [
        {
          "output_type": "display_data",
          "data": {
            "text/plain": [
              "\n",
              "Call:\n",
              "lm(formula = all_groups ~ addedA * addedB, data = indata)\n",
              "\n",
              "Coefficients:\n",
              "    (Intercept)          addedAy          addedBy  addedAy:addedBy  \n",
              "         9.5537          -0.4345           0.5993          -5.9029  \n"
            ]
          },
          "metadata": {}
        }
      ]
    },
    {
      "cell_type": "code",
      "source": [
        "anova(model_2)"
      ],
      "metadata": {
        "colab": {
          "base_uri": "https://localhost:8080/",
          "height": 223
        },
        "id": "RiT1b1Me_eOT",
        "outputId": "883295ed-f9d1-4f9f-f229-e2ea3a645827"
      },
      "execution_count": 134,
      "outputs": [
        {
          "output_type": "display_data",
          "data": {
            "text/html": [
              "<table class=\"dataframe\">\n",
              "<caption>A anova: 4 × 5</caption>\n",
              "<thead>\n",
              "\t<tr><th></th><th scope=col>Df</th><th scope=col>Sum Sq</th><th scope=col>Mean Sq</th><th scope=col>F value</th><th scope=col>Pr(&gt;F)</th></tr>\n",
              "\t<tr><th></th><th scope=col>&lt;int&gt;</th><th scope=col>&lt;dbl&gt;</th><th scope=col>&lt;dbl&gt;</th><th scope=col>&lt;dbl&gt;</th><th scope=col>&lt;dbl&gt;</th></tr>\n",
              "</thead>\n",
              "<tbody>\n",
              "\t<tr><th scope=row>addedA</th><td>1</td><td>34.394436</td><td>34.3944358</td><td>35.66691</td><td>0.0003335932</td></tr>\n",
              "\t<tr><th scope=row>addedB</th><td>1</td><td>16.597219</td><td>16.5972187</td><td>17.21126</td><td>0.0032149504</td></tr>\n",
              "\t<tr><th scope=row>addedA:addedB</th><td>1</td><td>26.132876</td><td>26.1328757</td><td>27.09970</td><td>0.0008166631</td></tr>\n",
              "\t<tr><th scope=row>Residuals</th><td>8</td><td> 7.714587</td><td> 0.9643233</td><td>      NA</td><td>          NA</td></tr>\n",
              "</tbody>\n",
              "</table>\n"
            ],
            "text/markdown": "\nA anova: 4 × 5\n\n| <!--/--> | Df &lt;int&gt; | Sum Sq &lt;dbl&gt; | Mean Sq &lt;dbl&gt; | F value &lt;dbl&gt; | Pr(&gt;F) &lt;dbl&gt; |\n|---|---|---|---|---|---|\n| addedA | 1 | 34.394436 | 34.3944358 | 35.66691 | 0.0003335932 |\n| addedB | 1 | 16.597219 | 16.5972187 | 17.21126 | 0.0032149504 |\n| addedA:addedB | 1 | 26.132876 | 26.1328757 | 27.09970 | 0.0008166631 |\n| Residuals | 8 |  7.714587 |  0.9643233 |       NA |           NA |\n\n",
            "text/latex": "A anova: 4 × 5\n\\begin{tabular}{r|lllll}\n  & Df & Sum Sq & Mean Sq & F value & Pr(>F)\\\\\n  & <int> & <dbl> & <dbl> & <dbl> & <dbl>\\\\\n\\hline\n\taddedA & 1 & 34.394436 & 34.3944358 & 35.66691 & 0.0003335932\\\\\n\taddedB & 1 & 16.597219 & 16.5972187 & 17.21126 & 0.0032149504\\\\\n\taddedA:addedB & 1 & 26.132876 & 26.1328757 & 27.09970 & 0.0008166631\\\\\n\tResiduals & 8 &  7.714587 &  0.9643233 &       NA &           NA\\\\\n\\end{tabular}\n",
            "text/plain": [
              "              Df Sum Sq    Mean Sq    F value  Pr(>F)      \n",
              "addedA        1  34.394436 34.3944358 35.66691 0.0003335932\n",
              "addedB        1  16.597219 16.5972187 17.21126 0.0032149504\n",
              "addedA:addedB 1  26.132876 26.1328757 27.09970 0.0008166631\n",
              "Residuals     8   7.714587  0.9643233       NA           NA"
            ]
          },
          "metadata": {}
        }
      ]
    },
    {
      "cell_type": "markdown",
      "source": [
        "We can see that interaction of A and B helped the resulting model. We can compare both models using anova() function"
      ],
      "metadata": {
        "id": "PAiIDRJjFIMc"
      }
    },
    {
      "cell_type": "code",
      "source": [
        "anova(model_1, model_2)"
      ],
      "metadata": {
        "colab": {
          "base_uri": "https://localhost:8080/",
          "height": 161
        },
        "id": "fCj9KhiU8HQw",
        "outputId": "3177264d-7726-4a7a-92ef-1cf66b64f179"
      },
      "execution_count": 135,
      "outputs": [
        {
          "output_type": "display_data",
          "data": {
            "text/html": [
              "<table class=\"dataframe\">\n",
              "<caption>A anova: 2 × 6</caption>\n",
              "<thead>\n",
              "\t<tr><th></th><th scope=col>Res.Df</th><th scope=col>RSS</th><th scope=col>Df</th><th scope=col>Sum of Sq</th><th scope=col>F</th><th scope=col>Pr(&gt;F)</th></tr>\n",
              "\t<tr><th></th><th scope=col>&lt;dbl&gt;</th><th scope=col>&lt;dbl&gt;</th><th scope=col>&lt;dbl&gt;</th><th scope=col>&lt;dbl&gt;</th><th scope=col>&lt;dbl&gt;</th><th scope=col>&lt;dbl&gt;</th></tr>\n",
              "</thead>\n",
              "<tbody>\n",
              "\t<tr><th scope=row>1</th><td>9</td><td>33.847462</td><td>NA</td><td>      NA</td><td>     NA</td><td>          NA</td></tr>\n",
              "\t<tr><th scope=row>2</th><td>8</td><td> 7.714587</td><td> 1</td><td>26.13288</td><td>27.0997</td><td>0.0008166631</td></tr>\n",
              "</tbody>\n",
              "</table>\n"
            ],
            "text/markdown": "\nA anova: 2 × 6\n\n| <!--/--> | Res.Df &lt;dbl&gt; | RSS &lt;dbl&gt; | Df &lt;dbl&gt; | Sum of Sq &lt;dbl&gt; | F &lt;dbl&gt; | Pr(&gt;F) &lt;dbl&gt; |\n|---|---|---|---|---|---|---|\n| 1 | 9 | 33.847462 | NA |       NA |      NA |           NA |\n| 2 | 8 |  7.714587 |  1 | 26.13288 | 27.0997 | 0.0008166631 |\n\n",
            "text/latex": "A anova: 2 × 6\n\\begin{tabular}{r|llllll}\n  & Res.Df & RSS & Df & Sum of Sq & F & Pr(>F)\\\\\n  & <dbl> & <dbl> & <dbl> & <dbl> & <dbl> & <dbl>\\\\\n\\hline\n\t1 & 9 & 33.847462 & NA &       NA &      NA &           NA\\\\\n\t2 & 8 &  7.714587 &  1 & 26.13288 & 27.0997 & 0.0008166631\\\\\n\\end{tabular}\n",
            "text/plain": [
              "  Res.Df RSS       Df Sum of Sq F       Pr(>F)      \n",
              "1 9      33.847462 NA       NA       NA           NA\n",
              "2 8       7.714587  1 26.13288  27.0997 0.0008166631"
            ]
          },
          "metadata": {}
        }
      ]
    },
    {
      "cell_type": "markdown",
      "source": [],
      "metadata": {
        "id": "XkKXAYE9LocK"
      }
    },
    {
      "cell_type": "markdown",
      "source": [
        "From the table above we can see that the second model is significantly better, the p-value is much lower."
      ],
      "metadata": {
        "id": "gKtY6tzjHGRs"
      }
    },
    {
      "cell_type": "markdown",
      "source": [
        "In general, more complex models will explain experimental data better. But at the same time such models will have increased number of degrees of freedom.\n",
        "The analysis of variance can also be used to remove all the \n",
        "unnecessary elements that don't improve the quality of the model, but add extra degrees of freedom. It is therefore possible to design a simpler model\n",
        "<br> \n",
        "$\n",
        "all groups = a * addedA * addedB + b\n",
        "$\n",
        "<br>\n",
        "Let's try it: "
      ],
      "metadata": {
        "id": "rl7U63iSJBoh"
      }
    },
    {
      "cell_type": "code",
      "source": [
        "# Create an addedboth factor\n",
        "\n",
        "addedboth <- as.factor(c(rep(\"n\", times=9), rep(\"y\", times=3)))\n",
        "addedboth\n"
      ],
      "metadata": {
        "colab": {
          "base_uri": "https://localhost:8080/",
          "height": 52
        },
        "id": "424tq45d-n68",
        "outputId": "d7a68cc4-143a-42e3-e7d1-f69afa0fc886"
      },
      "execution_count": 136,
      "outputs": [
        {
          "output_type": "display_data",
          "data": {
            "text/html": [
              "<style>\n",
              ".list-inline {list-style: none; margin:0; padding: 0}\n",
              ".list-inline>li {display: inline-block}\n",
              ".list-inline>li:not(:last-child)::after {content: \"\\00b7\"; padding: 0 .5ex}\n",
              "</style>\n",
              "<ol class=list-inline><li>n</li><li>n</li><li>n</li><li>n</li><li>n</li><li>n</li><li>n</li><li>n</li><li>n</li><li>y</li><li>y</li><li>y</li></ol>\n",
              "\n",
              "<details>\n",
              "\t<summary style=display:list-item;cursor:pointer>\n",
              "\t\t<strong>Levels</strong>:\n",
              "\t</summary>\n",
              "\t<style>\n",
              "\t.list-inline {list-style: none; margin:0; padding: 0}\n",
              "\t.list-inline>li {display: inline-block}\n",
              "\t.list-inline>li:not(:last-child)::after {content: \"\\00b7\"; padding: 0 .5ex}\n",
              "\t</style>\n",
              "\t<ol class=list-inline><li>'n'</li><li>'y'</li></ol>\n",
              "</details>"
            ],
            "text/markdown": "1. n\n2. n\n3. n\n4. n\n5. n\n6. n\n7. n\n8. n\n9. n\n10. y\n11. y\n12. y\n\n\n\n**Levels**: 1. 'n'\n2. 'y'\n\n\n",
            "text/latex": "\\begin{enumerate*}\n\\item n\n\\item n\n\\item n\n\\item n\n\\item n\n\\item n\n\\item n\n\\item n\n\\item n\n\\item y\n\\item y\n\\item y\n\\end{enumerate*}\n\n\\emph{Levels}: \\begin{enumerate*}\n\\item 'n'\n\\item 'y'\n\\end{enumerate*}\n",
            "text/plain": [
              " [1] n n n n n n n n n y y y\n",
              "Levels: n y"
            ]
          },
          "metadata": {}
        }
      ]
    },
    {
      "cell_type": "code",
      "source": [
        "model_3 <- lm(all_groups~addedboth)\n",
        "model_3"
      ],
      "metadata": {
        "colab": {
          "base_uri": "https://localhost:8080/",
          "height": 145
        },
        "id": "oZLAiF-z-ynu",
        "outputId": "22342fc3-a836-4b03-eef9-c4efddd4c5a3"
      },
      "execution_count": 138,
      "outputs": [
        {
          "output_type": "display_data",
          "data": {
            "text/plain": [
              "\n",
              "Call:\n",
              "lm(formula = all_groups ~ addedboth)\n",
              "\n",
              "Coefficients:\n",
              "(Intercept)   addedbothy  \n",
              "      9.609       -5.793  \n"
            ]
          },
          "metadata": {}
        }
      ]
    },
    {
      "cell_type": "code",
      "source": [
        "summary(aov(model_3))"
      ],
      "metadata": {
        "colab": {
          "base_uri": "https://localhost:8080/",
          "height": 108
        },
        "id": "yWxiWAL0L42E",
        "outputId": "6d4ca3ab-c4f7-4e67-8e1d-b1633c4cca14"
      },
      "execution_count": 142,
      "outputs": [
        {
          "output_type": "display_data",
          "data": {
            "text/plain": [
              "            Df Sum Sq Mean Sq F value   Pr(>F)    \n",
              "addedboth    1  75.51   75.51   80.92 4.16e-06 ***\n",
              "Residuals   10   9.33    0.93                     \n",
              "---\n",
              "Signif. codes:  0 ‘***’ 0.001 ‘**’ 0.01 ‘*’ 0.05 ‘.’ 0.1 ‘ ’ 1"
            ]
          },
          "metadata": {}
        }
      ]
    },
    {
      "cell_type": "code",
      "source": [
        "anova(model_3)"
      ],
      "metadata": {
        "colab": {
          "base_uri": "https://localhost:8080/",
          "height": 161
        },
        "id": "rfHysm-iL-Om",
        "outputId": "4ffa190e-816d-478b-ce52-fa318be51a56"
      },
      "execution_count": 143,
      "outputs": [
        {
          "output_type": "display_data",
          "data": {
            "text/html": [
              "<table class=\"dataframe\">\n",
              "<caption>A anova: 2 × 5</caption>\n",
              "<thead>\n",
              "\t<tr><th></th><th scope=col>Df</th><th scope=col>Sum Sq</th><th scope=col>Mean Sq</th><th scope=col>F value</th><th scope=col>Pr(&gt;F)</th></tr>\n",
              "\t<tr><th></th><th scope=col>&lt;int&gt;</th><th scope=col>&lt;dbl&gt;</th><th scope=col>&lt;dbl&gt;</th><th scope=col>&lt;dbl&gt;</th><th scope=col>&lt;dbl&gt;</th></tr>\n",
              "</thead>\n",
              "<tbody>\n",
              "\t<tr><th scope=row>addedboth</th><td> 1</td><td>75.507634</td><td>75.5076343</td><td>80.91708</td><td>4.157145e-06</td></tr>\n",
              "\t<tr><th scope=row>Residuals</th><td>10</td><td> 9.331483</td><td> 0.9331483</td><td>      NA</td><td>          NA</td></tr>\n",
              "</tbody>\n",
              "</table>\n"
            ],
            "text/markdown": "\nA anova: 2 × 5\n\n| <!--/--> | Df &lt;int&gt; | Sum Sq &lt;dbl&gt; | Mean Sq &lt;dbl&gt; | F value &lt;dbl&gt; | Pr(&gt;F) &lt;dbl&gt; |\n|---|---|---|---|---|---|\n| addedboth |  1 | 75.507634 | 75.5076343 | 80.91708 | 4.157145e-06 |\n| Residuals | 10 |  9.331483 |  0.9331483 |       NA |           NA |\n\n",
            "text/latex": "A anova: 2 × 5\n\\begin{tabular}{r|lllll}\n  & Df & Sum Sq & Mean Sq & F value & Pr(>F)\\\\\n  & <int> & <dbl> & <dbl> & <dbl> & <dbl>\\\\\n\\hline\n\taddedboth &  1 & 75.507634 & 75.5076343 & 80.91708 & 4.157145e-06\\\\\n\tResiduals & 10 &  9.331483 &  0.9331483 &       NA &           NA\\\\\n\\end{tabular}\n",
            "text/plain": [
              "          Df Sum Sq    Mean Sq    F value  Pr(>F)      \n",
              "addedboth  1 75.507634 75.5076343 80.91708 4.157145e-06\n",
              "Residuals 10  9.331483  0.9331483       NA           NA"
            ]
          },
          "metadata": {}
        }
      ]
    },
    {
      "cell_type": "markdown",
      "source": [
        "**anova() vs aov():**\n",
        "<br>\n",
        "anova() is best used when we would like to compare fit of nested regression models with some sets of coefficients to see what set of coefficients is best to use.\n",
        "<br>\n",
        "aov() is for fitting ANOVA model and viewing the summary table"
      ],
      "metadata": {
        "id": "vBPHSqfhMgPp"
      }
    },
    {
      "cell_type": "code",
      "source": [
        "anova(model_2, model_3)"
      ],
      "metadata": {
        "colab": {
          "base_uri": "https://localhost:8080/",
          "height": 161
        },
        "id": "gW0tlG_7MLkW",
        "outputId": "ecbb7fd2-267a-462e-f059-02fbb140b654"
      },
      "execution_count": 145,
      "outputs": [
        {
          "output_type": "display_data",
          "data": {
            "text/html": [
              "<table class=\"dataframe\">\n",
              "<caption>A anova: 2 × 6</caption>\n",
              "<thead>\n",
              "\t<tr><th></th><th scope=col>Res.Df</th><th scope=col>RSS</th><th scope=col>Df</th><th scope=col>Sum of Sq</th><th scope=col>F</th><th scope=col>Pr(&gt;F)</th></tr>\n",
              "\t<tr><th></th><th scope=col>&lt;dbl&gt;</th><th scope=col>&lt;dbl&gt;</th><th scope=col>&lt;dbl&gt;</th><th scope=col>&lt;dbl&gt;</th><th scope=col>&lt;dbl&gt;</th><th scope=col>&lt;dbl&gt;</th></tr>\n",
              "</thead>\n",
              "<tbody>\n",
              "\t<tr><th scope=row>1</th><td> 8</td><td>7.714587</td><td>NA</td><td>       NA</td><td>       NA</td><td>       NA</td></tr>\n",
              "\t<tr><th scope=row>2</th><td>10</td><td>9.331483</td><td>-2</td><td>-1.616896</td><td>0.8383578</td><td>0.4671411</td></tr>\n",
              "</tbody>\n",
              "</table>\n"
            ],
            "text/markdown": "\nA anova: 2 × 6\n\n| <!--/--> | Res.Df &lt;dbl&gt; | RSS &lt;dbl&gt; | Df &lt;dbl&gt; | Sum of Sq &lt;dbl&gt; | F &lt;dbl&gt; | Pr(&gt;F) &lt;dbl&gt; |\n|---|---|---|---|---|---|---|\n| 1 |  8 | 7.714587 | NA |        NA |        NA |        NA |\n| 2 | 10 | 9.331483 | -2 | -1.616896 | 0.8383578 | 0.4671411 |\n\n",
            "text/latex": "A anova: 2 × 6\n\\begin{tabular}{r|llllll}\n  & Res.Df & RSS & Df & Sum of Sq & F & Pr(>F)\\\\\n  & <dbl> & <dbl> & <dbl> & <dbl> & <dbl> & <dbl>\\\\\n\\hline\n\t1 &  8 & 7.714587 & NA &        NA &        NA &        NA\\\\\n\t2 & 10 & 9.331483 & -2 & -1.616896 & 0.8383578 & 0.4671411\\\\\n\\end{tabular}\n",
            "text/plain": [
              "  Res.Df RSS      Df Sum of Sq F         Pr(>F)   \n",
              "1  8     7.714587 NA        NA        NA        NA\n",
              "2 10     9.331483 -2 -1.616896 0.8383578 0.4671411"
            ]
          },
          "metadata": {}
        }
      ]
    },
    {
      "cell_type": "markdown",
      "source": [
        "The obtained p-value indicates that the reduction in variance by using a more complex model is not significant. In other words, we do not have enough evidence to assume that the more complex solution  $All groups$ ~ $ addedA*addedB $ model captures the data better than the $All groups $ ~ $ bothadded$ model."
      ],
      "metadata": {
        "id": "6X9-nnAPOoQE"
      }
    },
    {
      "cell_type": "markdown",
      "source": [
        "## Dunnett's test\n",
        "<br>\n",
        "In biological experiments we need to often test not everything vs everything but everything vs control group. Dunnett test us a multicomparison method that compare each treatment group with a control group. This type of test is also called many-to-one comparison."
      ],
      "metadata": {
        "id": "FbkZYo0aPVZ_"
      }
    },
    {
      "cell_type": "code",
      "source": [
        "install.packages('multcomp')\n",
        "library('multcomp')"
      ],
      "metadata": {
        "colab": {
          "base_uri": "https://localhost:8080/"
        },
        "id": "kOiti5zHMRdN",
        "outputId": "965cc719-8544-423a-84e9-e225b4009270"
      },
      "execution_count": 149,
      "outputs": [
        {
          "output_type": "stream",
          "name": "stderr",
          "text": [
            "Installing package into ‘/usr/local/lib/R/site-library’\n",
            "(as ‘lib’ is unspecified)\n",
            "\n",
            "also installing the dependencies ‘zoo’, ‘mvtnorm’, ‘TH.data’, ‘sandwich’\n",
            "\n",
            "\n",
            "Loading required package: mvtnorm\n",
            "\n",
            "Loading required package: survival\n",
            "\n",
            "Loading required package: TH.data\n",
            "\n",
            "Loading required package: MASS\n",
            "\n",
            "\n",
            "Attaching package: ‘MASS’\n",
            "\n",
            "\n",
            "The following object is masked from ‘package:dplyr’:\n",
            "\n",
            "    select\n",
            "\n",
            "\n",
            "\n",
            "Attaching package: ‘TH.data’\n",
            "\n",
            "\n",
            "The following object is masked from ‘package:MASS’:\n",
            "\n",
            "    geyser\n",
            "\n",
            "\n"
          ]
        }
      ]
    },
    {
      "cell_type": "code",
      "source": [
        "# Example 1\n",
        "\n",
        "control <- rnorm(10, mean=100, sd=25)\n",
        "compound <- rnorm(10, mean=70, sd=30)\n",
        "placebo <- rnorm(10, mean=90, sd=25)\n",
        "\n",
        "labels<-gl(3,10)\n",
        "allgs <- c(control, compound, placebo)\n",
        "\n",
        "data <- data.frame(labels, allgs)\n",
        "\n",
        "data$labels <- relevel(data$labels, ref=1)\n",
        "head(data)"
      ],
      "metadata": {
        "colab": {
          "base_uri": "https://localhost:8080/",
          "height": 286
        },
        "id": "rfS35NeRUG2b",
        "outputId": "f498694b-e85e-4ad4-dbbc-6e529b1fc314"
      },
      "execution_count": 200,
      "outputs": [
        {
          "output_type": "display_data",
          "data": {
            "text/html": [
              "<table class=\"dataframe\">\n",
              "<caption>A data.frame: 6 × 2</caption>\n",
              "<thead>\n",
              "\t<tr><th></th><th scope=col>labels</th><th scope=col>allgs</th></tr>\n",
              "\t<tr><th></th><th scope=col>&lt;fct&gt;</th><th scope=col>&lt;dbl&gt;</th></tr>\n",
              "</thead>\n",
              "<tbody>\n",
              "\t<tr><th scope=row>1</th><td>1</td><td>106.45180</td></tr>\n",
              "\t<tr><th scope=row>2</th><td>1</td><td> 79.44182</td></tr>\n",
              "\t<tr><th scope=row>3</th><td>1</td><td> 60.70105</td></tr>\n",
              "\t<tr><th scope=row>4</th><td>1</td><td>111.26447</td></tr>\n",
              "\t<tr><th scope=row>5</th><td>1</td><td>123.73997</td></tr>\n",
              "\t<tr><th scope=row>6</th><td>1</td><td>148.06633</td></tr>\n",
              "</tbody>\n",
              "</table>\n"
            ],
            "text/markdown": "\nA data.frame: 6 × 2\n\n| <!--/--> | labels &lt;fct&gt; | allgs &lt;dbl&gt; |\n|---|---|---|\n| 1 | 1 | 106.45180 |\n| 2 | 1 |  79.44182 |\n| 3 | 1 |  60.70105 |\n| 4 | 1 | 111.26447 |\n| 5 | 1 | 123.73997 |\n| 6 | 1 | 148.06633 |\n\n",
            "text/latex": "A data.frame: 6 × 2\n\\begin{tabular}{r|ll}\n  & labels & allgs\\\\\n  & <fct> & <dbl>\\\\\n\\hline\n\t1 & 1 & 106.45180\\\\\n\t2 & 1 &  79.44182\\\\\n\t3 & 1 &  60.70105\\\\\n\t4 & 1 & 111.26447\\\\\n\t5 & 1 & 123.73997\\\\\n\t6 & 1 & 148.06633\\\\\n\\end{tabular}\n",
            "text/plain": [
              "  labels allgs    \n",
              "1 1      106.45180\n",
              "2 1       79.44182\n",
              "3 1       60.70105\n",
              "4 1      111.26447\n",
              "5 1      123.73997\n",
              "6 1      148.06633"
            ]
          },
          "metadata": {}
        }
      ]
    },
    {
      "cell_type": "code",
      "source": [
        "boxplot(control, compound, placebo)"
      ],
      "metadata": {
        "colab": {
          "base_uri": "https://localhost:8080/",
          "height": 437
        },
        "id": "Y1ur6AJvUtjK",
        "outputId": "18129614-34fb-4f9e-e872-167f6389f17a"
      },
      "execution_count": 201,
      "outputs": [
        {
          "output_type": "display_data",
          "data": {
            "text/plain": [
              "plot without title"
            ],
            "image/png": "[encoded data removed]"
          },
          "metadata": {
            "image/png": {
              "width": 420,
              "height": 420
            }
          }
        }
      ]
    },
    {
      "cell_type": "code",
      "source": [
        "aov_res <- aov(allgs ~ labels, data=data)\n",
        "summary(aov_res)"
      ],
      "metadata": {
        "colab": {
          "base_uri": "https://localhost:8080/",
          "height": 108
        },
        "id": "KMHHQOKzUpUs",
        "outputId": "71707602-94fb-4b4a-c17d-65ee06281be3"
      },
      "execution_count": 202,
      "outputs": [
        {
          "output_type": "display_data",
          "data": {
            "text/plain": [
              "            Df Sum Sq Mean Sq F value  Pr(>F)   \n",
              "labels       2   9065    4533   6.959 0.00365 **\n",
              "Residuals   27  17587     651                   \n",
              "---\n",
              "Signif. codes:  0 ‘***’ 0.001 ‘**’ 0.01 ‘*’ 0.05 ‘.’ 0.1 ‘ ’ 1"
            ]
          },
          "metadata": {}
        }
      ]
    },
    {
      "cell_type": "code",
      "source": [
        "dunnett_res <- glht(aov_res, linfct = mcp(labels=\"Dunnett\"))\n",
        "summary(dunnett_res)"
      ],
      "metadata": {
        "colab": {
          "base_uri": "https://localhost:8080/",
          "height": 291
        },
        "id": "RDkJGZwSVAi6",
        "outputId": "a51b7b0b-415a-4007-e4b7-1c0e05e06f35"
      },
      "execution_count": 203,
      "outputs": [
        {
          "output_type": "display_data",
          "data": {
            "text/plain": [
              "\n",
              "\t Simultaneous Tests for General Linear Hypotheses\n",
              "\n",
              "Multiple Comparisons of Means: Dunnett Contrasts\n",
              "\n",
              "\n",
              "Fit: aov(formula = allgs ~ labels, data = data)\n",
              "\n",
              "Linear Hypotheses:\n",
              "           Estimate Std. Error t value Pr(>|t|)   \n",
              "2 - 1 == 0   -42.51      11.41  -3.724  0.00176 **\n",
              "3 - 1 == 0   -19.08      11.41  -1.672  0.18377   \n",
              "---\n",
              "Signif. codes:  0 ‘***’ 0.001 ‘**’ 0.01 ‘*’ 0.05 ‘.’ 0.1 ‘ ’ 1\n",
              "(Adjusted p values reported -- single-step method)\n"
            ]
          },
          "metadata": {}
        }
      ]
    },
    {
      "cell_type": "code",
      "source": [
        "plot(dunnett_res)"
      ],
      "metadata": {
        "colab": {
          "base_uri": "https://localhost:8080/",
          "height": 437
        },
        "id": "ZwrAijg0VKGF",
        "outputId": "4043ceb9-9978-4e8d-ac31-a30f74fa0a2c"
      },
      "execution_count": 204,
      "outputs": [
        {
          "output_type": "display_data",
          "data": {
            "text/plain": [
              "Plot with title “95% family-wise confidence level\n",
              "”"
            ],
            "image/png": "[encoded data removed]"
          },
          "metadata": {
            "image/png": {
              "width": 420,
              "height": 420
            }
          }
        }
      ]
    },
    {
      "cell_type": "code",
      "source": [
        "# Example 2\n",
        "\n",
        "data_kosti <- read.table('https://web.vscht.cz/~spiwokv/statistika/kosti.txt', header=T, stringsAsFactors=T)\n",
        "data_kosti"
      ],
      "metadata": {
        "colab": {
          "base_uri": "https://localhost:8080/",
          "height": 662
        },
        "id": "nyJdDiRgRj0j",
        "outputId": "a7b0cba1-e389-435c-dc08-9788ffe1719d"
      },
      "execution_count": 205,
      "outputs": [
        {
          "output_type": "display_data",
          "data": {
            "text/html": [
              "<table class=\"dataframe\">\n",
              "<caption>A data.frame: 18 × 2</caption>\n",
              "<thead>\n",
              "\t<tr><th scope=col>kosti</th><th scope=col>mgCa.day</th></tr>\n",
              "\t<tr><th scope=col>&lt;fct&gt;</th><th scope=col>&lt;int&gt;</th></tr>\n",
              "</thead>\n",
              "<tbody>\n",
              "\t<tr><td>Normal      </td><td>1200</td></tr>\n",
              "\t<tr><td>Normal      </td><td>1000</td></tr>\n",
              "\t<tr><td>Normal      </td><td> 980</td></tr>\n",
              "\t<tr><td>Normal      </td><td> 900</td></tr>\n",
              "\t<tr><td>Normal      </td><td> 750</td></tr>\n",
              "\t<tr><td>Normal      </td><td> 800</td></tr>\n",
              "\t<tr><td>Osteopenia  </td><td>1000</td></tr>\n",
              "\t<tr><td>Osteopenia  </td><td>1100</td></tr>\n",
              "\t<tr><td>Osteopenia  </td><td> 700</td></tr>\n",
              "\t<tr><td>Osteopenia  </td><td> 800</td></tr>\n",
              "\t<tr><td>Osteopenia  </td><td> 500</td></tr>\n",
              "\t<tr><td>Osteopenia  </td><td> 700</td></tr>\n",
              "\t<tr><td>Osteoporosis</td><td> 890</td></tr>\n",
              "\t<tr><td>Osteoporosis</td><td> 650</td></tr>\n",
              "\t<tr><td>Osteoporosis</td><td>1100</td></tr>\n",
              "\t<tr><td>Osteoporosis</td><td> 900</td></tr>\n",
              "\t<tr><td>Osteoporosis</td><td> 400</td></tr>\n",
              "\t<tr><td>Osteoporosis</td><td> 350</td></tr>\n",
              "</tbody>\n",
              "</table>\n"
            ],
            "text/markdown": "\nA data.frame: 18 × 2\n\n| kosti &lt;fct&gt; | mgCa.day &lt;int&gt; |\n|---|---|\n| Normal       | 1200 |\n| Normal       | 1000 |\n| Normal       |  980 |\n| Normal       |  900 |\n| Normal       |  750 |\n| Normal       |  800 |\n| Osteopenia   | 1000 |\n| Osteopenia   | 1100 |\n| Osteopenia   |  700 |\n| Osteopenia   |  800 |\n| Osteopenia   |  500 |\n| Osteopenia   |  700 |\n| Osteoporosis |  890 |\n| Osteoporosis |  650 |\n| Osteoporosis | 1100 |\n| Osteoporosis |  900 |\n| Osteoporosis |  400 |\n| Osteoporosis |  350 |\n\n",
            "text/latex": "A data.frame: 18 × 2\n\\begin{tabular}{ll}\n kosti & mgCa.day\\\\\n <fct> & <int>\\\\\n\\hline\n\t Normal       & 1200\\\\\n\t Normal       & 1000\\\\\n\t Normal       &  980\\\\\n\t Normal       &  900\\\\\n\t Normal       &  750\\\\\n\t Normal       &  800\\\\\n\t Osteopenia   & 1000\\\\\n\t Osteopenia   & 1100\\\\\n\t Osteopenia   &  700\\\\\n\t Osteopenia   &  800\\\\\n\t Osteopenia   &  500\\\\\n\t Osteopenia   &  700\\\\\n\t Osteoporosis &  890\\\\\n\t Osteoporosis &  650\\\\\n\t Osteoporosis & 1100\\\\\n\t Osteoporosis &  900\\\\\n\t Osteoporosis &  400\\\\\n\t Osteoporosis &  350\\\\\n\\end{tabular}\n",
            "text/plain": [
              "   kosti        mgCa.day\n",
              "1  Normal       1200    \n",
              "2  Normal       1000    \n",
              "3  Normal        980    \n",
              "4  Normal        900    \n",
              "5  Normal        750    \n",
              "6  Normal        800    \n",
              "7  Osteopenia   1000    \n",
              "8  Osteopenia   1100    \n",
              "9  Osteopenia    700    \n",
              "10 Osteopenia    800    \n",
              "11 Osteopenia    500    \n",
              "12 Osteopenia    700    \n",
              "13 Osteoporosis  890    \n",
              "14 Osteoporosis  650    \n",
              "15 Osteoporosis 1100    \n",
              "16 Osteoporosis  900    \n",
              "17 Osteoporosis  400    \n",
              "18 Osteoporosis  350    "
            ]
          },
          "metadata": {}
        }
      ]
    },
    {
      "cell_type": "code",
      "source": [
        "aov_res <- aov(mgCa.day ~ kosti, data=data_kosti)\n",
        "summary(aov_res)"
      ],
      "metadata": {
        "colab": {
          "base_uri": "https://localhost:8080/",
          "height": 72
        },
        "id": "djcKoaBuSSFg",
        "outputId": "4096ed9d-f488-4de7-e682-86d4ad3b2b2f"
      },
      "execution_count": 206,
      "outputs": [
        {
          "output_type": "display_data",
          "data": {
            "text/plain": [
              "            Df Sum Sq Mean Sq F value Pr(>F)\n",
              "kosti        2 152478   76239   1.395  0.278\n",
              "Residuals   15 819833   54656               "
            ]
          },
          "metadata": {}
        }
      ]
    },
    {
      "cell_type": "code",
      "source": [
        "dunnett_res <- glht(aov_res, linfct = mcp(kosti=\"Dunnett\"))\n",
        "summary(dunnett_res)"
      ],
      "metadata": {
        "colab": {
          "base_uri": "https://localhost:8080/",
          "height": 254
        },
        "id": "PBJ9V-h8S3Q5",
        "outputId": "97db2801-9420-4044-d815-acb7b5d5eb15"
      },
      "execution_count": 207,
      "outputs": [
        {
          "output_type": "display_data",
          "data": {
            "text/plain": [
              "\n",
              "\t Simultaneous Tests for General Linear Hypotheses\n",
              "\n",
              "Multiple Comparisons of Means: Dunnett Contrasts\n",
              "\n",
              "\n",
              "Fit: aov(formula = mgCa.day ~ kosti, data = data_kosti)\n",
              "\n",
              "Linear Hypotheses:\n",
              "                           Estimate Std. Error t value Pr(>|t|)\n",
              "Osteopenia - Normal == 0     -138.3      135.0  -1.025    0.502\n",
              "Osteoporosis - Normal == 0   -223.3      135.0  -1.655    0.203\n",
              "(Adjusted p values reported -- single-step method)\n"
            ]
          },
          "metadata": {}
        }
      ]
    },
    {
      "cell_type": "code",
      "source": [
        "confint(dunnett_res)"
      ],
      "metadata": {
        "colab": {
          "base_uri": "https://localhost:8080/",
          "height": 309
        },
        "id": "LvSCHCJaTViK",
        "outputId": "5782f04e-80db-4be7-d1ca-538929da4dd4"
      },
      "execution_count": 208,
      "outputs": [
        {
          "output_type": "display_data",
          "data": {
            "text/plain": [
              "\n",
              "\t Simultaneous Confidence Intervals\n",
              "\n",
              "Multiple Comparisons of Means: Dunnett Contrasts\n",
              "\n",
              "\n",
              "Fit: aov(formula = mgCa.day ~ kosti, data = data_kosti)\n",
              "\n",
              "Quantile = 2.4394\n",
              "95% family-wise confidence level\n",
              " \n",
              "\n",
              "Linear Hypotheses:\n",
              "                           Estimate  lwr       upr      \n",
              "Osteopenia - Normal == 0   -138.3333 -467.5875  190.9208\n",
              "Osteoporosis - Normal == 0 -223.3333 -552.5875  105.9208\n"
            ]
          },
          "metadata": {}
        }
      ]
    },
    {
      "cell_type": "code",
      "source": [
        "plot(dunnett_res)"
      ],
      "metadata": {
        "colab": {
          "base_uri": "https://localhost:8080/",
          "height": 437
        },
        "id": "WixZXKOtT61C",
        "outputId": "dad73f46-e512-4004-c83a-59bc731ec975"
      },
      "execution_count": 209,
      "outputs": [
        {
          "output_type": "display_data",
          "data": {
            "text/plain": [
              "Plot with title “95% family-wise confidence level\n",
              "”"
            ],
            "image/png": "[encoded data removed]"
          },
          "metadata": {
            "image/png": {
              "width": 420,
              "height": 420
            }
          }
        }
      ]
    },
    {
      "cell_type": "markdown",
      "source": [
        "We should use statistical testing according to their assumptions:\n",
        "- sample populations should have normal distribution \n",
        "- samples must be independent\n",
        "- populations variances must be equal\n",
        "<br>\n",
        "<br>\n",
        "If we are not able to prove these assumptions we should use non parametrics test. ANOVA non parametric version is Kruskal-Wallis test - kruskal.test() in R."
      ],
      "metadata": {
        "id": "zcMsrYSXWX62"
      }
    },
    {
      "cell_type": "code",
      "source": [
        "kv_res <- kruskal.test(mgCa.day ~ kosti, data=data_kosti)\n",
        "kv_res"
      ],
      "metadata": {
        "colab": {
          "base_uri": "https://localhost:8080/",
          "height": 108
        },
        "id": "Bhk0LMNcV8T8",
        "outputId": "8952ca40-343e-48af-dcb5-74601ed21aef"
      },
      "execution_count": 211,
      "outputs": [
        {
          "output_type": "display_data",
          "data": {
            "text/plain": [
              "\n",
              "\tKruskal-Wallis rank sum test\n",
              "\n",
              "data:  mgCa.day by kosti\n",
              "Kruskal-Wallis chi-squared = 2.3307, df = 2, p-value = 0.3118\n"
            ]
          },
          "metadata": {}
        }
      ]
    },
    {
      "cell_type": "code",
      "source": [
        "names(kv_res)"
      ],
      "metadata": {
        "colab": {
          "base_uri": "https://localhost:8080/",
          "height": 34
        },
        "id": "7z0SMTA5X0qq",
        "outputId": "1750b657-470f-4785-c81e-4453f9463c2d"
      },
      "execution_count": 212,
      "outputs": [
        {
          "output_type": "display_data",
          "data": {
            "text/html": [
              "<style>\n",
              ".list-inline {list-style: none; margin:0; padding: 0}\n",
              ".list-inline>li {display: inline-block}\n",
              ".list-inline>li:not(:last-child)::after {content: \"\\00b7\"; padding: 0 .5ex}\n",
              "</style>\n",
              "<ol class=list-inline><li>'statistic'</li><li>'parameter'</li><li>'p.value'</li><li>'method'</li><li>'data.name'</li></ol>\n"
            ],
            "text/markdown": "1. 'statistic'\n2. 'parameter'\n3. 'p.value'\n4. 'method'\n5. 'data.name'\n\n\n",
            "text/latex": "\\begin{enumerate*}\n\\item 'statistic'\n\\item 'parameter'\n\\item 'p.value'\n\\item 'method'\n\\item 'data.name'\n\\end{enumerate*}\n",
            "text/plain": [
              "[1] \"statistic\" \"parameter\" \"p.value\"   \"method\"    \"data.name\""
            ]
          },
          "metadata": {}
        }
      ]
    },
    {
      "cell_type": "markdown",
      "source": [
        "In case of refusing null hypothesis we would do a non-parametric post-hoc test:\n",
        "- Dunn test\n",
        "- Conover test\n",
        "- Nemenyi test\n",
        "- Pairwise Wilcoxont test"
      ],
      "metadata": {
        "id": "7PEeUqQkYdZa"
      }
    },
    {
      "cell_type": "markdown",
      "source": [
        "### Bonus"
      ],
      "metadata": {
        "id": "qfwYO1NHgS32"
      }
    },
    {
      "cell_type": "code",
      "source": [
        "install.packages('ggstatsplot')\n",
        "library('ggstatsplot')"
      ],
      "metadata": {
        "colab": {
          "base_uri": "https://localhost:8080/"
        },
        "id": "yHLfimzbaUM6",
        "outputId": "5799ee8a-18f4-4893-cef6-d65d6e022ec7"
      },
      "execution_count": 198,
      "outputs": [
        {
          "output_type": "stream",
          "name": "stderr",
          "text": [
            "Installing package into ‘/usr/local/lib/R/site-library’\n",
            "(as ‘lib’ is unspecified)\n",
            "\n",
            "also installing the dependencies ‘elliptic’, ‘contfrac’, ‘deSolve’, ‘coda’, ‘pbapply’, ‘MatrixModels’, ‘hypergeo’, ‘RcppEigen’, ‘reshape’, ‘plyr’, ‘mc2d’, ‘bayestestR’, ‘Rcpp’, ‘prismatic’, ‘BayesFactor’, ‘effectsize’, ‘WRS2’, ‘zeallot’, ‘correlation’, ‘datawizard’, ‘ggrepel’, ‘ggsignif’, ‘insight’, ‘paletteer’, ‘parameters’, ‘patchwork’, ‘performance’, ‘statsExpressions’\n",
            "\n",
            "\n",
            "You can cite this package as:\n",
            "     Patil, I. (2021). Visualizations with statistical details: The 'ggstatsplot' approach.\n",
            "     Journal of Open Source Software, 6(61), 3167, doi:10.21105/joss.03167\n",
            "\n"
          ]
        }
      ]
    },
    {
      "cell_type": "code",
      "source": [
        "ggbetweenstats(\n",
        "  data = data_kosti,\n",
        "  x = kosti,\n",
        "  y = mgCa.day,\n",
        "  type = \"nonparametric\",\n",
        "  plot.type = \"box\",\n",
        "  pairwise.comparisons = F,\n",
        "  pairwise.display = \"all\",\n",
        "  centrality.plotting = FALSE,\n",
        "  bf.message = FALSE\n",
        ")"
      ],
      "metadata": {
        "colab": {
          "base_uri": "https://localhost:8080/",
          "height": 437
        },
        "id": "cZzaQGjFYMRf",
        "outputId": "effb72f1-5f48-4fa5-e6d0-458480d9adcb"
      },
      "execution_count": 223,
      "outputs": [
        {
          "output_type": "display_data",
          "data": {
            "text/plain": [
              "plot without title"
            ],
            "image/png": "[encoded data removed]"
          },
          "metadata": {
            "image/png": {
              "width": 420,
              "height": 420
            }
          }
        }
      ]
    },
    {
      "cell_type": "code",
      "source": [],
      "metadata": {
        "id": "B7Ylf6NsanLo"
      },
      "execution_count": null,
      "outputs": []
    }
  ],
  "metadata": {
    "colab": {
      "collapsed_sections": [],
      "provenance": [],
      "authorship_tag": "ABX9TyNQu5Jw0yavzAcw0ilODPtU"
    },
    "kernelspec": {
      "display_name": "R",
      "name": "ir"
    },
    "language_info": {
      "name": "R"
    }
  },
  "nbformat": 4,
  "nbformat_minor": 0
}