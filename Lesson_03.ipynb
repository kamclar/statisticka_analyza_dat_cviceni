{
 "cells": [
  {
   "cell_type": "markdown",
   "id": "c2c1d6e3",
   "metadata": {},
   "source": [
    "# DATAFRAME manipulation"
   ]
  },
  {
   "cell_type": "code",
   "execution_count": 1,
   "id": "4f67e316",
   "metadata": {
    "scrolled": true
   },
   "outputs": [
    {
     "name": "stderr",
     "output_type": "stream",
     "text": [
      "Updating HTML index of packages in '.Library'\n",
      "\n",
      "Making 'packages.html' ...\n",
      " done\n",
      "\n",
      "\n",
      "Attaching package: ‘dplyr’\n",
      "\n",
      "\n",
      "The following objects are masked from ‘package:stats’:\n",
      "\n",
      "    filter, lag\n",
      "\n",
      "\n",
      "The following objects are masked from ‘package:base’:\n",
      "\n",
      "    intersect, setdiff, setequal, union\n",
      "\n",
      "\n"
     ]
    }
   ],
   "source": [
    "# Install package\n",
    "install.packages('dplyr')\n",
    "\n",
    "# load library\n",
    "library(\"dplyr\")\n",
    "\n",
    "# to load datasets use:\n",
    "library('datasets')"
   ]
  },
  {
   "cell_type": "code",
   "execution_count": 2,
   "id": "c6c6bfaf",
   "metadata": {},
   "outputs": [
    {
     "data": {
      "text/plain": [
       "  Sepal.Length    Sepal.Width     Petal.Length    Petal.Width   \n",
       " Min.   :4.300   Min.   :2.000   Min.   :1.000   Min.   :0.100  \n",
       " 1st Qu.:5.100   1st Qu.:2.800   1st Qu.:1.600   1st Qu.:0.300  \n",
       " Median :5.800   Median :3.000   Median :4.350   Median :1.300  \n",
       " Mean   :5.843   Mean   :3.057   Mean   :3.758   Mean   :1.199  \n",
       " 3rd Qu.:6.400   3rd Qu.:3.300   3rd Qu.:5.100   3rd Qu.:1.800  \n",
       " Max.   :7.900   Max.   :4.400   Max.   :6.900   Max.   :2.500  \n",
       "       Species  \n",
       " setosa    :50  \n",
       " versicolor:50  \n",
       " virginica :50  \n",
       "                \n",
       "                \n",
       "                "
      ]
     },
     "metadata": {},
     "output_type": "display_data"
    },
    {
     "name": "stdout",
     "output_type": "stream",
     "text": [
      "'data.frame':\t150 obs. of  5 variables:\n",
      " $ Sepal.Length: num  5.1 4.9 4.7 4.6 5 5.4 4.6 5 4.4 4.9 ...\n",
      " $ Sepal.Width : num  3.5 3 3.2 3.1 3.6 3.9 3.4 3.4 2.9 3.1 ...\n",
      " $ Petal.Length: num  1.4 1.4 1.3 1.5 1.4 1.7 1.4 1.5 1.4 1.5 ...\n",
      " $ Petal.Width : num  0.2 0.2 0.2 0.2 0.2 0.4 0.3 0.2 0.2 0.1 ...\n",
      " $ Species     : Factor w/ 3 levels \"setosa\",\"versicolor\",..: 1 1 1 1 1 1 1 1 1 1 ...\n"
     ]
    }
   ],
   "source": [
    "#To load iris dataset\n",
    "data(iris)\n",
    "summary(iris)\n",
    "str(iris)"
   ]
  },
  {
   "cell_type": "markdown",
   "id": "6378e6d0",
   "metadata": {},
   "source": [
    "### dplyr package important functions"
   ]
  },
  {
   "cell_type": "markdown",
   "id": "119cf8ea",
   "metadata": {},
   "source": [
    "1. select() - *select columns (variables)*\n",
    "2. filter() - *(subset) rows*\n",
    "3. mutate() - *create new variables*\n",
    "4. summarise() - *summarize (or aggregate) data*\n",
    "5. select_if() - *condition selection*\n",
    "6. arrange() - *sort data*\n",
    "7. group_by() - *group data*\n",
    "8. join() - *join data frames*"
   ]
  },
  {
   "cell_type": "markdown",
   "id": "0cfdf971",
   "metadata": {},
   "source": [
    "### Select"
   ]
  },
  {
   "cell_type": "markdown",
   "id": "20152805",
   "metadata": {},
   "source": [
    "Selection can be made by several ways, using column names or vector with numbers of the columns. Or even negative selection can be made by using select(dataset, -column)"
   ]
  },
  {
   "cell_type": "code",
   "execution_count": 3,
   "id": "56532c7a",
   "metadata": {},
   "outputs": [
    {
     "data": {
      "text/html": [
       "<table class=\"dataframe\">\n",
       "<caption>A data.frame: 3 × 3</caption>\n",
       "<thead>\n",
       "\t<tr><th></th><th scope=col>Sepal.Length</th><th scope=col>Sepal.Width</th><th scope=col>Petal.Length</th></tr>\n",
       "\t<tr><th></th><th scope=col>&lt;dbl&gt;</th><th scope=col>&lt;dbl&gt;</th><th scope=col>&lt;dbl&gt;</th></tr>\n",
       "</thead>\n",
       "<tbody>\n",
       "\t<tr><th scope=row>1</th><td>5.1</td><td>3.5</td><td>1.4</td></tr>\n",
       "\t<tr><th scope=row>2</th><td>4.9</td><td>3.0</td><td>1.4</td></tr>\n",
       "\t<tr><th scope=row>3</th><td>4.7</td><td>3.2</td><td>1.3</td></tr>\n",
       "</tbody>\n",
       "</table>\n"
      ],
      "text/latex": [
       "A data.frame: 3 × 3\n",
       "\\begin{tabular}{r|lll}\n",
       "  & Sepal.Length & Sepal.Width & Petal.Length\\\\\n",
       "  & <dbl> & <dbl> & <dbl>\\\\\n",
       "\\hline\n",
       "\t1 & 5.1 & 3.5 & 1.4\\\\\n",
       "\t2 & 4.9 & 3.0 & 1.4\\\\\n",
       "\t3 & 4.7 & 3.2 & 1.3\\\\\n",
       "\\end{tabular}\n"
      ],
      "text/markdown": [
       "\n",
       "A data.frame: 3 × 3\n",
       "\n",
       "| <!--/--> | Sepal.Length &lt;dbl&gt; | Sepal.Width &lt;dbl&gt; | Petal.Length &lt;dbl&gt; |\n",
       "|---|---|---|---|\n",
       "| 1 | 5.1 | 3.5 | 1.4 |\n",
       "| 2 | 4.9 | 3.0 | 1.4 |\n",
       "| 3 | 4.7 | 3.2 | 1.3 |\n",
       "\n"
      ],
      "text/plain": [
       "  Sepal.Length Sepal.Width Petal.Length\n",
       "1 5.1          3.5         1.4         \n",
       "2 4.9          3.0         1.4         \n",
       "3 4.7          3.2         1.3         "
      ]
     },
     "metadata": {},
     "output_type": "display_data"
    }
   ],
   "source": [
    "selected <- select(iris, Sepal.Length, Sepal.Width, Petal.Length)\n",
    "head(selected, 3)"
   ]
  },
  {
   "cell_type": "code",
   "execution_count": 4,
   "id": "3de8f2aa",
   "metadata": {},
   "outputs": [
    {
     "data": {
      "text/html": [
       "<table class=\"dataframe\">\n",
       "<caption>A data.frame: 3 × 3</caption>\n",
       "<thead>\n",
       "\t<tr><th></th><th scope=col>Sepal.Length</th><th scope=col>Sepal.Width</th><th scope=col>Petal.Length</th></tr>\n",
       "\t<tr><th></th><th scope=col>&lt;dbl&gt;</th><th scope=col>&lt;dbl&gt;</th><th scope=col>&lt;dbl&gt;</th></tr>\n",
       "</thead>\n",
       "<tbody>\n",
       "\t<tr><th scope=row>1</th><td>5.1</td><td>3.5</td><td>1.4</td></tr>\n",
       "\t<tr><th scope=row>2</th><td>4.9</td><td>3.0</td><td>1.4</td></tr>\n",
       "\t<tr><th scope=row>3</th><td>4.7</td><td>3.2</td><td>1.3</td></tr>\n",
       "</tbody>\n",
       "</table>\n"
      ],
      "text/latex": [
       "A data.frame: 3 × 3\n",
       "\\begin{tabular}{r|lll}\n",
       "  & Sepal.Length & Sepal.Width & Petal.Length\\\\\n",
       "  & <dbl> & <dbl> & <dbl>\\\\\n",
       "\\hline\n",
       "\t1 & 5.1 & 3.5 & 1.4\\\\\n",
       "\t2 & 4.9 & 3.0 & 1.4\\\\\n",
       "\t3 & 4.7 & 3.2 & 1.3\\\\\n",
       "\\end{tabular}\n"
      ],
      "text/markdown": [
       "\n",
       "A data.frame: 3 × 3\n",
       "\n",
       "| <!--/--> | Sepal.Length &lt;dbl&gt; | Sepal.Width &lt;dbl&gt; | Petal.Length &lt;dbl&gt; |\n",
       "|---|---|---|---|\n",
       "| 1 | 5.1 | 3.5 | 1.4 |\n",
       "| 2 | 4.9 | 3.0 | 1.4 |\n",
       "| 3 | 4.7 | 3.2 | 1.3 |\n",
       "\n"
      ],
      "text/plain": [
       "  Sepal.Length Sepal.Width Petal.Length\n",
       "1 5.1          3.5         1.4         \n",
       "2 4.9          3.0         1.4         \n",
       "3 4.7          3.2         1.3         "
      ]
     },
     "metadata": {},
     "output_type": "display_data"
    }
   ],
   "source": [
    "selected <- select(iris, Sepal.Length:Petal.Length)\n",
    "head(selected, 3)"
   ]
  },
  {
   "cell_type": "code",
   "execution_count": 5,
   "id": "75a27dc1",
   "metadata": {},
   "outputs": [
    {
     "data": {
      "text/html": [
       "<table class=\"dataframe\">\n",
       "<caption>A data.frame: 3 × 3</caption>\n",
       "<thead>\n",
       "\t<tr><th></th><th scope=col>Sepal.Length</th><th scope=col>Sepal.Width</th><th scope=col>Petal.Length</th></tr>\n",
       "\t<tr><th></th><th scope=col>&lt;dbl&gt;</th><th scope=col>&lt;dbl&gt;</th><th scope=col>&lt;dbl&gt;</th></tr>\n",
       "</thead>\n",
       "<tbody>\n",
       "\t<tr><th scope=row>1</th><td>5.1</td><td>3.5</td><td>1.4</td></tr>\n",
       "\t<tr><th scope=row>2</th><td>4.9</td><td>3.0</td><td>1.4</td></tr>\n",
       "\t<tr><th scope=row>3</th><td>4.7</td><td>3.2</td><td>1.3</td></tr>\n",
       "</tbody>\n",
       "</table>\n"
      ],
      "text/latex": [
       "A data.frame: 3 × 3\n",
       "\\begin{tabular}{r|lll}\n",
       "  & Sepal.Length & Sepal.Width & Petal.Length\\\\\n",
       "  & <dbl> & <dbl> & <dbl>\\\\\n",
       "\\hline\n",
       "\t1 & 5.1 & 3.5 & 1.4\\\\\n",
       "\t2 & 4.9 & 3.0 & 1.4\\\\\n",
       "\t3 & 4.7 & 3.2 & 1.3\\\\\n",
       "\\end{tabular}\n"
      ],
      "text/markdown": [
       "\n",
       "A data.frame: 3 × 3\n",
       "\n",
       "| <!--/--> | Sepal.Length &lt;dbl&gt; | Sepal.Width &lt;dbl&gt; | Petal.Length &lt;dbl&gt; |\n",
       "|---|---|---|---|\n",
       "| 1 | 5.1 | 3.5 | 1.4 |\n",
       "| 2 | 4.9 | 3.0 | 1.4 |\n",
       "| 3 | 4.7 | 3.2 | 1.3 |\n",
       "\n"
      ],
      "text/plain": [
       "  Sepal.Length Sepal.Width Petal.Length\n",
       "1 5.1          3.5         1.4         \n",
       "2 4.9          3.0         1.4         \n",
       "3 4.7          3.2         1.3         "
      ]
     },
     "metadata": {},
     "output_type": "display_data"
    }
   ],
   "source": [
    "selected <- select(iris,c(1:3))\n",
    "head(selected, 3)"
   ]
  },
  {
   "cell_type": "code",
   "execution_count": 6,
   "id": "b62dc070",
   "metadata": {},
   "outputs": [
    {
     "data": {
      "text/html": [
       "<table class=\"dataframe\">\n",
       "<caption>A data.frame: 3 × 3</caption>\n",
       "<thead>\n",
       "\t<tr><th></th><th scope=col>Petal.Length</th><th scope=col>Petal.Width</th><th scope=col>Species</th></tr>\n",
       "\t<tr><th></th><th scope=col>&lt;dbl&gt;</th><th scope=col>&lt;dbl&gt;</th><th scope=col>&lt;fct&gt;</th></tr>\n",
       "</thead>\n",
       "<tbody>\n",
       "\t<tr><th scope=row>1</th><td>1.4</td><td>0.2</td><td>setosa</td></tr>\n",
       "\t<tr><th scope=row>2</th><td>1.4</td><td>0.2</td><td>setosa</td></tr>\n",
       "\t<tr><th scope=row>3</th><td>1.3</td><td>0.2</td><td>setosa</td></tr>\n",
       "</tbody>\n",
       "</table>\n"
      ],
      "text/latex": [
       "A data.frame: 3 × 3\n",
       "\\begin{tabular}{r|lll}\n",
       "  & Petal.Length & Petal.Width & Species\\\\\n",
       "  & <dbl> & <dbl> & <fct>\\\\\n",
       "\\hline\n",
       "\t1 & 1.4 & 0.2 & setosa\\\\\n",
       "\t2 & 1.4 & 0.2 & setosa\\\\\n",
       "\t3 & 1.3 & 0.2 & setosa\\\\\n",
       "\\end{tabular}\n"
      ],
      "text/markdown": [
       "\n",
       "A data.frame: 3 × 3\n",
       "\n",
       "| <!--/--> | Petal.Length &lt;dbl&gt; | Petal.Width &lt;dbl&gt; | Species &lt;fct&gt; |\n",
       "|---|---|---|---|\n",
       "| 1 | 1.4 | 0.2 | setosa |\n",
       "| 2 | 1.4 | 0.2 | setosa |\n",
       "| 3 | 1.3 | 0.2 | setosa |\n",
       "\n"
      ],
      "text/plain": [
       "  Petal.Length Petal.Width Species\n",
       "1 1.4          0.2         setosa \n",
       "2 1.4          0.2         setosa \n",
       "3 1.3          0.2         setosa "
      ]
     },
     "metadata": {},
     "output_type": "display_data"
    }
   ],
   "source": [
    "selected <- select(iris, -Sepal.Length, -Sepal.Width)\n",
    "head(selected, 3)"
   ]
  },
  {
   "cell_type": "markdown",
   "id": "d173466c",
   "metadata": {},
   "source": [
    "### Filter"
   ]
  },
  {
   "cell_type": "markdown",
   "id": "aa966458",
   "metadata": {},
   "source": [
    "Function used to match the rows using given criteria. "
   ]
  },
  {
   "cell_type": "code",
   "execution_count": 7,
   "id": "b45781c7",
   "metadata": {},
   "outputs": [
    {
     "name": "stdout",
     "output_type": "stream",
     "text": [
      "[1] \"dimensions of the filtered data:  42 5\"\n",
      "  Petal.Length Petal.Width Species\n",
      "1          1.4         0.2  setosa\n",
      "2          1.4         0.2  setosa\n",
      "3          1.3         0.2  setosa\n"
     ]
    }
   ],
   "source": [
    "filtered <- filter(iris, Species == \"setosa\", Sepal.Width > 3)\n",
    "print(paste(c('dimensions of the filtered data: ', dim(filtered)), collapse = \" \"))\n",
    "print(head(selected, 3))"
   ]
  },
  {
   "cell_type": "markdown",
   "id": "a15bf3da",
   "metadata": {},
   "source": [
    "### Mutate"
   ]
  },
  {
   "cell_type": "markdown",
   "id": "87eb88e4",
   "metadata": {},
   "source": [
    "Creates new columns, while preserving existing columns in a dataset."
   ]
  },
  {
   "cell_type": "code",
   "execution_count": 8,
   "id": "e8ba8ad9",
   "metadata": {},
   "outputs": [
    {
     "data": {
      "text/html": [
       "<table class=\"dataframe\">\n",
       "<caption>A data.frame: 6 × 6</caption>\n",
       "<thead>\n",
       "\t<tr><th></th><th scope=col>Sepal.Length</th><th scope=col>Sepal.Width</th><th scope=col>Petal.Length</th><th scope=col>Petal.Width</th><th scope=col>Species</th><th scope=col>new.column</th></tr>\n",
       "\t<tr><th></th><th scope=col>&lt;dbl&gt;</th><th scope=col>&lt;dbl&gt;</th><th scope=col>&lt;dbl&gt;</th><th scope=col>&lt;dbl&gt;</th><th scope=col>&lt;fct&gt;</th><th scope=col>&lt;lgl&gt;</th></tr>\n",
       "</thead>\n",
       "<tbody>\n",
       "\t<tr><th scope=row>1</th><td>5.1</td><td>3.5</td><td>1.4</td><td>0.2</td><td>setosa</td><td> TRUE</td></tr>\n",
       "\t<tr><th scope=row>2</th><td>4.9</td><td>3.0</td><td>1.4</td><td>0.2</td><td>setosa</td><td>FALSE</td></tr>\n",
       "\t<tr><th scope=row>3</th><td>4.7</td><td>3.2</td><td>1.3</td><td>0.2</td><td>setosa</td><td> TRUE</td></tr>\n",
       "\t<tr><th scope=row>4</th><td>4.6</td><td>3.1</td><td>1.5</td><td>0.2</td><td>setosa</td><td> TRUE</td></tr>\n",
       "\t<tr><th scope=row>5</th><td>5.0</td><td>3.6</td><td>1.4</td><td>0.2</td><td>setosa</td><td> TRUE</td></tr>\n",
       "\t<tr><th scope=row>6</th><td>5.4</td><td>3.9</td><td>1.7</td><td>0.4</td><td>setosa</td><td> TRUE</td></tr>\n",
       "</tbody>\n",
       "</table>\n"
      ],
      "text/latex": [
       "A data.frame: 6 × 6\n",
       "\\begin{tabular}{r|llllll}\n",
       "  & Sepal.Length & Sepal.Width & Petal.Length & Petal.Width & Species & new.column\\\\\n",
       "  & <dbl> & <dbl> & <dbl> & <dbl> & <fct> & <lgl>\\\\\n",
       "\\hline\n",
       "\t1 & 5.1 & 3.5 & 1.4 & 0.2 & setosa &  TRUE\\\\\n",
       "\t2 & 4.9 & 3.0 & 1.4 & 0.2 & setosa & FALSE\\\\\n",
       "\t3 & 4.7 & 3.2 & 1.3 & 0.2 & setosa &  TRUE\\\\\n",
       "\t4 & 4.6 & 3.1 & 1.5 & 0.2 & setosa &  TRUE\\\\\n",
       "\t5 & 5.0 & 3.6 & 1.4 & 0.2 & setosa &  TRUE\\\\\n",
       "\t6 & 5.4 & 3.9 & 1.7 & 0.4 & setosa &  TRUE\\\\\n",
       "\\end{tabular}\n"
      ],
      "text/markdown": [
       "\n",
       "A data.frame: 6 × 6\n",
       "\n",
       "| <!--/--> | Sepal.Length &lt;dbl&gt; | Sepal.Width &lt;dbl&gt; | Petal.Length &lt;dbl&gt; | Petal.Width &lt;dbl&gt; | Species &lt;fct&gt; | new.column &lt;lgl&gt; |\n",
       "|---|---|---|---|---|---|---|\n",
       "| 1 | 5.1 | 3.5 | 1.4 | 0.2 | setosa |  TRUE |\n",
       "| 2 | 4.9 | 3.0 | 1.4 | 0.2 | setosa | FALSE |\n",
       "| 3 | 4.7 | 3.2 | 1.3 | 0.2 | setosa |  TRUE |\n",
       "| 4 | 4.6 | 3.1 | 1.5 | 0.2 | setosa |  TRUE |\n",
       "| 5 | 5.0 | 3.6 | 1.4 | 0.2 | setosa |  TRUE |\n",
       "| 6 | 5.4 | 3.9 | 1.7 | 0.4 | setosa |  TRUE |\n",
       "\n"
      ],
      "text/plain": [
       "  Sepal.Length Sepal.Width Petal.Length Petal.Width Species new.column\n",
       "1 5.1          3.5         1.4          0.2         setosa   TRUE     \n",
       "2 4.9          3.0         1.4          0.2         setosa  FALSE     \n",
       "3 4.7          3.2         1.3          0.2         setosa   TRUE     \n",
       "4 4.6          3.1         1.5          0.2         setosa   TRUE     \n",
       "5 5.0          3.6         1.4          0.2         setosa   TRUE     \n",
       "6 5.4          3.9         1.7          0.4         setosa   TRUE     "
      ]
     },
     "metadata": {},
     "output_type": "display_data"
    }
   ],
   "source": [
    "# let's create a new column with logical values\n",
    "mutated <- mutate(iris, new.column = Sepal.Width > 3)\n",
    "head(mutated)"
   ]
  },
  {
   "cell_type": "code",
   "execution_count": 9,
   "id": "c9e12b9a",
   "metadata": {},
   "outputs": [
    {
     "data": {
      "text/plain": [
       "\n",
       "FALSE  TRUE \n",
       "   83    67 "
      ]
     },
     "metadata": {},
     "output_type": "display_data"
    }
   ],
   "source": [
    "table(mutated$new.column)"
   ]
  },
  {
   "cell_type": "markdown",
   "id": "34619609",
   "metadata": {},
   "source": [
    "### Arrange"
   ]
  },
  {
   "cell_type": "markdown",
   "id": "e2e06a87",
   "metadata": {},
   "source": [
    "Sorts rows by given variables"
   ]
  },
  {
   "cell_type": "code",
   "execution_count": 10,
   "id": "1735aa05",
   "metadata": {},
   "outputs": [
    {
     "data": {
      "text/html": [
       "<table class=\"dataframe\">\n",
       "<caption>A data.frame: 6 × 5</caption>\n",
       "<thead>\n",
       "\t<tr><th></th><th scope=col>Sepal.Length</th><th scope=col>Sepal.Width</th><th scope=col>Petal.Length</th><th scope=col>Petal.Width</th><th scope=col>Species</th></tr>\n",
       "\t<tr><th></th><th scope=col>&lt;dbl&gt;</th><th scope=col>&lt;dbl&gt;</th><th scope=col>&lt;dbl&gt;</th><th scope=col>&lt;dbl&gt;</th><th scope=col>&lt;fct&gt;</th></tr>\n",
       "</thead>\n",
       "<tbody>\n",
       "\t<tr><th scope=row>1</th><td>4.3</td><td>3.0</td><td>1.1</td><td>0.1</td><td>setosa</td></tr>\n",
       "\t<tr><th scope=row>2</th><td>4.4</td><td>2.9</td><td>1.4</td><td>0.2</td><td>setosa</td></tr>\n",
       "\t<tr><th scope=row>3</th><td>4.4</td><td>3.0</td><td>1.3</td><td>0.2</td><td>setosa</td></tr>\n",
       "\t<tr><th scope=row>4</th><td>4.4</td><td>3.2</td><td>1.3</td><td>0.2</td><td>setosa</td></tr>\n",
       "\t<tr><th scope=row>5</th><td>4.5</td><td>2.3</td><td>1.3</td><td>0.3</td><td>setosa</td></tr>\n",
       "\t<tr><th scope=row>6</th><td>4.6</td><td>3.1</td><td>1.5</td><td>0.2</td><td>setosa</td></tr>\n",
       "</tbody>\n",
       "</table>\n"
      ],
      "text/latex": [
       "A data.frame: 6 × 5\n",
       "\\begin{tabular}{r|lllll}\n",
       "  & Sepal.Length & Sepal.Width & Petal.Length & Petal.Width & Species\\\\\n",
       "  & <dbl> & <dbl> & <dbl> & <dbl> & <fct>\\\\\n",
       "\\hline\n",
       "\t1 & 4.3 & 3.0 & 1.1 & 0.1 & setosa\\\\\n",
       "\t2 & 4.4 & 2.9 & 1.4 & 0.2 & setosa\\\\\n",
       "\t3 & 4.4 & 3.0 & 1.3 & 0.2 & setosa\\\\\n",
       "\t4 & 4.4 & 3.2 & 1.3 & 0.2 & setosa\\\\\n",
       "\t5 & 4.5 & 2.3 & 1.3 & 0.3 & setosa\\\\\n",
       "\t6 & 4.6 & 3.1 & 1.5 & 0.2 & setosa\\\\\n",
       "\\end{tabular}\n"
      ],
      "text/markdown": [
       "\n",
       "A data.frame: 6 × 5\n",
       "\n",
       "| <!--/--> | Sepal.Length &lt;dbl&gt; | Sepal.Width &lt;dbl&gt; | Petal.Length &lt;dbl&gt; | Petal.Width &lt;dbl&gt; | Species &lt;fct&gt; |\n",
       "|---|---|---|---|---|---|\n",
       "| 1 | 4.3 | 3.0 | 1.1 | 0.1 | setosa |\n",
       "| 2 | 4.4 | 2.9 | 1.4 | 0.2 | setosa |\n",
       "| 3 | 4.4 | 3.0 | 1.3 | 0.2 | setosa |\n",
       "| 4 | 4.4 | 3.2 | 1.3 | 0.2 | setosa |\n",
       "| 5 | 4.5 | 2.3 | 1.3 | 0.3 | setosa |\n",
       "| 6 | 4.6 | 3.1 | 1.5 | 0.2 | setosa |\n",
       "\n"
      ],
      "text/plain": [
       "  Sepal.Length Sepal.Width Petal.Length Petal.Width Species\n",
       "1 4.3          3.0         1.1          0.1         setosa \n",
       "2 4.4          2.9         1.4          0.2         setosa \n",
       "3 4.4          3.0         1.3          0.2         setosa \n",
       "4 4.4          3.2         1.3          0.2         setosa \n",
       "5 4.5          2.3         1.3          0.3         setosa \n",
       "6 4.6          3.1         1.5          0.2         setosa "
      ]
     },
     "metadata": {},
     "output_type": "display_data"
    },
    {
     "data": {
      "text/html": [
       "<table class=\"dataframe\">\n",
       "<caption>A data.frame: 6 × 5</caption>\n",
       "<thead>\n",
       "\t<tr><th></th><th scope=col>Sepal.Length</th><th scope=col>Sepal.Width</th><th scope=col>Petal.Length</th><th scope=col>Petal.Width</th><th scope=col>Species</th></tr>\n",
       "\t<tr><th></th><th scope=col>&lt;dbl&gt;</th><th scope=col>&lt;dbl&gt;</th><th scope=col>&lt;dbl&gt;</th><th scope=col>&lt;dbl&gt;</th><th scope=col>&lt;fct&gt;</th></tr>\n",
       "</thead>\n",
       "<tbody>\n",
       "\t<tr><th scope=row>1</th><td>7.9</td><td>3.8</td><td>6.4</td><td>2.0</td><td>virginica</td></tr>\n",
       "\t<tr><th scope=row>2</th><td>7.7</td><td>3.8</td><td>6.7</td><td>2.2</td><td>virginica</td></tr>\n",
       "\t<tr><th scope=row>3</th><td>7.7</td><td>2.6</td><td>6.9</td><td>2.3</td><td>virginica</td></tr>\n",
       "\t<tr><th scope=row>4</th><td>7.7</td><td>2.8</td><td>6.7</td><td>2.0</td><td>virginica</td></tr>\n",
       "\t<tr><th scope=row>5</th><td>7.7</td><td>3.0</td><td>6.1</td><td>2.3</td><td>virginica</td></tr>\n",
       "\t<tr><th scope=row>6</th><td>7.6</td><td>3.0</td><td>6.6</td><td>2.1</td><td>virginica</td></tr>\n",
       "</tbody>\n",
       "</table>\n"
      ],
      "text/latex": [
       "A data.frame: 6 × 5\n",
       "\\begin{tabular}{r|lllll}\n",
       "  & Sepal.Length & Sepal.Width & Petal.Length & Petal.Width & Species\\\\\n",
       "  & <dbl> & <dbl> & <dbl> & <dbl> & <fct>\\\\\n",
       "\\hline\n",
       "\t1 & 7.9 & 3.8 & 6.4 & 2.0 & virginica\\\\\n",
       "\t2 & 7.7 & 3.8 & 6.7 & 2.2 & virginica\\\\\n",
       "\t3 & 7.7 & 2.6 & 6.9 & 2.3 & virginica\\\\\n",
       "\t4 & 7.7 & 2.8 & 6.7 & 2.0 & virginica\\\\\n",
       "\t5 & 7.7 & 3.0 & 6.1 & 2.3 & virginica\\\\\n",
       "\t6 & 7.6 & 3.0 & 6.6 & 2.1 & virginica\\\\\n",
       "\\end{tabular}\n"
      ],
      "text/markdown": [
       "\n",
       "A data.frame: 6 × 5\n",
       "\n",
       "| <!--/--> | Sepal.Length &lt;dbl&gt; | Sepal.Width &lt;dbl&gt; | Petal.Length &lt;dbl&gt; | Petal.Width &lt;dbl&gt; | Species &lt;fct&gt; |\n",
       "|---|---|---|---|---|---|\n",
       "| 1 | 7.9 | 3.8 | 6.4 | 2.0 | virginica |\n",
       "| 2 | 7.7 | 3.8 | 6.7 | 2.2 | virginica |\n",
       "| 3 | 7.7 | 2.6 | 6.9 | 2.3 | virginica |\n",
       "| 4 | 7.7 | 2.8 | 6.7 | 2.0 | virginica |\n",
       "| 5 | 7.7 | 3.0 | 6.1 | 2.3 | virginica |\n",
       "| 6 | 7.6 | 3.0 | 6.6 | 2.1 | virginica |\n",
       "\n"
      ],
      "text/plain": [
       "  Sepal.Length Sepal.Width Petal.Length Petal.Width Species  \n",
       "1 7.9          3.8         6.4          2.0         virginica\n",
       "2 7.7          3.8         6.7          2.2         virginica\n",
       "3 7.7          2.6         6.9          2.3         virginica\n",
       "4 7.7          2.8         6.7          2.0         virginica\n",
       "5 7.7          3.0         6.1          2.3         virginica\n",
       "6 7.6          3.0         6.6          2.1         virginica"
      ]
     },
     "metadata": {},
     "output_type": "display_data"
    }
   ],
   "source": [
    "arranged <- arrange(iris, Sepal.Length)\n",
    "head(arranged)\n",
    "arranged <- arrange(iris, desc(Sepal.Length))\n",
    "head(arranged)"
   ]
  },
  {
   "cell_type": "markdown",
   "id": "4d501a41",
   "metadata": {},
   "source": [
    "### Summarize"
   ]
  },
  {
   "cell_type": "markdown",
   "id": "fbbc1e3f",
   "metadata": {},
   "source": [
    "Basic statistical description, mean, median, mode of a dataset."
   ]
  },
  {
   "cell_type": "code",
   "execution_count": 11,
   "id": "18e9aa68",
   "metadata": {},
   "outputs": [
    {
     "data": {
      "text/html": [
       "<table class=\"dataframe\">\n",
       "<caption>A data.frame: 1 × 2</caption>\n",
       "<thead>\n",
       "\t<tr><th></th><th scope=col>Mean.Length</th><th scope=col>Mean.Width</th></tr>\n",
       "\t<tr><th></th><th scope=col>&lt;dbl&gt;</th><th scope=col>&lt;dbl&gt;</th></tr>\n",
       "</thead>\n",
       "<tbody>\n",
       "\t<tr><th scope=row>1</th><td>5.843333</td><td>3.057333</td></tr>\n",
       "</tbody>\n",
       "</table>\n"
      ],
      "text/latex": [
       "A data.frame: 1 × 2\n",
       "\\begin{tabular}{r|ll}\n",
       "  & Mean.Length & Mean.Width\\\\\n",
       "  & <dbl> & <dbl>\\\\\n",
       "\\hline\n",
       "\t1 & 5.843333 & 3.057333\\\\\n",
       "\\end{tabular}\n"
      ],
      "text/markdown": [
       "\n",
       "A data.frame: 1 × 2\n",
       "\n",
       "| <!--/--> | Mean.Length &lt;dbl&gt; | Mean.Width &lt;dbl&gt; |\n",
       "|---|---|---|\n",
       "| 1 | 5.843333 | 3.057333 |\n",
       "\n"
      ],
      "text/plain": [
       "  Mean.Length Mean.Width\n",
       "1 5.843333    3.057333  "
      ]
     },
     "metadata": {},
     "output_type": "display_data"
    }
   ],
   "source": [
    "summarised <- summarise(iris, Mean.Length = mean(Sepal.Length), Mean.Width = mean(Sepal.Width))\n",
    "head(summarised)"
   ]
  },
  {
   "cell_type": "markdown",
   "id": "1e3c2a50",
   "metadata": {},
   "source": [
    "### Select if"
   ]
  },
  {
   "cell_type": "code",
   "execution_count": 12,
   "id": "119957ea",
   "metadata": {},
   "outputs": [
    {
     "data": {
      "text/html": [
       "<table class=\"dataframe\">\n",
       "<caption>A data.frame: 6 × 2</caption>\n",
       "<thead>\n",
       "\t<tr><th></th><th scope=col>Sepal.Length</th><th scope=col>Petal.Length</th></tr>\n",
       "\t<tr><th></th><th scope=col>&lt;dbl&gt;</th><th scope=col>&lt;dbl&gt;</th></tr>\n",
       "</thead>\n",
       "<tbody>\n",
       "\t<tr><th scope=row>1</th><td>5.1</td><td>1.4</td></tr>\n",
       "\t<tr><th scope=row>2</th><td>4.9</td><td>1.4</td></tr>\n",
       "\t<tr><th scope=row>3</th><td>4.7</td><td>1.3</td></tr>\n",
       "\t<tr><th scope=row>4</th><td>4.6</td><td>1.5</td></tr>\n",
       "\t<tr><th scope=row>5</th><td>5.0</td><td>1.4</td></tr>\n",
       "\t<tr><th scope=row>6</th><td>5.4</td><td>1.7</td></tr>\n",
       "</tbody>\n",
       "</table>\n"
      ],
      "text/latex": [
       "A data.frame: 6 × 2\n",
       "\\begin{tabular}{r|ll}\n",
       "  & Sepal.Length & Petal.Length\\\\\n",
       "  & <dbl> & <dbl>\\\\\n",
       "\\hline\n",
       "\t1 & 5.1 & 1.4\\\\\n",
       "\t2 & 4.9 & 1.4\\\\\n",
       "\t3 & 4.7 & 1.3\\\\\n",
       "\t4 & 4.6 & 1.5\\\\\n",
       "\t5 & 5.0 & 1.4\\\\\n",
       "\t6 & 5.4 & 1.7\\\\\n",
       "\\end{tabular}\n"
      ],
      "text/markdown": [
       "\n",
       "A data.frame: 6 × 2\n",
       "\n",
       "| <!--/--> | Sepal.Length &lt;dbl&gt; | Petal.Length &lt;dbl&gt; |\n",
       "|---|---|---|\n",
       "| 1 | 5.1 | 1.4 |\n",
       "| 2 | 4.9 | 1.4 |\n",
       "| 3 | 4.7 | 1.3 |\n",
       "| 4 | 4.6 | 1.5 |\n",
       "| 5 | 5.0 | 1.4 |\n",
       "| 6 | 5.4 | 1.7 |\n",
       "\n"
      ],
      "text/plain": [
       "  Sepal.Length Petal.Length\n",
       "1 5.1          1.4         \n",
       "2 4.9          1.4         \n",
       "3 4.7          1.3         \n",
       "4 4.6          1.5         \n",
       "5 5.0          1.4         \n",
       "6 5.4          1.7         "
      ]
     },
     "metadata": {},
     "output_type": "display_data"
    }
   ],
   "source": [
    "selected <- select_if(iris, function(col) is.numeric(col) && mean(col) > 3.5)\n",
    "head(selected)"
   ]
  },
  {
   "cell_type": "markdown",
   "id": "ee548094",
   "metadata": {},
   "source": [
    "### Group by"
   ]
  },
  {
   "cell_type": "markdown",
   "id": "9517422a",
   "metadata": {},
   "source": [
    "Used for grouping data within a dataset by one or more variables."
   ]
  },
  {
   "cell_type": "code",
   "execution_count": 13,
   "id": "bee5874b",
   "metadata": {},
   "outputs": [
    {
     "data": {
      "text/html": [
       "<table class=\"dataframe\">\n",
       "<caption>A grouped_df: 6 × 5</caption>\n",
       "<thead>\n",
       "\t<tr><th scope=col>Sepal.Length</th><th scope=col>Sepal.Width</th><th scope=col>Petal.Length</th><th scope=col>Petal.Width</th><th scope=col>Species</th></tr>\n",
       "\t<tr><th scope=col>&lt;dbl&gt;</th><th scope=col>&lt;dbl&gt;</th><th scope=col>&lt;dbl&gt;</th><th scope=col>&lt;dbl&gt;</th><th scope=col>&lt;fct&gt;</th></tr>\n",
       "</thead>\n",
       "<tbody>\n",
       "\t<tr><td>5.1</td><td>3.5</td><td>1.4</td><td>0.2</td><td>setosa</td></tr>\n",
       "\t<tr><td>4.9</td><td>3.0</td><td>1.4</td><td>0.2</td><td>setosa</td></tr>\n",
       "\t<tr><td>4.7</td><td>3.2</td><td>1.3</td><td>0.2</td><td>setosa</td></tr>\n",
       "\t<tr><td>4.6</td><td>3.1</td><td>1.5</td><td>0.2</td><td>setosa</td></tr>\n",
       "\t<tr><td>5.0</td><td>3.6</td><td>1.4</td><td>0.2</td><td>setosa</td></tr>\n",
       "\t<tr><td>5.4</td><td>3.9</td><td>1.7</td><td>0.4</td><td>setosa</td></tr>\n",
       "</tbody>\n",
       "</table>\n"
      ],
      "text/latex": [
       "A grouped\\_df: 6 × 5\n",
       "\\begin{tabular}{lllll}\n",
       " Sepal.Length & Sepal.Width & Petal.Length & Petal.Width & Species\\\\\n",
       " <dbl> & <dbl> & <dbl> & <dbl> & <fct>\\\\\n",
       "\\hline\n",
       "\t 5.1 & 3.5 & 1.4 & 0.2 & setosa\\\\\n",
       "\t 4.9 & 3.0 & 1.4 & 0.2 & setosa\\\\\n",
       "\t 4.7 & 3.2 & 1.3 & 0.2 & setosa\\\\\n",
       "\t 4.6 & 3.1 & 1.5 & 0.2 & setosa\\\\\n",
       "\t 5.0 & 3.6 & 1.4 & 0.2 & setosa\\\\\n",
       "\t 5.4 & 3.9 & 1.7 & 0.4 & setosa\\\\\n",
       "\\end{tabular}\n"
      ],
      "text/markdown": [
       "\n",
       "A grouped_df: 6 × 5\n",
       "\n",
       "| Sepal.Length &lt;dbl&gt; | Sepal.Width &lt;dbl&gt; | Petal.Length &lt;dbl&gt; | Petal.Width &lt;dbl&gt; | Species &lt;fct&gt; |\n",
       "|---|---|---|---|---|\n",
       "| 5.1 | 3.5 | 1.4 | 0.2 | setosa |\n",
       "| 4.9 | 3.0 | 1.4 | 0.2 | setosa |\n",
       "| 4.7 | 3.2 | 1.3 | 0.2 | setosa |\n",
       "| 4.6 | 3.1 | 1.5 | 0.2 | setosa |\n",
       "| 5.0 | 3.6 | 1.4 | 0.2 | setosa |\n",
       "| 5.4 | 3.9 | 1.7 | 0.4 | setosa |\n",
       "\n"
      ],
      "text/plain": [
       "  Sepal.Length Sepal.Width Petal.Length Petal.Width Species\n",
       "1 5.1          3.5         1.4          0.2         setosa \n",
       "2 4.9          3.0         1.4          0.2         setosa \n",
       "3 4.7          3.2         1.3          0.2         setosa \n",
       "4 4.6          3.1         1.5          0.2         setosa \n",
       "5 5.0          3.6         1.4          0.2         setosa \n",
       "6 5.4          3.9         1.7          0.4         setosa "
      ]
     },
     "metadata": {},
     "output_type": "display_data"
    }
   ],
   "source": [
    "grouped <- group_by(iris, Species)\n",
    "head(grouped)"
   ]
  },
  {
   "cell_type": "code",
   "execution_count": 15,
   "id": "175445fc",
   "metadata": {},
   "outputs": [
    {
     "data": {
      "text/html": [
       "<table class=\"dataframe\">\n",
       "<caption>A tibble: 3 × 2</caption>\n",
       "<thead>\n",
       "\t<tr><th scope=col>Species</th><th scope=col>Mean.Sepal.Width</th></tr>\n",
       "\t<tr><th scope=col>&lt;fct&gt;</th><th scope=col>&lt;dbl&gt;</th></tr>\n",
       "</thead>\n",
       "<tbody>\n",
       "\t<tr><td>setosa    </td><td>3.428</td></tr>\n",
       "\t<tr><td>versicolor</td><td>2.770</td></tr>\n",
       "\t<tr><td>virginica </td><td>2.974</td></tr>\n",
       "</tbody>\n",
       "</table>\n"
      ],
      "text/latex": [
       "A tibble: 3 × 2\n",
       "\\begin{tabular}{ll}\n",
       " Species & Mean.Sepal.Width\\\\\n",
       " <fct> & <dbl>\\\\\n",
       "\\hline\n",
       "\t setosa     & 3.428\\\\\n",
       "\t versicolor & 2.770\\\\\n",
       "\t virginica  & 2.974\\\\\n",
       "\\end{tabular}\n"
      ],
      "text/markdown": [
       "\n",
       "A tibble: 3 × 2\n",
       "\n",
       "| Species &lt;fct&gt; | Mean.Sepal.Width &lt;dbl&gt; |\n",
       "|---|---|\n",
       "| setosa     | 3.428 |\n",
       "| versicolor | 2.770 |\n",
       "| virginica  | 2.974 |\n",
       "\n"
      ],
      "text/plain": [
       "  Species    Mean.Sepal.Width\n",
       "1 setosa     3.428           \n",
       "2 versicolor 2.770           \n",
       "3 virginica  2.974           "
      ]
     },
     "metadata": {},
     "output_type": "display_data"
    }
   ],
   "source": [
    "# exercise: create a table with mean of the Sepal.Width for each of the species"
   ]
  },
  {
   "cell_type": "code",
   "execution_count": null,
   "id": "3f0e9fc5",
   "metadata": {},
   "outputs": [],
   "source": []
  },
  {
   "cell_type": "code",
   "execution_count": null,
   "id": "586a5ca9",
   "metadata": {},
   "outputs": [],
   "source": []
  },
  {
   "cell_type": "code",
   "execution_count": null,
   "id": "2d1ce15e",
   "metadata": {},
   "outputs": [],
   "source": []
  },
  {
   "cell_type": "code",
   "execution_count": null,
   "id": "5b7ad42d",
   "metadata": {},
   "outputs": [],
   "source": []
  },
  {
   "cell_type": "code",
   "execution_count": null,
   "id": "4c7a6052",
   "metadata": {},
   "outputs": [],
   "source": []
  },
  {
   "cell_type": "code",
   "execution_count": null,
   "id": "84c95a81",
   "metadata": {},
   "outputs": [],
   "source": []
  },
  {
   "cell_type": "code",
   "execution_count": null,
   "id": "33ad72b9",
   "metadata": {},
   "outputs": [],
   "source": [
    "# Solution\n",
    "summarize_by_species <- summarise(grouped, Mean.Sepal.Width = mean(Sepal.Width))\n",
    "summarize_by_species"
   ]
  },
  {
   "cell_type": "code",
   "execution_count": 14,
   "id": "4369b565",
   "metadata": {},
   "outputs": [
    {
     "data": {
      "text/html": [
       "<table class=\"dataframe\">\n",
       "<caption>A data.frame: 6 × 5</caption>\n",
       "<thead>\n",
       "\t<tr><th></th><th scope=col>Sepal.Length</th><th scope=col>Sepal.Width</th><th scope=col>Petal.Length</th><th scope=col>Petal.Width</th><th scope=col>Species</th></tr>\n",
       "\t<tr><th></th><th scope=col>&lt;dbl&gt;</th><th scope=col>&lt;dbl&gt;</th><th scope=col>&lt;dbl&gt;</th><th scope=col>&lt;dbl&gt;</th><th scope=col>&lt;fct&gt;</th></tr>\n",
       "</thead>\n",
       "<tbody>\n",
       "\t<tr><th scope=row>1</th><td>5.1</td><td>3.5</td><td>1.4</td><td>0.2</td><td>setosa</td></tr>\n",
       "\t<tr><th scope=row>2</th><td>4.7</td><td>3.2</td><td>1.3</td><td>0.2</td><td>setosa</td></tr>\n",
       "\t<tr><th scope=row>3</th><td>4.6</td><td>3.1</td><td>1.5</td><td>0.2</td><td>setosa</td></tr>\n",
       "\t<tr><th scope=row>4</th><td>5.0</td><td>3.6</td><td>1.4</td><td>0.2</td><td>setosa</td></tr>\n",
       "\t<tr><th scope=row>5</th><td>5.4</td><td>3.9</td><td>1.7</td><td>0.4</td><td>setosa</td></tr>\n",
       "\t<tr><th scope=row>6</th><td>4.6</td><td>3.4</td><td>1.4</td><td>0.3</td><td>setosa</td></tr>\n",
       "</tbody>\n",
       "</table>\n"
      ],
      "text/latex": [
       "A data.frame: 6 × 5\n",
       "\\begin{tabular}{r|lllll}\n",
       "  & Sepal.Length & Sepal.Width & Petal.Length & Petal.Width & Species\\\\\n",
       "  & <dbl> & <dbl> & <dbl> & <dbl> & <fct>\\\\\n",
       "\\hline\n",
       "\t1 & 5.1 & 3.5 & 1.4 & 0.2 & setosa\\\\\n",
       "\t2 & 4.7 & 3.2 & 1.3 & 0.2 & setosa\\\\\n",
       "\t3 & 4.6 & 3.1 & 1.5 & 0.2 & setosa\\\\\n",
       "\t4 & 5.0 & 3.6 & 1.4 & 0.2 & setosa\\\\\n",
       "\t5 & 5.4 & 3.9 & 1.7 & 0.4 & setosa\\\\\n",
       "\t6 & 4.6 & 3.4 & 1.4 & 0.3 & setosa\\\\\n",
       "\\end{tabular}\n"
      ],
      "text/markdown": [
       "\n",
       "A data.frame: 6 × 5\n",
       "\n",
       "| <!--/--> | Sepal.Length &lt;dbl&gt; | Sepal.Width &lt;dbl&gt; | Petal.Length &lt;dbl&gt; | Petal.Width &lt;dbl&gt; | Species &lt;fct&gt; |\n",
       "|---|---|---|---|---|---|\n",
       "| 1 | 5.1 | 3.5 | 1.4 | 0.2 | setosa |\n",
       "| 2 | 4.7 | 3.2 | 1.3 | 0.2 | setosa |\n",
       "| 3 | 4.6 | 3.1 | 1.5 | 0.2 | setosa |\n",
       "| 4 | 5.0 | 3.6 | 1.4 | 0.2 | setosa |\n",
       "| 5 | 5.4 | 3.9 | 1.7 | 0.4 | setosa |\n",
       "| 6 | 4.6 | 3.4 | 1.4 | 0.3 | setosa |\n",
       "\n"
      ],
      "text/plain": [
       "  Sepal.Length Sepal.Width Petal.Length Petal.Width Species\n",
       "1 5.1          3.5         1.4          0.2         setosa \n",
       "2 4.7          3.2         1.3          0.2         setosa \n",
       "3 4.6          3.1         1.5          0.2         setosa \n",
       "4 5.0          3.6         1.4          0.2         setosa \n",
       "5 5.4          3.9         1.7          0.4         setosa \n",
       "6 4.6          3.4         1.4          0.3         setosa "
      ]
     },
     "metadata": {},
     "output_type": "display_data"
    }
   ],
   "source": [
    "# pipe operator in R\n",
    "# Multiple functions can be wrapped together using special notation: %>%\n",
    "piped <- iris %>% filter(Species == 'setosa', Sepal.Width > 3.0)\n",
    "head(piped)"
   ]
  },
  {
   "cell_type": "code",
   "execution_count": 16,
   "id": "b42186bd",
   "metadata": {},
   "outputs": [
    {
     "data": {
      "text/html": [
       "<table class=\"dataframe\">\n",
       "<caption>A tibble: 3 × 2</caption>\n",
       "<thead>\n",
       "\t<tr><th scope=col>Species</th><th scope=col>Mean.Length</th></tr>\n",
       "\t<tr><th scope=col>&lt;fct&gt;</th><th scope=col>&lt;dbl&gt;</th></tr>\n",
       "</thead>\n",
       "<tbody>\n",
       "\t<tr><td>setosa    </td><td>5.006</td></tr>\n",
       "\t<tr><td>versicolor</td><td>5.936</td></tr>\n",
       "\t<tr><td>virginica </td><td>6.588</td></tr>\n",
       "</tbody>\n",
       "</table>\n"
      ],
      "text/latex": [
       "A tibble: 3 × 2\n",
       "\\begin{tabular}{ll}\n",
       " Species & Mean.Length\\\\\n",
       " <fct> & <dbl>\\\\\n",
       "\\hline\n",
       "\t setosa     & 5.006\\\\\n",
       "\t versicolor & 5.936\\\\\n",
       "\t virginica  & 6.588\\\\\n",
       "\\end{tabular}\n"
      ],
      "text/markdown": [
       "\n",
       "A tibble: 3 × 2\n",
       "\n",
       "| Species &lt;fct&gt; | Mean.Length &lt;dbl&gt; |\n",
       "|---|---|\n",
       "| setosa     | 5.006 |\n",
       "| versicolor | 5.936 |\n",
       "| virginica  | 6.588 |\n",
       "\n"
      ],
      "text/plain": [
       "  Species    Mean.Length\n",
       "1 setosa     5.006      \n",
       "2 versicolor 5.936      \n",
       "3 virginica  6.588      "
      ]
     },
     "metadata": {},
     "output_type": "display_data"
    }
   ],
   "source": [
    "# Exercise: Find mean Sepal Length by Species, using pipe operator"
   ]
  },
  {
   "cell_type": "code",
   "execution_count": null,
   "id": "e0f5d0ad",
   "metadata": {},
   "outputs": [],
   "source": []
  },
  {
   "cell_type": "code",
   "execution_count": null,
   "id": "94e750f1",
   "metadata": {},
   "outputs": [],
   "source": []
  },
  {
   "cell_type": "code",
   "execution_count": null,
   "id": "b12d4a90",
   "metadata": {},
   "outputs": [],
   "source": []
  },
  {
   "cell_type": "code",
   "execution_count": null,
   "id": "8b0b9f97",
   "metadata": {},
   "outputs": [],
   "source": []
  },
  {
   "cell_type": "code",
   "execution_count": null,
   "id": "55942721",
   "metadata": {},
   "outputs": [],
   "source": []
  },
  {
   "cell_type": "code",
   "execution_count": null,
   "id": "17130a6c",
   "metadata": {},
   "outputs": [],
   "source": []
  },
  {
   "cell_type": "code",
   "execution_count": null,
   "id": "19a19fd1",
   "metadata": {},
   "outputs": [],
   "source": [
    "# solution\n",
    "iris  %>% group_by(Species) %>% summarise(Mean.Length = mean(Sepal.Length))"
   ]
  },
  {
   "cell_type": "markdown",
   "id": "80ff777c",
   "metadata": {},
   "source": [
    "### Join"
   ]
  },
  {
   "cell_type": "markdown",
   "id": "fdc2c8b0",
   "metadata": {},
   "source": [
    "Function used for merging dataframes into one. There are several possibilities how dataframes can be joined: \n",
    "- inner_join\n",
    "- left_join\n",
    "- right_join\n",
    "- full_join\n",
    "- semi_join\n",
    "- anti_join\n",
    "- join Multiple Data Frames\n",
    "- join by Multiple Columns"
   ]
  },
  {
   "cell_type": "code",
   "execution_count": 17,
   "id": "b70ba39b",
   "metadata": {},
   "outputs": [
    {
     "data": {
      "text/html": [
       "<table class=\"dataframe\">\n",
       "<caption>A data.frame: 2 × 2</caption>\n",
       "<thead>\n",
       "\t<tr><th scope=col>index</th><th scope=col>col_01</th></tr>\n",
       "\t<tr><th scope=col>&lt;int&gt;</th><th scope=col>&lt;chr&gt;</th></tr>\n",
       "</thead>\n",
       "<tbody>\n",
       "\t<tr><td>1</td><td>a</td></tr>\n",
       "\t<tr><td>2</td><td>b</td></tr>\n",
       "</tbody>\n",
       "</table>\n"
      ],
      "text/latex": [
       "A data.frame: 2 × 2\n",
       "\\begin{tabular}{ll}\n",
       " index & col\\_01\\\\\n",
       " <int> & <chr>\\\\\n",
       "\\hline\n",
       "\t 1 & a\\\\\n",
       "\t 2 & b\\\\\n",
       "\\end{tabular}\n"
      ],
      "text/markdown": [
       "\n",
       "A data.frame: 2 × 2\n",
       "\n",
       "| index &lt;int&gt; | col_01 &lt;chr&gt; |\n",
       "|---|---|\n",
       "| 1 | a |\n",
       "| 2 | b |\n",
       "\n"
      ],
      "text/plain": [
       "  index col_01\n",
       "1 1     a     \n",
       "2 2     b     "
      ]
     },
     "metadata": {},
     "output_type": "display_data"
    },
    {
     "data": {
      "text/html": [
       "<table class=\"dataframe\">\n",
       "<caption>A data.frame: 2 × 2</caption>\n",
       "<thead>\n",
       "\t<tr><th scope=col>index</th><th scope=col>col_02</th></tr>\n",
       "\t<tr><th scope=col>&lt;int&gt;</th><th scope=col>&lt;chr&gt;</th></tr>\n",
       "</thead>\n",
       "<tbody>\n",
       "\t<tr><td>2</td><td>c</td></tr>\n",
       "\t<tr><td>3</td><td>d</td></tr>\n",
       "</tbody>\n",
       "</table>\n"
      ],
      "text/latex": [
       "A data.frame: 2 × 2\n",
       "\\begin{tabular}{ll}\n",
       " index & col\\_02\\\\\n",
       " <int> & <chr>\\\\\n",
       "\\hline\n",
       "\t 2 & c\\\\\n",
       "\t 3 & d\\\\\n",
       "\\end{tabular}\n"
      ],
      "text/markdown": [
       "\n",
       "A data.frame: 2 × 2\n",
       "\n",
       "| index &lt;int&gt; | col_02 &lt;chr&gt; |\n",
       "|---|---|\n",
       "| 2 | c |\n",
       "| 3 | d |\n",
       "\n"
      ],
      "text/plain": [
       "  index col_02\n",
       "1 2     c     \n",
       "2 3     d     "
      ]
     },
     "metadata": {},
     "output_type": "display_data"
    }
   ],
   "source": [
    "A <- data.frame(index = 1:2,                      \n",
    "                col_01 = c('a', 'b'),\n",
    "                stringsAsFactors = FALSE)\n",
    "B <- data.frame(index = 2:3,                      \n",
    "                col_02 = c('c', 'd'),\n",
    "                stringsAsFactors = FALSE)\n",
    "A\n",
    "B"
   ]
  },
  {
   "cell_type": "code",
   "execution_count": 18,
   "id": "22efb6b8",
   "metadata": {},
   "outputs": [
    {
     "data": {
      "text/html": [
       "<table class=\"dataframe\">\n",
       "<caption>A data.frame: 1 × 3</caption>\n",
       "<thead>\n",
       "\t<tr><th scope=col>index</th><th scope=col>col_01</th><th scope=col>col_02</th></tr>\n",
       "\t<tr><th scope=col>&lt;int&gt;</th><th scope=col>&lt;chr&gt;</th><th scope=col>&lt;chr&gt;</th></tr>\n",
       "</thead>\n",
       "<tbody>\n",
       "\t<tr><td>2</td><td>b</td><td>c</td></tr>\n",
       "</tbody>\n",
       "</table>\n"
      ],
      "text/latex": [
       "A data.frame: 1 × 3\n",
       "\\begin{tabular}{lll}\n",
       " index & col\\_01 & col\\_02\\\\\n",
       " <int> & <chr> & <chr>\\\\\n",
       "\\hline\n",
       "\t 2 & b & c\\\\\n",
       "\\end{tabular}\n"
      ],
      "text/markdown": [
       "\n",
       "A data.frame: 1 × 3\n",
       "\n",
       "| index &lt;int&gt; | col_01 &lt;chr&gt; | col_02 &lt;chr&gt; |\n",
       "|---|---|---|\n",
       "| 2 | b | c |\n",
       "\n"
      ],
      "text/plain": [
       "  index col_01 col_02\n",
       "1 2     b      c     "
      ]
     },
     "metadata": {},
     "output_type": "display_data"
    }
   ],
   "source": [
    "# includes all matching rows in A and B\n",
    "inner_join(A, B, by = 'index')     "
   ]
  },
  {
   "cell_type": "code",
   "execution_count": 19,
   "id": "147f83ff",
   "metadata": {},
   "outputs": [
    {
     "data": {
      "text/html": [
       "<table class=\"dataframe\">\n",
       "<caption>A data.frame: 2 × 3</caption>\n",
       "<thead>\n",
       "\t<tr><th scope=col>index</th><th scope=col>col_01</th><th scope=col>col_02</th></tr>\n",
       "\t<tr><th scope=col>&lt;int&gt;</th><th scope=col>&lt;chr&gt;</th><th scope=col>&lt;chr&gt;</th></tr>\n",
       "</thead>\n",
       "<tbody>\n",
       "\t<tr><td>1</td><td>a</td><td>NA</td></tr>\n",
       "\t<tr><td>2</td><td>b</td><td>c </td></tr>\n",
       "</tbody>\n",
       "</table>\n"
      ],
      "text/latex": [
       "A data.frame: 2 × 3\n",
       "\\begin{tabular}{lll}\n",
       " index & col\\_01 & col\\_02\\\\\n",
       " <int> & <chr> & <chr>\\\\\n",
       "\\hline\n",
       "\t 1 & a & NA\\\\\n",
       "\t 2 & b & c \\\\\n",
       "\\end{tabular}\n"
      ],
      "text/markdown": [
       "\n",
       "A data.frame: 2 × 3\n",
       "\n",
       "| index &lt;int&gt; | col_01 &lt;chr&gt; | col_02 &lt;chr&gt; |\n",
       "|---|---|---|\n",
       "| 1 | a | NA |\n",
       "| 2 | b | c  |\n",
       "\n"
      ],
      "text/plain": [
       "  index col_01 col_02\n",
       "1 1     a      NA    \n",
       "2 2     b      c     "
      ]
     },
     "metadata": {},
     "output_type": "display_data"
    }
   ],
   "source": [
    "# includes all matching rows in A\n",
    "left_join(A, B, by = 'index')     "
   ]
  },
  {
   "cell_type": "code",
   "execution_count": 20,
   "id": "38ed813d",
   "metadata": {},
   "outputs": [
    {
     "data": {
      "text/html": [
       "<table class=\"dataframe\">\n",
       "<caption>A data.frame: 2 × 3</caption>\n",
       "<thead>\n",
       "\t<tr><th scope=col>index</th><th scope=col>col_01</th><th scope=col>col_02</th></tr>\n",
       "\t<tr><th scope=col>&lt;int&gt;</th><th scope=col>&lt;chr&gt;</th><th scope=col>&lt;chr&gt;</th></tr>\n",
       "</thead>\n",
       "<tbody>\n",
       "\t<tr><td>2</td><td>b </td><td>c</td></tr>\n",
       "\t<tr><td>3</td><td>NA</td><td>d</td></tr>\n",
       "</tbody>\n",
       "</table>\n"
      ],
      "text/latex": [
       "A data.frame: 2 × 3\n",
       "\\begin{tabular}{lll}\n",
       " index & col\\_01 & col\\_02\\\\\n",
       " <int> & <chr> & <chr>\\\\\n",
       "\\hline\n",
       "\t 2 & b  & c\\\\\n",
       "\t 3 & NA & d\\\\\n",
       "\\end{tabular}\n"
      ],
      "text/markdown": [
       "\n",
       "A data.frame: 2 × 3\n",
       "\n",
       "| index &lt;int&gt; | col_01 &lt;chr&gt; | col_02 &lt;chr&gt; |\n",
       "|---|---|---|\n",
       "| 2 | b  | c |\n",
       "| 3 | NA | d |\n",
       "\n"
      ],
      "text/plain": [
       "  index col_01 col_02\n",
       "1 2     b      c     \n",
       "2 3     NA     d     "
      ]
     },
     "metadata": {},
     "output_type": "display_data"
    }
   ],
   "source": [
    "# includes all matching rows in B\n",
    "right_join(A, B, by = 'index')     "
   ]
  },
  {
   "cell_type": "code",
   "execution_count": 21,
   "id": "8d871058",
   "metadata": {},
   "outputs": [
    {
     "data": {
      "text/html": [
       "<table class=\"dataframe\">\n",
       "<caption>A data.frame: 3 × 3</caption>\n",
       "<thead>\n",
       "\t<tr><th scope=col>index</th><th scope=col>col_01</th><th scope=col>col_02</th></tr>\n",
       "\t<tr><th scope=col>&lt;int&gt;</th><th scope=col>&lt;chr&gt;</th><th scope=col>&lt;chr&gt;</th></tr>\n",
       "</thead>\n",
       "<tbody>\n",
       "\t<tr><td>1</td><td>a </td><td>NA</td></tr>\n",
       "\t<tr><td>2</td><td>b </td><td>c </td></tr>\n",
       "\t<tr><td>3</td><td>NA</td><td>d </td></tr>\n",
       "</tbody>\n",
       "</table>\n"
      ],
      "text/latex": [
       "A data.frame: 3 × 3\n",
       "\\begin{tabular}{lll}\n",
       " index & col\\_01 & col\\_02\\\\\n",
       " <int> & <chr> & <chr>\\\\\n",
       "\\hline\n",
       "\t 1 & a  & NA\\\\\n",
       "\t 2 & b  & c \\\\\n",
       "\t 3 & NA & d \\\\\n",
       "\\end{tabular}\n"
      ],
      "text/markdown": [
       "\n",
       "A data.frame: 3 × 3\n",
       "\n",
       "| index &lt;int&gt; | col_01 &lt;chr&gt; | col_02 &lt;chr&gt; |\n",
       "|---|---|---|\n",
       "| 1 | a  | NA |\n",
       "| 2 | b  | c  |\n",
       "| 3 | NA | d  |\n",
       "\n"
      ],
      "text/plain": [
       "  index col_01 col_02\n",
       "1 1     a      NA    \n",
       "2 2     b      c     \n",
       "3 3     NA     d     "
      ]
     },
     "metadata": {},
     "output_type": "display_data"
    }
   ],
   "source": [
    "# includes all matching rows in A or B\n",
    "full_join(A, B, by = 'index')     "
   ]
  },
  {
   "cell_type": "code",
   "execution_count": 22,
   "id": "46e660c7",
   "metadata": {},
   "outputs": [
    {
     "data": {
      "text/html": [
       "<table class=\"dataframe\">\n",
       "<caption>A data.frame: 1 × 2</caption>\n",
       "<thead>\n",
       "\t<tr><th scope=col>index</th><th scope=col>col_01</th></tr>\n",
       "\t<tr><th scope=col>&lt;int&gt;</th><th scope=col>&lt;chr&gt;</th></tr>\n",
       "</thead>\n",
       "<tbody>\n",
       "\t<tr><td>2</td><td>b</td></tr>\n",
       "</tbody>\n",
       "</table>\n"
      ],
      "text/latex": [
       "A data.frame: 1 × 2\n",
       "\\begin{tabular}{ll}\n",
       " index & col\\_01\\\\\n",
       " <int> & <chr>\\\\\n",
       "\\hline\n",
       "\t 2 & b\\\\\n",
       "\\end{tabular}\n"
      ],
      "text/markdown": [
       "\n",
       "A data.frame: 1 × 2\n",
       "\n",
       "| index &lt;int&gt; | col_01 &lt;chr&gt; |\n",
       "|---|---|\n",
       "| 2 | b |\n",
       "\n"
      ],
      "text/plain": [
       "  index col_01\n",
       "1 2     b     "
      ]
     },
     "metadata": {},
     "output_type": "display_data"
    }
   ],
   "source": [
    "# filtering join, keeps data from the left data table A and uses B - right data table as filter\n",
    "semi_join(A, B, by = 'index')   "
   ]
  },
  {
   "cell_type": "code",
   "execution_count": 23,
   "id": "85241826",
   "metadata": {},
   "outputs": [
    {
     "data": {
      "text/html": [
       "<table class=\"dataframe\">\n",
       "<caption>A data.frame: 1 × 2</caption>\n",
       "<thead>\n",
       "\t<tr><th scope=col>index</th><th scope=col>col_01</th></tr>\n",
       "\t<tr><th scope=col>&lt;int&gt;</th><th scope=col>&lt;chr&gt;</th></tr>\n",
       "</thead>\n",
       "<tbody>\n",
       "\t<tr><td>1</td><td>a</td></tr>\n",
       "</tbody>\n",
       "</table>\n"
      ],
      "text/latex": [
       "A data.frame: 1 × 2\n",
       "\\begin{tabular}{ll}\n",
       " index & col\\_01\\\\\n",
       " <int> & <chr>\\\\\n",
       "\\hline\n",
       "\t 1 & a\\\\\n",
       "\\end{tabular}\n"
      ],
      "text/markdown": [
       "\n",
       "A data.frame: 1 × 2\n",
       "\n",
       "| index &lt;int&gt; | col_01 &lt;chr&gt; |\n",
       "|---|---|\n",
       "| 1 | a |\n",
       "\n"
      ],
      "text/plain": [
       "  index col_01\n",
       "1 1     a     "
      ]
     },
     "metadata": {},
     "output_type": "display_data"
    }
   ],
   "source": [
    "# anti_join is the opposite of semi_join\n",
    "anti_join(A, B, by = 'index')   "
   ]
  },
  {
   "cell_type": "code",
   "execution_count": 24,
   "id": "5c527ff4",
   "metadata": {},
   "outputs": [
    {
     "data": {
      "text/html": [
       "<table class=\"dataframe\">\n",
       "<caption>A data.frame: 2 × 3</caption>\n",
       "<thead>\n",
       "\t<tr><th scope=col>index</th><th scope=col>col_02</th><th scope=col>col_03</th></tr>\n",
       "\t<tr><th scope=col>&lt;dbl&gt;</th><th scope=col>&lt;chr&gt;</th><th scope=col>&lt;chr&gt;</th></tr>\n",
       "</thead>\n",
       "<tbody>\n",
       "\t<tr><td>2</td><td>c</td><td>e</td></tr>\n",
       "\t<tr><td>4</td><td>d</td><td>f</td></tr>\n",
       "</tbody>\n",
       "</table>\n"
      ],
      "text/latex": [
       "A data.frame: 2 × 3\n",
       "\\begin{tabular}{lll}\n",
       " index & col\\_02 & col\\_03\\\\\n",
       " <dbl> & <chr> & <chr>\\\\\n",
       "\\hline\n",
       "\t 2 & c & e\\\\\n",
       "\t 4 & d & f\\\\\n",
       "\\end{tabular}\n"
      ],
      "text/markdown": [
       "\n",
       "A data.frame: 2 × 3\n",
       "\n",
       "| index &lt;dbl&gt; | col_02 &lt;chr&gt; | col_03 &lt;chr&gt; |\n",
       "|---|---|---|\n",
       "| 2 | c | e |\n",
       "| 4 | d | f |\n",
       "\n"
      ],
      "text/plain": [
       "  index col_02 col_03\n",
       "1 2     c      e     \n",
       "2 4     d      f     "
      ]
     },
     "metadata": {},
     "output_type": "display_data"
    }
   ],
   "source": [
    "# Join multiple dataframes\n",
    "C <- data.frame(index = c(2, 4),                  \n",
    "                col_02 = c('c', 'd'),\n",
    "                col_03 = c('e', 'f'),\n",
    "                 stringsAsFactors = FALSE)\n",
    "C"
   ]
  },
  {
   "cell_type": "code",
   "execution_count": 25,
   "id": "1a882f2f",
   "metadata": {},
   "outputs": [
    {
     "data": {
      "text/html": [
       "<table class=\"dataframe\">\n",
       "<caption>A data.frame: 4 × 5</caption>\n",
       "<thead>\n",
       "\t<tr><th scope=col>index</th><th scope=col>col_01</th><th scope=col>col_02.x</th><th scope=col>col_02.y</th><th scope=col>col_03</th></tr>\n",
       "\t<tr><th scope=col>&lt;dbl&gt;</th><th scope=col>&lt;chr&gt;</th><th scope=col>&lt;chr&gt;</th><th scope=col>&lt;chr&gt;</th><th scope=col>&lt;chr&gt;</th></tr>\n",
       "</thead>\n",
       "<tbody>\n",
       "\t<tr><td>1</td><td>a </td><td>NA</td><td>NA</td><td>NA</td></tr>\n",
       "\t<tr><td>2</td><td>b </td><td>c </td><td>c </td><td>e </td></tr>\n",
       "\t<tr><td>3</td><td>NA</td><td>d </td><td>NA</td><td>NA</td></tr>\n",
       "\t<tr><td>4</td><td>NA</td><td>NA</td><td>d </td><td>f </td></tr>\n",
       "</tbody>\n",
       "</table>\n"
      ],
      "text/latex": [
       "A data.frame: 4 × 5\n",
       "\\begin{tabular}{lllll}\n",
       " index & col\\_01 & col\\_02.x & col\\_02.y & col\\_03\\\\\n",
       " <dbl> & <chr> & <chr> & <chr> & <chr>\\\\\n",
       "\\hline\n",
       "\t 1 & a  & NA & NA & NA\\\\\n",
       "\t 2 & b  & c  & c  & e \\\\\n",
       "\t 3 & NA & d  & NA & NA\\\\\n",
       "\t 4 & NA & NA & d  & f \\\\\n",
       "\\end{tabular}\n"
      ],
      "text/markdown": [
       "\n",
       "A data.frame: 4 × 5\n",
       "\n",
       "| index &lt;dbl&gt; | col_01 &lt;chr&gt; | col_02.x &lt;chr&gt; | col_02.y &lt;chr&gt; | col_03 &lt;chr&gt; |\n",
       "|---|---|---|---|---|\n",
       "| 1 | a  | NA | NA | NA |\n",
       "| 2 | b  | c  | c  | e  |\n",
       "| 3 | NA | d  | NA | NA |\n",
       "| 4 | NA | NA | d  | f  |\n",
       "\n"
      ],
      "text/plain": [
       "  index col_01 col_02.x col_02.y col_03\n",
       "1 1     a      NA       NA       NA    \n",
       "2 2     b      c        c        e     \n",
       "3 3     NA     d        NA       NA    \n",
       "4 4     NA     NA       d        f     "
      ]
     },
     "metadata": {},
     "output_type": "display_data"
    }
   ],
   "source": [
    "# Data will get duplicated, since there are same columns in dataframe B and C\n",
    "full_join(A, B, by = 'index') %>% full_join(., C, by = 'index')"
   ]
  },
  {
   "cell_type": "code",
   "execution_count": 26,
   "id": "41d2850f",
   "metadata": {},
   "outputs": [
    {
     "data": {
      "text/html": [
       "<table class=\"dataframe\">\n",
       "<caption>A data.frame: 3 × 3</caption>\n",
       "<thead>\n",
       "\t<tr><th scope=col>index</th><th scope=col>col_02</th><th scope=col>col_03</th></tr>\n",
       "\t<tr><th scope=col>&lt;dbl&gt;</th><th scope=col>&lt;chr&gt;</th><th scope=col>&lt;chr&gt;</th></tr>\n",
       "</thead>\n",
       "<tbody>\n",
       "\t<tr><td>2</td><td>c</td><td>e </td></tr>\n",
       "\t<tr><td>3</td><td>d</td><td>NA</td></tr>\n",
       "\t<tr><td>4</td><td>d</td><td>f </td></tr>\n",
       "</tbody>\n",
       "</table>\n"
      ],
      "text/latex": [
       "A data.frame: 3 × 3\n",
       "\\begin{tabular}{lll}\n",
       " index & col\\_02 & col\\_03\\\\\n",
       " <dbl> & <chr> & <chr>\\\\\n",
       "\\hline\n",
       "\t 2 & c & e \\\\\n",
       "\t 3 & d & NA\\\\\n",
       "\t 4 & d & f \\\\\n",
       "\\end{tabular}\n"
      ],
      "text/markdown": [
       "\n",
       "A data.frame: 3 × 3\n",
       "\n",
       "| index &lt;dbl&gt; | col_02 &lt;chr&gt; | col_03 &lt;chr&gt; |\n",
       "|---|---|---|\n",
       "| 2 | c | e  |\n",
       "| 3 | d | NA |\n",
       "| 4 | d | f  |\n",
       "\n"
      ],
      "text/plain": [
       "  index col_02 col_03\n",
       "1 2     c      e     \n",
       "2 3     d      NA    \n",
       "3 4     d      f     "
      ]
     },
     "metadata": {},
     "output_type": "display_data"
    }
   ],
   "source": [
    "# Using joining by multiple column can be solution to above problem\n",
    "full_join(B, C, by = c('index', 'col_02'))"
   ]
  },
  {
   "cell_type": "code",
   "execution_count": 27,
   "id": "54547a10",
   "metadata": {},
   "outputs": [
    {
     "data": {
      "text/html": [
       "<table class=\"dataframe\">\n",
       "<caption>A data.frame: 2 × 2</caption>\n",
       "<thead>\n",
       "\t<tr><th scope=col>index</th><th scope=col>col_02</th></tr>\n",
       "\t<tr><th scope=col>&lt;int&gt;</th><th scope=col>&lt;chr&gt;</th></tr>\n",
       "</thead>\n",
       "<tbody>\n",
       "\t<tr><td>2</td><td>c</td></tr>\n",
       "\t<tr><td>3</td><td>d</td></tr>\n",
       "</tbody>\n",
       "</table>\n"
      ],
      "text/latex": [
       "A data.frame: 2 × 2\n",
       "\\begin{tabular}{ll}\n",
       " index & col\\_02\\\\\n",
       " <int> & <chr>\\\\\n",
       "\\hline\n",
       "\t 2 & c\\\\\n",
       "\t 3 & d\\\\\n",
       "\\end{tabular}\n"
      ],
      "text/markdown": [
       "\n",
       "A data.frame: 2 × 2\n",
       "\n",
       "| index &lt;int&gt; | col_02 &lt;chr&gt; |\n",
       "|---|---|\n",
       "| 2 | c |\n",
       "| 3 | d |\n",
       "\n"
      ],
      "text/plain": [
       "  index col_02\n",
       "1 2     c     \n",
       "2 3     d     "
      ]
     },
     "metadata": {},
     "output_type": "display_data"
    },
    {
     "data": {
      "text/html": [
       "<table class=\"dataframe\">\n",
       "<caption>A data.frame: 2 × 3</caption>\n",
       "<thead>\n",
       "\t<tr><th scope=col>index</th><th scope=col>col_02</th><th scope=col>col_03</th></tr>\n",
       "\t<tr><th scope=col>&lt;dbl&gt;</th><th scope=col>&lt;chr&gt;</th><th scope=col>&lt;chr&gt;</th></tr>\n",
       "</thead>\n",
       "<tbody>\n",
       "\t<tr><td>2</td><td>c</td><td>e</td></tr>\n",
       "\t<tr><td>4</td><td>d</td><td>f</td></tr>\n",
       "</tbody>\n",
       "</table>\n"
      ],
      "text/latex": [
       "A data.frame: 2 × 3\n",
       "\\begin{tabular}{lll}\n",
       " index & col\\_02 & col\\_03\\\\\n",
       " <dbl> & <chr> & <chr>\\\\\n",
       "\\hline\n",
       "\t 2 & c & e\\\\\n",
       "\t 4 & d & f\\\\\n",
       "\\end{tabular}\n"
      ],
      "text/markdown": [
       "\n",
       "A data.frame: 2 × 3\n",
       "\n",
       "| index &lt;dbl&gt; | col_02 &lt;chr&gt; | col_03 &lt;chr&gt; |\n",
       "|---|---|---|\n",
       "| 2 | c | e |\n",
       "| 4 | d | f |\n",
       "\n"
      ],
      "text/plain": [
       "  index col_02 col_03\n",
       "1 2     c      e     \n",
       "2 4     d      f     "
      ]
     },
     "metadata": {},
     "output_type": "display_data"
    }
   ],
   "source": [
    "B\n",
    "C"
   ]
  },
  {
   "cell_type": "code",
   "execution_count": 28,
   "id": "fb156495",
   "metadata": {},
   "outputs": [
    {
     "data": {
      "text/html": [
       "<table class=\"dataframe\">\n",
       "<caption>A data.frame: 3 × 2</caption>\n",
       "<thead>\n",
       "\t<tr><th scope=col>col_02</th><th scope=col>col_03</th></tr>\n",
       "\t<tr><th scope=col>&lt;chr&gt;</th><th scope=col>&lt;chr&gt;</th></tr>\n",
       "</thead>\n",
       "<tbody>\n",
       "\t<tr><td>c</td><td>e </td></tr>\n",
       "\t<tr><td>d</td><td>NA</td></tr>\n",
       "\t<tr><td>d</td><td>f </td></tr>\n",
       "</tbody>\n",
       "</table>\n"
      ],
      "text/latex": [
       "A data.frame: 3 × 2\n",
       "\\begin{tabular}{ll}\n",
       " col\\_02 & col\\_03\\\\\n",
       " <chr> & <chr>\\\\\n",
       "\\hline\n",
       "\t c & e \\\\\n",
       "\t d & NA\\\\\n",
       "\t d & f \\\\\n",
       "\\end{tabular}\n"
      ],
      "text/markdown": [
       "\n",
       "A data.frame: 3 × 2\n",
       "\n",
       "| col_02 &lt;chr&gt; | col_03 &lt;chr&gt; |\n",
       "|---|---|\n",
       "| c | e  |\n",
       "| d | NA |\n",
       "| d | f  |\n",
       "\n"
      ],
      "text/plain": [
       "  col_02 col_03\n",
       "1 c      e     \n",
       "2 d      NA    \n",
       "3 d      f     "
      ]
     },
     "metadata": {},
     "output_type": "display_data"
    }
   ],
   "source": [
    "# If you don't need the column that you use as a matching criterion, you may get rid of it right away\n",
    "full_join(B, C, by = c('index', 'col_02')) %>% select(-'index')"
   ]
  },
  {
   "cell_type": "markdown",
   "id": "d9c604fe",
   "metadata": {},
   "source": [
    "## Reading the data from local disk or URL"
   ]
  },
  {
   "cell_type": "code",
   "execution_count": 29,
   "id": "dc02f5f1",
   "metadata": {},
   "outputs": [
    {
     "name": "stderr",
     "output_type": "stream",
     "text": [
      "Updating HTML index of packages in '.Library'\n",
      "\n",
      "Making 'packages.html' ...\n",
      " done\n",
      "\n"
     ]
    }
   ],
   "source": [
    "# Let's get a dataset: https://archive.ics.uci.edu/ml/datasets/Bank+Marketing\n",
    "# there are several files in the zip, we will use bank-full.csv\n",
    "# We can use data.table package: https://cran.r-project.org/web/packages/data.table/index.html\n",
    "install.packages('data.table')"
   ]
  },
  {
   "cell_type": "code",
   "execution_count": 30,
   "id": "affae0b4",
   "metadata": {},
   "outputs": [],
   "source": [
    "# create new folder\n",
    "mkdir <- function(folder){\n",
    "    if (file.exists(folder)) {\n",
    "\n",
    "         cat(\"The folder already exists\")\n",
    "\n",
    "        } else {\n",
    "\n",
    "         dir.create(folder)\n",
    "\n",
    "    }}"
   ]
  },
  {
   "cell_type": "code",
   "execution_count": 31,
   "id": "15a79fb3",
   "metadata": {},
   "outputs": [
    {
     "name": "stderr",
     "output_type": "stream",
     "text": [
      "\n",
      "Attaching package: ‘data.table’\n",
      "\n",
      "\n",
      "The following objects are masked from ‘package:dplyr’:\n",
      "\n",
      "    between, first, last\n",
      "\n",
      "\n"
     ]
    },
    {
     "data": {
      "text/html": [
       "<table class=\"dataframe\">\n",
       "<caption>A data.table: 6 × 17</caption>\n",
       "<thead>\n",
       "\t<tr><th scope=col>age</th><th scope=col>job</th><th scope=col>marital</th><th scope=col>education</th><th scope=col>default</th><th scope=col>balance</th><th scope=col>housing</th><th scope=col>loan</th><th scope=col>contact</th><th scope=col>day</th><th scope=col>month</th><th scope=col>duration</th><th scope=col>campaign</th><th scope=col>pdays</th><th scope=col>previous</th><th scope=col>poutcome</th><th scope=col>y</th></tr>\n",
       "\t<tr><th scope=col>&lt;int&gt;</th><th scope=col>&lt;chr&gt;</th><th scope=col>&lt;chr&gt;</th><th scope=col>&lt;chr&gt;</th><th scope=col>&lt;chr&gt;</th><th scope=col>&lt;int&gt;</th><th scope=col>&lt;chr&gt;</th><th scope=col>&lt;chr&gt;</th><th scope=col>&lt;chr&gt;</th><th scope=col>&lt;int&gt;</th><th scope=col>&lt;chr&gt;</th><th scope=col>&lt;int&gt;</th><th scope=col>&lt;int&gt;</th><th scope=col>&lt;int&gt;</th><th scope=col>&lt;int&gt;</th><th scope=col>&lt;chr&gt;</th><th scope=col>&lt;chr&gt;</th></tr>\n",
       "</thead>\n",
       "<tbody>\n",
       "\t<tr><td>58</td><td>management  </td><td>married</td><td>tertiary </td><td>no</td><td>2143</td><td>yes</td><td>no </td><td>unknown</td><td>5</td><td>may</td><td>261</td><td>1</td><td>-1</td><td>0</td><td>unknown</td><td>no</td></tr>\n",
       "\t<tr><td>44</td><td>technician  </td><td>single </td><td>secondary</td><td>no</td><td>  29</td><td>yes</td><td>no </td><td>unknown</td><td>5</td><td>may</td><td>151</td><td>1</td><td>-1</td><td>0</td><td>unknown</td><td>no</td></tr>\n",
       "\t<tr><td>33</td><td>entrepreneur</td><td>married</td><td>secondary</td><td>no</td><td>   2</td><td>yes</td><td>yes</td><td>unknown</td><td>5</td><td>may</td><td> 76</td><td>1</td><td>-1</td><td>0</td><td>unknown</td><td>no</td></tr>\n",
       "\t<tr><td>47</td><td>blue-collar </td><td>married</td><td>unknown  </td><td>no</td><td>1506</td><td>yes</td><td>no </td><td>unknown</td><td>5</td><td>may</td><td> 92</td><td>1</td><td>-1</td><td>0</td><td>unknown</td><td>no</td></tr>\n",
       "\t<tr><td>33</td><td>unknown     </td><td>single </td><td>unknown  </td><td>no</td><td>   1</td><td>no </td><td>no </td><td>unknown</td><td>5</td><td>may</td><td>198</td><td>1</td><td>-1</td><td>0</td><td>unknown</td><td>no</td></tr>\n",
       "\t<tr><td>35</td><td>management  </td><td>married</td><td>tertiary </td><td>no</td><td> 231</td><td>yes</td><td>no </td><td>unknown</td><td>5</td><td>may</td><td>139</td><td>1</td><td>-1</td><td>0</td><td>unknown</td><td>no</td></tr>\n",
       "</tbody>\n",
       "</table>\n"
      ],
      "text/latex": [
       "A data.table: 6 × 17\n",
       "\\begin{tabular}{lllllllllllllllll}\n",
       " age & job & marital & education & default & balance & housing & loan & contact & day & month & duration & campaign & pdays & previous & poutcome & y\\\\\n",
       " <int> & <chr> & <chr> & <chr> & <chr> & <int> & <chr> & <chr> & <chr> & <int> & <chr> & <int> & <int> & <int> & <int> & <chr> & <chr>\\\\\n",
       "\\hline\n",
       "\t 58 & management   & married & tertiary  & no & 2143 & yes & no  & unknown & 5 & may & 261 & 1 & -1 & 0 & unknown & no\\\\\n",
       "\t 44 & technician   & single  & secondary & no &   29 & yes & no  & unknown & 5 & may & 151 & 1 & -1 & 0 & unknown & no\\\\\n",
       "\t 33 & entrepreneur & married & secondary & no &    2 & yes & yes & unknown & 5 & may &  76 & 1 & -1 & 0 & unknown & no\\\\\n",
       "\t 47 & blue-collar  & married & unknown   & no & 1506 & yes & no  & unknown & 5 & may &  92 & 1 & -1 & 0 & unknown & no\\\\\n",
       "\t 33 & unknown      & single  & unknown   & no &    1 & no  & no  & unknown & 5 & may & 198 & 1 & -1 & 0 & unknown & no\\\\\n",
       "\t 35 & management   & married & tertiary  & no &  231 & yes & no  & unknown & 5 & may & 139 & 1 & -1 & 0 & unknown & no\\\\\n",
       "\\end{tabular}\n"
      ],
      "text/markdown": [
       "\n",
       "A data.table: 6 × 17\n",
       "\n",
       "| age &lt;int&gt; | job &lt;chr&gt; | marital &lt;chr&gt; | education &lt;chr&gt; | default &lt;chr&gt; | balance &lt;int&gt; | housing &lt;chr&gt; | loan &lt;chr&gt; | contact &lt;chr&gt; | day &lt;int&gt; | month &lt;chr&gt; | duration &lt;int&gt; | campaign &lt;int&gt; | pdays &lt;int&gt; | previous &lt;int&gt; | poutcome &lt;chr&gt; | y &lt;chr&gt; |\n",
       "|---|---|---|---|---|---|---|---|---|---|---|---|---|---|---|---|---|\n",
       "| 58 | management   | married | tertiary  | no | 2143 | yes | no  | unknown | 5 | may | 261 | 1 | -1 | 0 | unknown | no |\n",
       "| 44 | technician   | single  | secondary | no |   29 | yes | no  | unknown | 5 | may | 151 | 1 | -1 | 0 | unknown | no |\n",
       "| 33 | entrepreneur | married | secondary | no |    2 | yes | yes | unknown | 5 | may |  76 | 1 | -1 | 0 | unknown | no |\n",
       "| 47 | blue-collar  | married | unknown   | no | 1506 | yes | no  | unknown | 5 | may |  92 | 1 | -1 | 0 | unknown | no |\n",
       "| 33 | unknown      | single  | unknown   | no |    1 | no  | no  | unknown | 5 | may | 198 | 1 | -1 | 0 | unknown | no |\n",
       "| 35 | management   | married | tertiary  | no |  231 | yes | no  | unknown | 5 | may | 139 | 1 | -1 | 0 | unknown | no |\n",
       "\n"
      ],
      "text/plain": [
       "  age job          marital education default balance housing loan contact day\n",
       "1 58  management   married tertiary  no      2143    yes     no   unknown 5  \n",
       "2 44  technician   single  secondary no        29    yes     no   unknown 5  \n",
       "3 33  entrepreneur married secondary no         2    yes     yes  unknown 5  \n",
       "4 47  blue-collar  married unknown   no      1506    yes     no   unknown 5  \n",
       "5 33  unknown      single  unknown   no         1    no      no   unknown 5  \n",
       "6 35  management   married tertiary  no       231    yes     no   unknown 5  \n",
       "  month duration campaign pdays previous poutcome y \n",
       "1 may   261      1        -1    0        unknown  no\n",
       "2 may   151      1        -1    0        unknown  no\n",
       "3 may    76      1        -1    0        unknown  no\n",
       "4 may    92      1        -1    0        unknown  no\n",
       "5 may   198      1        -1    0        unknown  no\n",
       "6 may   139      1        -1    0        unknown  no"
      ]
     },
     "metadata": {},
     "output_type": "display_data"
    },
    {
     "name": "stdout",
     "output_type": "stream",
     "text": [
      "The folder already exists"
     ]
    }
   ],
   "source": [
    "library(data.table)\n",
    "temp <- tempfile()\n",
    "download.file('https://archive.ics.uci.edu/ml/machine-learning-databases/00222/bank.zip', temp)\n",
    "data <- fread(unzip(temp, files = \"bank-full.csv\"))\n",
    "rm(temp)\n",
    "\n",
    "head(data)\n",
    "mkdir('data')\n",
    "write.csv(data,'./data/bank-full.csv', row.names = FALSE)"
   ]
  },
  {
   "cell_type": "code",
   "execution_count": 32,
   "id": "689bc2d6",
   "metadata": {},
   "outputs": [
    {
     "data": {
      "text/html": [
       "<table class=\"dataframe\">\n",
       "<caption>A data.frame: 6 × 17</caption>\n",
       "<thead>\n",
       "\t<tr><th></th><th scope=col>age</th><th scope=col>job</th><th scope=col>marital</th><th scope=col>education</th><th scope=col>default</th><th scope=col>balance</th><th scope=col>housing</th><th scope=col>loan</th><th scope=col>contact</th><th scope=col>day</th><th scope=col>month</th><th scope=col>duration</th><th scope=col>campaign</th><th scope=col>pdays</th><th scope=col>previous</th><th scope=col>poutcome</th><th scope=col>y</th></tr>\n",
       "\t<tr><th></th><th scope=col>&lt;int&gt;</th><th scope=col>&lt;chr&gt;</th><th scope=col>&lt;chr&gt;</th><th scope=col>&lt;chr&gt;</th><th scope=col>&lt;chr&gt;</th><th scope=col>&lt;int&gt;</th><th scope=col>&lt;chr&gt;</th><th scope=col>&lt;chr&gt;</th><th scope=col>&lt;chr&gt;</th><th scope=col>&lt;int&gt;</th><th scope=col>&lt;chr&gt;</th><th scope=col>&lt;int&gt;</th><th scope=col>&lt;int&gt;</th><th scope=col>&lt;int&gt;</th><th scope=col>&lt;int&gt;</th><th scope=col>&lt;chr&gt;</th><th scope=col>&lt;chr&gt;</th></tr>\n",
       "</thead>\n",
       "<tbody>\n",
       "\t<tr><th scope=row>1</th><td>58</td><td>management  </td><td>married</td><td>tertiary </td><td>no</td><td>2143</td><td>yes</td><td>no </td><td>unknown</td><td>5</td><td>may</td><td>261</td><td>1</td><td>-1</td><td>0</td><td>unknown</td><td>no</td></tr>\n",
       "\t<tr><th scope=row>2</th><td>44</td><td>technician  </td><td>single </td><td>secondary</td><td>no</td><td>  29</td><td>yes</td><td>no </td><td>unknown</td><td>5</td><td>may</td><td>151</td><td>1</td><td>-1</td><td>0</td><td>unknown</td><td>no</td></tr>\n",
       "\t<tr><th scope=row>3</th><td>33</td><td>entrepreneur</td><td>married</td><td>secondary</td><td>no</td><td>   2</td><td>yes</td><td>yes</td><td>unknown</td><td>5</td><td>may</td><td> 76</td><td>1</td><td>-1</td><td>0</td><td>unknown</td><td>no</td></tr>\n",
       "\t<tr><th scope=row>4</th><td>47</td><td>blue-collar </td><td>married</td><td>unknown  </td><td>no</td><td>1506</td><td>yes</td><td>no </td><td>unknown</td><td>5</td><td>may</td><td> 92</td><td>1</td><td>-1</td><td>0</td><td>unknown</td><td>no</td></tr>\n",
       "\t<tr><th scope=row>5</th><td>33</td><td>unknown     </td><td>single </td><td>unknown  </td><td>no</td><td>   1</td><td>no </td><td>no </td><td>unknown</td><td>5</td><td>may</td><td>198</td><td>1</td><td>-1</td><td>0</td><td>unknown</td><td>no</td></tr>\n",
       "\t<tr><th scope=row>6</th><td>35</td><td>management  </td><td>married</td><td>tertiary </td><td>no</td><td> 231</td><td>yes</td><td>no </td><td>unknown</td><td>5</td><td>may</td><td>139</td><td>1</td><td>-1</td><td>0</td><td>unknown</td><td>no</td></tr>\n",
       "</tbody>\n",
       "</table>\n"
      ],
      "text/latex": [
       "A data.frame: 6 × 17\n",
       "\\begin{tabular}{r|lllllllllllllllll}\n",
       "  & age & job & marital & education & default & balance & housing & loan & contact & day & month & duration & campaign & pdays & previous & poutcome & y\\\\\n",
       "  & <int> & <chr> & <chr> & <chr> & <chr> & <int> & <chr> & <chr> & <chr> & <int> & <chr> & <int> & <int> & <int> & <int> & <chr> & <chr>\\\\\n",
       "\\hline\n",
       "\t1 & 58 & management   & married & tertiary  & no & 2143 & yes & no  & unknown & 5 & may & 261 & 1 & -1 & 0 & unknown & no\\\\\n",
       "\t2 & 44 & technician   & single  & secondary & no &   29 & yes & no  & unknown & 5 & may & 151 & 1 & -1 & 0 & unknown & no\\\\\n",
       "\t3 & 33 & entrepreneur & married & secondary & no &    2 & yes & yes & unknown & 5 & may &  76 & 1 & -1 & 0 & unknown & no\\\\\n",
       "\t4 & 47 & blue-collar  & married & unknown   & no & 1506 & yes & no  & unknown & 5 & may &  92 & 1 & -1 & 0 & unknown & no\\\\\n",
       "\t5 & 33 & unknown      & single  & unknown   & no &    1 & no  & no  & unknown & 5 & may & 198 & 1 & -1 & 0 & unknown & no\\\\\n",
       "\t6 & 35 & management   & married & tertiary  & no &  231 & yes & no  & unknown & 5 & may & 139 & 1 & -1 & 0 & unknown & no\\\\\n",
       "\\end{tabular}\n"
      ],
      "text/markdown": [
       "\n",
       "A data.frame: 6 × 17\n",
       "\n",
       "| <!--/--> | age &lt;int&gt; | job &lt;chr&gt; | marital &lt;chr&gt; | education &lt;chr&gt; | default &lt;chr&gt; | balance &lt;int&gt; | housing &lt;chr&gt; | loan &lt;chr&gt; | contact &lt;chr&gt; | day &lt;int&gt; | month &lt;chr&gt; | duration &lt;int&gt; | campaign &lt;int&gt; | pdays &lt;int&gt; | previous &lt;int&gt; | poutcome &lt;chr&gt; | y &lt;chr&gt; |\n",
       "|---|---|---|---|---|---|---|---|---|---|---|---|---|---|---|---|---|---|\n",
       "| 1 | 58 | management   | married | tertiary  | no | 2143 | yes | no  | unknown | 5 | may | 261 | 1 | -1 | 0 | unknown | no |\n",
       "| 2 | 44 | technician   | single  | secondary | no |   29 | yes | no  | unknown | 5 | may | 151 | 1 | -1 | 0 | unknown | no |\n",
       "| 3 | 33 | entrepreneur | married | secondary | no |    2 | yes | yes | unknown | 5 | may |  76 | 1 | -1 | 0 | unknown | no |\n",
       "| 4 | 47 | blue-collar  | married | unknown   | no | 1506 | yes | no  | unknown | 5 | may |  92 | 1 | -1 | 0 | unknown | no |\n",
       "| 5 | 33 | unknown      | single  | unknown   | no |    1 | no  | no  | unknown | 5 | may | 198 | 1 | -1 | 0 | unknown | no |\n",
       "| 6 | 35 | management   | married | tertiary  | no |  231 | yes | no  | unknown | 5 | may | 139 | 1 | -1 | 0 | unknown | no |\n",
       "\n"
      ],
      "text/plain": [
       "  age job          marital education default balance housing loan contact day\n",
       "1 58  management   married tertiary  no      2143    yes     no   unknown 5  \n",
       "2 44  technician   single  secondary no        29    yes     no   unknown 5  \n",
       "3 33  entrepreneur married secondary no         2    yes     yes  unknown 5  \n",
       "4 47  blue-collar  married unknown   no      1506    yes     no   unknown 5  \n",
       "5 33  unknown      single  unknown   no         1    no      no   unknown 5  \n",
       "6 35  management   married tertiary  no       231    yes     no   unknown 5  \n",
       "  month duration campaign pdays previous poutcome y \n",
       "1 may   261      1        -1    0        unknown  no\n",
       "2 may   151      1        -1    0        unknown  no\n",
       "3 may    76      1        -1    0        unknown  no\n",
       "4 may    92      1        -1    0        unknown  no\n",
       "5 may   198      1        -1    0        unknown  no\n",
       "6 may   139      1        -1    0        unknown  no"
      ]
     },
     "metadata": {},
     "output_type": "display_data"
    }
   ],
   "source": [
    "data <- read.csv('./data/bank-full.csv')\n",
    "head(data)"
   ]
  },
  {
   "cell_type": "markdown",
   "id": "b9d1f437",
   "metadata": {},
   "source": [
    "### Apply functions"
   ]
  },
  {
   "cell_type": "markdown",
   "id": "bd8bc6f9",
   "metadata": {},
   "source": [
    "Helps to work with data in batches.\n",
    "- apply()\n",
    "- lapply()\n",
    "- sapply()\n",
    "- tapply()"
   ]
  },
  {
   "cell_type": "markdown",
   "id": "e54e6701",
   "metadata": {},
   "source": [
    "### Apply\n",
    "apply(x, margin, function, ...)<br>\n",
    "margin - A vector giving the subscripts which the function will be applied over.\n",
    "- 1 indicates rows\n",
    "- 2 indicates columns\n",
    "- c(1, 2) indicates rows and columns\n",
    "<br>function - The function that will be applied over data"
   ]
  },
  {
   "cell_type": "code",
   "execution_count": 33,
   "id": "90727bb7",
   "metadata": {},
   "outputs": [
    {
     "data": {
      "text/html": [
       "<table class=\"dataframe\">\n",
       "<caption>A data.frame: 7 × 1</caption>\n",
       "<thead>\n",
       "\t<tr><th></th><th scope=col>apply.data_ints..2..mean.</th></tr>\n",
       "\t<tr><th></th><th scope=col>&lt;dbl&gt;</th></tr>\n",
       "</thead>\n",
       "<tbody>\n",
       "\t<tr><th scope=row>age</th><td>  40.9362102</td></tr>\n",
       "\t<tr><th scope=row>balance</th><td>1362.2720577</td></tr>\n",
       "\t<tr><th scope=row>day</th><td>  15.8064188</td></tr>\n",
       "\t<tr><th scope=row>duration</th><td> 258.1630798</td></tr>\n",
       "\t<tr><th scope=row>campaign</th><td>   2.7638407</td></tr>\n",
       "\t<tr><th scope=row>pdays</th><td>  40.1978280</td></tr>\n",
       "\t<tr><th scope=row>previous</th><td>   0.5803234</td></tr>\n",
       "</tbody>\n",
       "</table>\n"
      ],
      "text/latex": [
       "A data.frame: 7 × 1\n",
       "\\begin{tabular}{r|l}\n",
       "  & apply.data\\_ints..2..mean.\\\\\n",
       "  & <dbl>\\\\\n",
       "\\hline\n",
       "\tage &   40.9362102\\\\\n",
       "\tbalance & 1362.2720577\\\\\n",
       "\tday &   15.8064188\\\\\n",
       "\tduration &  258.1630798\\\\\n",
       "\tcampaign &    2.7638407\\\\\n",
       "\tpdays &   40.1978280\\\\\n",
       "\tprevious &    0.5803234\\\\\n",
       "\\end{tabular}\n"
      ],
      "text/markdown": [
       "\n",
       "A data.frame: 7 × 1\n",
       "\n",
       "| <!--/--> | apply.data_ints..2..mean. &lt;dbl&gt; |\n",
       "|---|---|\n",
       "| age |   40.9362102 |\n",
       "| balance | 1362.2720577 |\n",
       "| day |   15.8064188 |\n",
       "| duration |  258.1630798 |\n",
       "| campaign |    2.7638407 |\n",
       "| pdays |   40.1978280 |\n",
       "| previous |    0.5803234 |\n",
       "\n"
      ],
      "text/plain": [
       "         apply.data_ints..2..mean.\n",
       "age        40.9362102             \n",
       "balance  1362.2720577             \n",
       "day        15.8064188             \n",
       "duration  258.1630798             \n",
       "campaign    2.7638407             \n",
       "pdays      40.1978280             \n",
       "previous    0.5803234             "
      ]
     },
     "metadata": {},
     "output_type": "display_data"
    }
   ],
   "source": [
    "data_ints <- select_if(data, function(col) is.numeric(col))\n",
    "data.frame(apply(data_ints, 2, mean))"
   ]
  },
  {
   "cell_type": "code",
   "execution_count": 34,
   "id": "508dfac0",
   "metadata": {},
   "outputs": [
    {
     "data": {
      "text/html": [
       "<table class=\"dataframe\">\n",
       "<caption>A matrix: 6 × 7 of type dbl</caption>\n",
       "<thead>\n",
       "\t<tr><th scope=col>age</th><th scope=col>balance</th><th scope=col>day</th><th scope=col>duration</th><th scope=col>campaign</th><th scope=col>pdays</th><th scope=col>previous</th></tr>\n",
       "</thead>\n",
       "<tbody>\n",
       "\t<tr><td>3364</td><td>4592449</td><td>25</td><td>68121</td><td>1</td><td>1</td><td>0</td></tr>\n",
       "\t<tr><td>1936</td><td>    841</td><td>25</td><td>22801</td><td>1</td><td>1</td><td>0</td></tr>\n",
       "\t<tr><td>1089</td><td>      4</td><td>25</td><td> 5776</td><td>1</td><td>1</td><td>0</td></tr>\n",
       "\t<tr><td>2209</td><td>2268036</td><td>25</td><td> 8464</td><td>1</td><td>1</td><td>0</td></tr>\n",
       "\t<tr><td>1089</td><td>      1</td><td>25</td><td>39204</td><td>1</td><td>1</td><td>0</td></tr>\n",
       "\t<tr><td>1225</td><td>  53361</td><td>25</td><td>19321</td><td>1</td><td>1</td><td>0</td></tr>\n",
       "</tbody>\n",
       "</table>\n"
      ],
      "text/latex": [
       "A matrix: 6 × 7 of type dbl\n",
       "\\begin{tabular}{lllllll}\n",
       " age & balance & day & duration & campaign & pdays & previous\\\\\n",
       "\\hline\n",
       "\t 3364 & 4592449 & 25 & 68121 & 1 & 1 & 0\\\\\n",
       "\t 1936 &     841 & 25 & 22801 & 1 & 1 & 0\\\\\n",
       "\t 1089 &       4 & 25 &  5776 & 1 & 1 & 0\\\\\n",
       "\t 2209 & 2268036 & 25 &  8464 & 1 & 1 & 0\\\\\n",
       "\t 1089 &       1 & 25 & 39204 & 1 & 1 & 0\\\\\n",
       "\t 1225 &   53361 & 25 & 19321 & 1 & 1 & 0\\\\\n",
       "\\end{tabular}\n"
      ],
      "text/markdown": [
       "\n",
       "A matrix: 6 × 7 of type dbl\n",
       "\n",
       "| age | balance | day | duration | campaign | pdays | previous |\n",
       "|---|---|---|---|---|---|---|\n",
       "| 3364 | 4592449 | 25 | 68121 | 1 | 1 | 0 |\n",
       "| 1936 |     841 | 25 | 22801 | 1 | 1 | 0 |\n",
       "| 1089 |       4 | 25 |  5776 | 1 | 1 | 0 |\n",
       "| 2209 | 2268036 | 25 |  8464 | 1 | 1 | 0 |\n",
       "| 1089 |       1 | 25 | 39204 | 1 | 1 | 0 |\n",
       "| 1225 |   53361 | 25 | 19321 | 1 | 1 | 0 |\n",
       "\n"
      ],
      "text/plain": [
       "     age  balance day duration campaign pdays previous\n",
       "[1,] 3364 4592449 25  68121    1        1     0       \n",
       "[2,] 1936     841 25  22801    1        1     0       \n",
       "[3,] 1089       4 25   5776    1        1     0       \n",
       "[4,] 2209 2268036 25   8464    1        1     0       \n",
       "[5,] 1089       1 25  39204    1        1     0       \n",
       "[6,] 1225   53361 25  19321    1        1     0       "
      ]
     },
     "metadata": {},
     "output_type": "display_data"
    },
    {
     "data": {
      "text/html": [
       "<style>\n",
       ".list-inline {list-style: none; margin:0; padding: 0}\n",
       ".list-inline>li {display: inline-block}\n",
       ".list-inline>li:not(:last-child)::after {content: \"\\00b7\"; padding: 0 .5ex}\n",
       "</style>\n",
       "<ol class=list-inline><li><span style=white-space:pre-wrap>'58-management-married-tertiary-no-  2143-yes-no-unknown- 5-may- 261- 1- -1-  0-unknown-no'</span></li><li><span style=white-space:pre-wrap>'44-technician-single-secondary-no-    29-yes-no-unknown- 5-may- 151- 1- -1-  0-unknown-no'</span></li><li><span style=white-space:pre-wrap>'33-entrepreneur-married-secondary-no-     2-yes-yes-unknown- 5-may-  76- 1- -1-  0-unknown-no'</span></li><li><span style=white-space:pre-wrap>'47-blue-collar-married-unknown-no-  1506-yes-no-unknown- 5-may-  92- 1- -1-  0-unknown-no'</span></li><li><span style=white-space:pre-wrap>'33-unknown-single-unknown-no-     1-no-no-unknown- 5-may- 198- 1- -1-  0-unknown-no'</span></li></ol>\n"
      ],
      "text/latex": [
       "\\begin{enumerate*}\n",
       "\\item '58-management-married-tertiary-no-  2143-yes-no-unknown- 5-may- 261- 1- -1-  0-unknown-no'\n",
       "\\item '44-technician-single-secondary-no-    29-yes-no-unknown- 5-may- 151- 1- -1-  0-unknown-no'\n",
       "\\item '33-entrepreneur-married-secondary-no-     2-yes-yes-unknown- 5-may-  76- 1- -1-  0-unknown-no'\n",
       "\\item '47-blue-collar-married-unknown-no-  1506-yes-no-unknown- 5-may-  92- 1- -1-  0-unknown-no'\n",
       "\\item '33-unknown-single-unknown-no-     1-no-no-unknown- 5-may- 198- 1- -1-  0-unknown-no'\n",
       "\\end{enumerate*}\n"
      ],
      "text/markdown": [
       "1. <span style=white-space:pre-wrap>'58-management-married-tertiary-no-  2143-yes-no-unknown- 5-may- 261- 1- -1-  0-unknown-no'</span>\n",
       "2. <span style=white-space:pre-wrap>'44-technician-single-secondary-no-    29-yes-no-unknown- 5-may- 151- 1- -1-  0-unknown-no'</span>\n",
       "3. <span style=white-space:pre-wrap>'33-entrepreneur-married-secondary-no-     2-yes-yes-unknown- 5-may-  76- 1- -1-  0-unknown-no'</span>\n",
       "4. <span style=white-space:pre-wrap>'47-blue-collar-married-unknown-no-  1506-yes-no-unknown- 5-may-  92- 1- -1-  0-unknown-no'</span>\n",
       "5. <span style=white-space:pre-wrap>'33-unknown-single-unknown-no-     1-no-no-unknown- 5-may- 198- 1- -1-  0-unknown-no'</span>\n",
       "\n",
       "\n"
      ],
      "text/plain": [
       "[1] \"58-management-married-tertiary-no-  2143-yes-no-unknown- 5-may- 261- 1- -1-  0-unknown-no\"    \n",
       "[2] \"44-technician-single-secondary-no-    29-yes-no-unknown- 5-may- 151- 1- -1-  0-unknown-no\"    \n",
       "[3] \"33-entrepreneur-married-secondary-no-     2-yes-yes-unknown- 5-may-  76- 1- -1-  0-unknown-no\"\n",
       "[4] \"47-blue-collar-married-unknown-no-  1506-yes-no-unknown- 5-may-  92- 1- -1-  0-unknown-no\"    \n",
       "[5] \"33-unknown-single-unknown-no-     1-no-no-unknown- 5-may- 198- 1- -1-  0-unknown-no\"          "
      ]
     },
     "metadata": {},
     "output_type": "display_data"
    }
   ],
   "source": [
    "# user defined founction can be also used\n",
    "squared <- apply(data_ints, 2, function(x){x^2})\n",
    "head(squared)\n",
    "\n",
    "connect <- function(x) {\n",
    "    paste(x, collapse = '-')\n",
    "}\n",
    "\n",
    "connected <- apply(data, 1, connect)\n",
    "connected[1:5]"
   ]
  },
  {
   "cell_type": "markdown",
   "id": "78a52af0",
   "metadata": {},
   "source": [
    "### lapply\n",
    "Applies a function to each element of the list.<br>\n",
    "lapply(data, function, ...)\n",
    "- data are presented as a list\n",
    "- function used over each element of the list"
   ]
  },
  {
   "cell_type": "code",
   "execution_count": 35,
   "id": "e5a8c832",
   "metadata": {},
   "outputs": [
    {
     "data": {
      "text/html": [
       "'list'"
      ],
      "text/latex": [
       "'list'"
      ],
      "text/markdown": [
       "'list'"
      ],
      "text/plain": [
       "[1] \"list\""
      ]
     },
     "metadata": {},
     "output_type": "display_data"
    },
    {
     "data": {
      "text/html": [
       "<ol>\n",
       "\t<li>714624</li>\n",
       "\t<li>1850767</li>\n",
       "</ol>\n"
      ],
      "text/latex": [
       "\\begin{enumerate}\n",
       "\\item 714624\n",
       "\\item 1850767\n",
       "\\end{enumerate}\n"
      ],
      "text/markdown": [
       "1. 714624\n",
       "2. 1850767\n",
       "\n",
       "\n"
      ],
      "text/plain": [
       "[[1]]\n",
       "[1] 714624\n",
       "\n",
       "[[2]]\n",
       "[1] 1850767\n"
      ]
     },
     "metadata": {},
     "output_type": "display_data"
    },
    {
     "data": {
      "text/html": [
       "'list'"
      ],
      "text/latex": [
       "'list'"
      ],
      "text/markdown": [
       "'list'"
      ],
      "text/plain": [
       "[1] \"list\""
      ]
     },
     "metadata": {},
     "output_type": "display_data"
    }
   ],
   "source": [
    "data_list <- list(data$day,  data$age)\n",
    "class(data_list)\n",
    "result <- lapply(data_list, sum)\n",
    "result\n",
    "class(result)"
   ]
  },
  {
   "cell_type": "markdown",
   "id": "0740a411",
   "metadata": {},
   "source": [
    "### sapply\n",
    "Very similar to lapply, returns a vector or matrix instead of a list\n",
    "sapply(data, function)<br>\n",
    "- data: a list\n",
    "- function to be applied"
   ]
  },
  {
   "cell_type": "code",
   "execution_count": 36,
   "id": "385d7081",
   "metadata": {},
   "outputs": [
    {
     "data": {
      "text/html": [
       "<style>\n",
       ".list-inline {list-style: none; margin:0; padding: 0}\n",
       ".list-inline>li {display: inline-block}\n",
       ".list-inline>li:not(:last-child)::after {content: \"\\00b7\"; padding: 0 .5ex}\n",
       "</style>\n",
       "<ol class=list-inline><li>714624</li><li>1850767</li></ol>\n"
      ],
      "text/latex": [
       "\\begin{enumerate*}\n",
       "\\item 714624\n",
       "\\item 1850767\n",
       "\\end{enumerate*}\n"
      ],
      "text/markdown": [
       "1. 714624\n",
       "2. 1850767\n",
       "\n",
       "\n"
      ],
      "text/plain": [
       "[1]  714624 1850767"
      ]
     },
     "metadata": {},
     "output_type": "display_data"
    },
    {
     "data": {
      "text/html": [
       "'integer'"
      ],
      "text/latex": [
       "'integer'"
      ],
      "text/markdown": [
       "'integer'"
      ],
      "text/plain": [
       "[1] \"integer\""
      ]
     },
     "metadata": {},
     "output_type": "display_data"
    }
   ],
   "source": [
    "result <- sapply(data_list, sum)\n",
    "result\n",
    "class(result)"
   ]
  },
  {
   "cell_type": "markdown",
   "id": "0ff30d20",
   "metadata": {},
   "source": [
    "### tapply\n",
    "This function breaks the dataset into groups and applies function to created groups.<br>\n",
    "tapply(data, index, function, ..., simplify)\n",
    "- data:\tA vector\n",
    "- INDEX: A grouping factor or a list of factors\n",
    "- function: The function to be applied\n",
    "- simplify: Optional, returns simplified result if set to TRUE. Default is TRUE."
   ]
  },
  {
   "cell_type": "code",
   "execution_count": 37,
   "id": "69d011db",
   "metadata": {},
   "outputs": [
    {
     "data": {
      "text/html": [
       "<style>\n",
       ".dl-inline {width: auto; margin:0; padding: 0}\n",
       ".dl-inline>dt, .dl-inline>dd {float: none; width: auto; display: inline-block}\n",
       ".dl-inline>dt::after {content: \":\\0020\"; padding-right: .5ex}\n",
       ".dl-inline>dt:not(:first-of-type) {padding-left: .5ex}\n",
       "</style><dl class=dl-inline><dt>divorced</dt><dd>-4057</dd><dt>married</dt><dd>-6847</dd><dt>single</dt><dd>-8019</dd></dl>\n"
      ],
      "text/latex": [
       "\\begin{description*}\n",
       "\\item[divorced] -4057\n",
       "\\item[married] -6847\n",
       "\\item[single] -8019\n",
       "\\end{description*}\n"
      ],
      "text/markdown": [
       "divorced\n",
       ":   -4057married\n",
       ":   -6847single\n",
       ":   -8019\n",
       "\n"
      ],
      "text/plain": [
       "divorced  married   single \n",
       "   -4057    -6847    -8019 "
      ]
     },
     "metadata": {},
     "output_type": "display_data"
    },
    {
     "data": {
      "text/html": [
       "<style>\n",
       ".dl-inline {width: auto; margin:0; padding: 0}\n",
       ".dl-inline>dt, .dl-inline>dd {float: none; width: auto; display: inline-block}\n",
       ".dl-inline>dt::after {content: \":\\0020\"; padding-right: .5ex}\n",
       ".dl-inline>dt:not(:first-of-type) {padding-left: .5ex}\n",
       "</style><dl class=dl-inline><dt>divorced</dt><dd>66721</dd><dt>married</dt><dd>98417</dd><dt>single</dt><dd>102127</dd></dl>\n"
      ],
      "text/latex": [
       "\\begin{description*}\n",
       "\\item[divorced] 66721\n",
       "\\item[married] 98417\n",
       "\\item[single] 102127\n",
       "\\end{description*}\n"
      ],
      "text/markdown": [
       "divorced\n",
       ":   66721married\n",
       ":   98417single\n",
       ":   102127\n",
       "\n"
      ],
      "text/plain": [
       "divorced  married   single \n",
       "   66721    98417   102127 "
      ]
     },
     "metadata": {},
     "output_type": "display_data"
    },
    {
     "data": {
      "text/html": [
       "<style>\n",
       ".dl-inline {width: auto; margin:0; padding: 0}\n",
       ".dl-inline>dt, .dl-inline>dd {float: none; width: auto; display: inline-block}\n",
       ".dl-inline>dt::after {content: \":\\0020\"; padding-right: .5ex}\n",
       ".dl-inline>dt:not(:first-of-type) {padding-left: .5ex}\n",
       "</style><dl class=dl-inline><dt>divorced</dt><dd>1178.87228730555</dd><dt>married</dt><dd>1425.92558976997</dd><dt>single</dt><dd>1301.49765441751</dd></dl>\n"
      ],
      "text/latex": [
       "\\begin{description*}\n",
       "\\item[divorced] 1178.87228730555\n",
       "\\item[married] 1425.92558976997\n",
       "\\item[single] 1301.49765441751\n",
       "\\end{description*}\n"
      ],
      "text/markdown": [
       "divorced\n",
       ":   1178.87228730555married\n",
       ":   1425.92558976997single\n",
       ":   1301.49765441751\n",
       "\n"
      ],
      "text/plain": [
       "divorced  married   single \n",
       "1178.872 1425.926 1301.498 "
      ]
     },
     "metadata": {},
     "output_type": "display_data"
    }
   ],
   "source": [
    "tapply(data$balance, data$marital, min)\n",
    "tapply(data$balance, data$marital, max)\n",
    "tapply(data$balance, data$marital, mean)"
   ]
  },
  {
   "cell_type": "markdown",
   "id": "788bd3b3",
   "metadata": {},
   "source": [
    "### More aggregating functions\n",
    "- by()\n",
    "- split()\n",
    "- aggregate()"
   ]
  },
  {
   "cell_type": "markdown",
   "id": "3452f430",
   "metadata": {},
   "source": [
    "### by\n",
    "By function applies a function to a subset of a dataframe.<br>\n",
    "by(data, f, function)\n",
    "- data: dataframe, matrix\n",
    "- f: a factor or a list of factors\n",
    "- function: function to be applied to the subsets"
   ]
  },
  {
   "cell_type": "code",
   "execution_count": 38,
   "id": "75f3f4e2",
   "metadata": {},
   "outputs": [
    {
     "data": {
      "text/html": [
       "'by'"
      ],
      "text/latex": [
       "'by'"
      ],
      "text/markdown": [
       "'by'"
      ],
      "text/plain": [
       "[1] \"by\""
      ]
     },
     "metadata": {},
     "output_type": "display_data"
    },
    {
     "data": {
      "text/plain": [
       ": divorced\n",
       "[1] 45.78298\n",
       "------------------------------------------------------------ \n",
       ": married\n",
       "[1] 43.4081\n",
       "------------------------------------------------------------ \n",
       ": single\n",
       "[1] 33.70344"
      ]
     },
     "metadata": {},
     "output_type": "display_data"
    }
   ],
   "source": [
    "aggregated <- by(data$age, list(data$marital), mean)\n",
    "class(aggregated)\n",
    "aggregated"
   ]
  },
  {
   "cell_type": "code",
   "execution_count": 39,
   "id": "a677a00b",
   "metadata": {},
   "outputs": [
    {
     "data": {
      "text/plain": [
       ": divorced\n",
       ": no\n",
       "[1] 48.65565\n",
       "------------------------------------------------------------ \n",
       ": married\n",
       ": no\n",
       "[1] 46.8077\n",
       "------------------------------------------------------------ \n",
       ": single\n",
       ": no\n",
       "[1] 33.57677\n",
       "------------------------------------------------------------ \n",
       ": divorced\n",
       ": yes\n",
       "[1] 43.51015\n",
       "------------------------------------------------------------ \n",
       ": married\n",
       ": yes\n",
       "[1] 40.76914\n",
       "------------------------------------------------------------ \n",
       ": single\n",
       ": yes\n",
       "[1] 33.8115"
      ]
     },
     "metadata": {},
     "output_type": "display_data"
    }
   ],
   "source": [
    "aggregated <- by(data$age, list(data$marital, data$housing), mean)\n",
    "aggregated\n"
   ]
  },
  {
   "cell_type": "markdown",
   "id": "d0248367",
   "metadata": {},
   "source": [
    "### split\n",
    "split(data, f,..)<br>\n",
    "- data: vector or dataframe\n",
    "- f: groups of calss factor, vector or list"
   ]
  },
  {
   "cell_type": "code",
   "execution_count": 40,
   "id": "46be8253",
   "metadata": {},
   "outputs": [],
   "source": [
    "splitted <- split(data, data$marital)"
   ]
  },
  {
   "cell_type": "code",
   "execution_count": 41,
   "id": "9fa92030",
   "metadata": {},
   "outputs": [
    {
     "data": {
      "text/html": [
       "'list'"
      ],
      "text/latex": [
       "'list'"
      ],
      "text/markdown": [
       "'list'"
      ],
      "text/plain": [
       "[1] \"list\""
      ]
     },
     "metadata": {},
     "output_type": "display_data"
    },
    {
     "data": {
      "text/html": [
       "3"
      ],
      "text/latex": [
       "3"
      ],
      "text/markdown": [
       "3"
      ],
      "text/plain": [
       "[1] 3"
      ]
     },
     "metadata": {},
     "output_type": "display_data"
    },
    {
     "data": {
      "text/html": [
       "'list'"
      ],
      "text/latex": [
       "'list'"
      ],
      "text/markdown": [
       "'list'"
      ],
      "text/plain": [
       "[1] \"list\""
      ]
     },
     "metadata": {},
     "output_type": "display_data"
    },
    {
     "data": {
      "text/html": [
       "'data.frame'"
      ],
      "text/latex": [
       "'data.frame'"
      ],
      "text/markdown": [
       "'data.frame'"
      ],
      "text/plain": [
       "[1] \"data.frame\""
      ]
     },
     "metadata": {},
     "output_type": "display_data"
    }
   ],
   "source": [
    "class(splitted)\n",
    "length(splitted)\n",
    "class(splitted[1])\n",
    "class(splitted[[1]])"
   ]
  },
  {
   "cell_type": "code",
   "execution_count": 42,
   "id": "fdfd2d92",
   "metadata": {},
   "outputs": [
    {
     "data": {
      "text/html": [
       "<table class=\"dataframe\">\n",
       "<caption>A data.frame: 3 × 17</caption>\n",
       "<thead>\n",
       "\t<tr><th></th><th scope=col>age</th><th scope=col>job</th><th scope=col>marital</th><th scope=col>education</th><th scope=col>default</th><th scope=col>balance</th><th scope=col>housing</th><th scope=col>loan</th><th scope=col>contact</th><th scope=col>day</th><th scope=col>month</th><th scope=col>duration</th><th scope=col>campaign</th><th scope=col>pdays</th><th scope=col>previous</th><th scope=col>poutcome</th><th scope=col>y</th></tr>\n",
       "\t<tr><th></th><th scope=col>&lt;int&gt;</th><th scope=col>&lt;chr&gt;</th><th scope=col>&lt;chr&gt;</th><th scope=col>&lt;chr&gt;</th><th scope=col>&lt;chr&gt;</th><th scope=col>&lt;int&gt;</th><th scope=col>&lt;chr&gt;</th><th scope=col>&lt;chr&gt;</th><th scope=col>&lt;chr&gt;</th><th scope=col>&lt;int&gt;</th><th scope=col>&lt;chr&gt;</th><th scope=col>&lt;int&gt;</th><th scope=col>&lt;int&gt;</th><th scope=col>&lt;int&gt;</th><th scope=col>&lt;int&gt;</th><th scope=col>&lt;chr&gt;</th><th scope=col>&lt;chr&gt;</th></tr>\n",
       "</thead>\n",
       "<tbody>\n",
       "\t<tr><th scope=row>8</th><td>42</td><td>entrepreneur</td><td>divorced</td><td>tertiary </td><td>yes</td><td>  2</td><td>yes</td><td>no</td><td>unknown</td><td>5</td><td>may</td><td>380</td><td>1</td><td>-1</td><td>0</td><td>unknown</td><td>no</td></tr>\n",
       "\t<tr><th scope=row>11</th><td>41</td><td>admin.      </td><td>divorced</td><td>secondary</td><td>no </td><td>270</td><td>yes</td><td>no</td><td>unknown</td><td>5</td><td>may</td><td>222</td><td>1</td><td>-1</td><td>0</td><td>unknown</td><td>no</td></tr>\n",
       "\t<tr><th scope=row>36</th><td>57</td><td>technician  </td><td>divorced</td><td>secondary</td><td>no </td><td> 63</td><td>yes</td><td>no</td><td>unknown</td><td>5</td><td>may</td><td>242</td><td>1</td><td>-1</td><td>0</td><td>unknown</td><td>no</td></tr>\n",
       "</tbody>\n",
       "</table>\n"
      ],
      "text/latex": [
       "A data.frame: 3 × 17\n",
       "\\begin{tabular}{r|lllllllllllllllll}\n",
       "  & age & job & marital & education & default & balance & housing & loan & contact & day & month & duration & campaign & pdays & previous & poutcome & y\\\\\n",
       "  & <int> & <chr> & <chr> & <chr> & <chr> & <int> & <chr> & <chr> & <chr> & <int> & <chr> & <int> & <int> & <int> & <int> & <chr> & <chr>\\\\\n",
       "\\hline\n",
       "\t8 & 42 & entrepreneur & divorced & tertiary  & yes &   2 & yes & no & unknown & 5 & may & 380 & 1 & -1 & 0 & unknown & no\\\\\n",
       "\t11 & 41 & admin.       & divorced & secondary & no  & 270 & yes & no & unknown & 5 & may & 222 & 1 & -1 & 0 & unknown & no\\\\\n",
       "\t36 & 57 & technician   & divorced & secondary & no  &  63 & yes & no & unknown & 5 & may & 242 & 1 & -1 & 0 & unknown & no\\\\\n",
       "\\end{tabular}\n"
      ],
      "text/markdown": [
       "\n",
       "A data.frame: 3 × 17\n",
       "\n",
       "| <!--/--> | age &lt;int&gt; | job &lt;chr&gt; | marital &lt;chr&gt; | education &lt;chr&gt; | default &lt;chr&gt; | balance &lt;int&gt; | housing &lt;chr&gt; | loan &lt;chr&gt; | contact &lt;chr&gt; | day &lt;int&gt; | month &lt;chr&gt; | duration &lt;int&gt; | campaign &lt;int&gt; | pdays &lt;int&gt; | previous &lt;int&gt; | poutcome &lt;chr&gt; | y &lt;chr&gt; |\n",
       "|---|---|---|---|---|---|---|---|---|---|---|---|---|---|---|---|---|---|\n",
       "| 8 | 42 | entrepreneur | divorced | tertiary  | yes |   2 | yes | no | unknown | 5 | may | 380 | 1 | -1 | 0 | unknown | no |\n",
       "| 11 | 41 | admin.       | divorced | secondary | no  | 270 | yes | no | unknown | 5 | may | 222 | 1 | -1 | 0 | unknown | no |\n",
       "| 36 | 57 | technician   | divorced | secondary | no  |  63 | yes | no | unknown | 5 | may | 242 | 1 | -1 | 0 | unknown | no |\n",
       "\n"
      ],
      "text/plain": [
       "   age job          marital  education default balance housing loan contact day\n",
       "8  42  entrepreneur divorced tertiary  yes       2     yes     no   unknown 5  \n",
       "11 41  admin.       divorced secondary no      270     yes     no   unknown 5  \n",
       "36 57  technician   divorced secondary no       63     yes     no   unknown 5  \n",
       "   month duration campaign pdays previous poutcome y \n",
       "8  may   380      1        -1    0        unknown  no\n",
       "11 may   222      1        -1    0        unknown  no\n",
       "36 may   242      1        -1    0        unknown  no"
      ]
     },
     "metadata": {},
     "output_type": "display_data"
    }
   ],
   "source": [
    "head(splitted[[1]], 3)"
   ]
  },
  {
   "cell_type": "code",
   "execution_count": 43,
   "id": "04d6e1e3",
   "metadata": {},
   "outputs": [
    {
     "data": {
      "text/html": [
       "<table class=\"dataframe\">\n",
       "<caption>A data.frame: 3 × 17</caption>\n",
       "<thead>\n",
       "\t<tr><th></th><th scope=col>age</th><th scope=col>job</th><th scope=col>marital</th><th scope=col>education</th><th scope=col>default</th><th scope=col>balance</th><th scope=col>housing</th><th scope=col>loan</th><th scope=col>contact</th><th scope=col>day</th><th scope=col>month</th><th scope=col>duration</th><th scope=col>campaign</th><th scope=col>pdays</th><th scope=col>previous</th><th scope=col>poutcome</th><th scope=col>y</th></tr>\n",
       "\t<tr><th></th><th scope=col>&lt;int&gt;</th><th scope=col>&lt;chr&gt;</th><th scope=col>&lt;chr&gt;</th><th scope=col>&lt;chr&gt;</th><th scope=col>&lt;chr&gt;</th><th scope=col>&lt;int&gt;</th><th scope=col>&lt;chr&gt;</th><th scope=col>&lt;chr&gt;</th><th scope=col>&lt;chr&gt;</th><th scope=col>&lt;int&gt;</th><th scope=col>&lt;chr&gt;</th><th scope=col>&lt;int&gt;</th><th scope=col>&lt;int&gt;</th><th scope=col>&lt;int&gt;</th><th scope=col>&lt;int&gt;</th><th scope=col>&lt;chr&gt;</th><th scope=col>&lt;chr&gt;</th></tr>\n",
       "</thead>\n",
       "<tbody>\n",
       "\t<tr><th scope=row>1</th><td>58</td><td>management  </td><td>married</td><td>tertiary </td><td>no</td><td>2143</td><td>yes</td><td>no </td><td>unknown</td><td>5</td><td>may</td><td>261</td><td>1</td><td>-1</td><td>0</td><td>unknown</td><td>no</td></tr>\n",
       "\t<tr><th scope=row>3</th><td>33</td><td>entrepreneur</td><td>married</td><td>secondary</td><td>no</td><td>   2</td><td>yes</td><td>yes</td><td>unknown</td><td>5</td><td>may</td><td> 76</td><td>1</td><td>-1</td><td>0</td><td>unknown</td><td>no</td></tr>\n",
       "\t<tr><th scope=row>4</th><td>47</td><td>blue-collar </td><td>married</td><td>unknown  </td><td>no</td><td>1506</td><td>yes</td><td>no </td><td>unknown</td><td>5</td><td>may</td><td> 92</td><td>1</td><td>-1</td><td>0</td><td>unknown</td><td>no</td></tr>\n",
       "</tbody>\n",
       "</table>\n"
      ],
      "text/latex": [
       "A data.frame: 3 × 17\n",
       "\\begin{tabular}{r|lllllllllllllllll}\n",
       "  & age & job & marital & education & default & balance & housing & loan & contact & day & month & duration & campaign & pdays & previous & poutcome & y\\\\\n",
       "  & <int> & <chr> & <chr> & <chr> & <chr> & <int> & <chr> & <chr> & <chr> & <int> & <chr> & <int> & <int> & <int> & <int> & <chr> & <chr>\\\\\n",
       "\\hline\n",
       "\t1 & 58 & management   & married & tertiary  & no & 2143 & yes & no  & unknown & 5 & may & 261 & 1 & -1 & 0 & unknown & no\\\\\n",
       "\t3 & 33 & entrepreneur & married & secondary & no &    2 & yes & yes & unknown & 5 & may &  76 & 1 & -1 & 0 & unknown & no\\\\\n",
       "\t4 & 47 & blue-collar  & married & unknown   & no & 1506 & yes & no  & unknown & 5 & may &  92 & 1 & -1 & 0 & unknown & no\\\\\n",
       "\\end{tabular}\n"
      ],
      "text/markdown": [
       "\n",
       "A data.frame: 3 × 17\n",
       "\n",
       "| <!--/--> | age &lt;int&gt; | job &lt;chr&gt; | marital &lt;chr&gt; | education &lt;chr&gt; | default &lt;chr&gt; | balance &lt;int&gt; | housing &lt;chr&gt; | loan &lt;chr&gt; | contact &lt;chr&gt; | day &lt;int&gt; | month &lt;chr&gt; | duration &lt;int&gt; | campaign &lt;int&gt; | pdays &lt;int&gt; | previous &lt;int&gt; | poutcome &lt;chr&gt; | y &lt;chr&gt; |\n",
       "|---|---|---|---|---|---|---|---|---|---|---|---|---|---|---|---|---|---|\n",
       "| 1 | 58 | management   | married | tertiary  | no | 2143 | yes | no  | unknown | 5 | may | 261 | 1 | -1 | 0 | unknown | no |\n",
       "| 3 | 33 | entrepreneur | married | secondary | no |    2 | yes | yes | unknown | 5 | may |  76 | 1 | -1 | 0 | unknown | no |\n",
       "| 4 | 47 | blue-collar  | married | unknown   | no | 1506 | yes | no  | unknown | 5 | may |  92 | 1 | -1 | 0 | unknown | no |\n",
       "\n"
      ],
      "text/plain": [
       "  age job          marital education default balance housing loan contact day\n",
       "1 58  management   married tertiary  no      2143    yes     no   unknown 5  \n",
       "3 33  entrepreneur married secondary no         2    yes     yes  unknown 5  \n",
       "4 47  blue-collar  married unknown   no      1506    yes     no   unknown 5  \n",
       "  month duration campaign pdays previous poutcome y \n",
       "1 may   261      1        -1    0        unknown  no\n",
       "3 may    76      1        -1    0        unknown  no\n",
       "4 may    92      1        -1    0        unknown  no"
      ]
     },
     "metadata": {},
     "output_type": "display_data"
    }
   ],
   "source": [
    "head(splitted[[2]], 3)"
   ]
  },
  {
   "cell_type": "code",
   "execution_count": 44,
   "id": "b07d73f5",
   "metadata": {},
   "outputs": [
    {
     "data": {
      "text/html": [
       "<table class=\"dataframe\">\n",
       "<caption>A data.frame: 3 × 17</caption>\n",
       "<thead>\n",
       "\t<tr><th></th><th scope=col>age</th><th scope=col>job</th><th scope=col>marital</th><th scope=col>education</th><th scope=col>default</th><th scope=col>balance</th><th scope=col>housing</th><th scope=col>loan</th><th scope=col>contact</th><th scope=col>day</th><th scope=col>month</th><th scope=col>duration</th><th scope=col>campaign</th><th scope=col>pdays</th><th scope=col>previous</th><th scope=col>poutcome</th><th scope=col>y</th></tr>\n",
       "\t<tr><th></th><th scope=col>&lt;int&gt;</th><th scope=col>&lt;chr&gt;</th><th scope=col>&lt;chr&gt;</th><th scope=col>&lt;chr&gt;</th><th scope=col>&lt;chr&gt;</th><th scope=col>&lt;int&gt;</th><th scope=col>&lt;chr&gt;</th><th scope=col>&lt;chr&gt;</th><th scope=col>&lt;chr&gt;</th><th scope=col>&lt;int&gt;</th><th scope=col>&lt;chr&gt;</th><th scope=col>&lt;int&gt;</th><th scope=col>&lt;int&gt;</th><th scope=col>&lt;int&gt;</th><th scope=col>&lt;int&gt;</th><th scope=col>&lt;chr&gt;</th><th scope=col>&lt;chr&gt;</th></tr>\n",
       "</thead>\n",
       "<tbody>\n",
       "\t<tr><th scope=row>2</th><td>44</td><td>technician</td><td>single</td><td>secondary</td><td>no</td><td> 29</td><td>yes</td><td>no </td><td>unknown</td><td>5</td><td>may</td><td>151</td><td>1</td><td>-1</td><td>0</td><td>unknown</td><td>no</td></tr>\n",
       "\t<tr><th scope=row>5</th><td>33</td><td>unknown   </td><td>single</td><td>unknown  </td><td>no</td><td>  1</td><td>no </td><td>no </td><td>unknown</td><td>5</td><td>may</td><td>198</td><td>1</td><td>-1</td><td>0</td><td>unknown</td><td>no</td></tr>\n",
       "\t<tr><th scope=row>7</th><td>28</td><td>management</td><td>single</td><td>tertiary </td><td>no</td><td>447</td><td>yes</td><td>yes</td><td>unknown</td><td>5</td><td>may</td><td>217</td><td>1</td><td>-1</td><td>0</td><td>unknown</td><td>no</td></tr>\n",
       "</tbody>\n",
       "</table>\n"
      ],
      "text/latex": [
       "A data.frame: 3 × 17\n",
       "\\begin{tabular}{r|lllllllllllllllll}\n",
       "  & age & job & marital & education & default & balance & housing & loan & contact & day & month & duration & campaign & pdays & previous & poutcome & y\\\\\n",
       "  & <int> & <chr> & <chr> & <chr> & <chr> & <int> & <chr> & <chr> & <chr> & <int> & <chr> & <int> & <int> & <int> & <int> & <chr> & <chr>\\\\\n",
       "\\hline\n",
       "\t2 & 44 & technician & single & secondary & no &  29 & yes & no  & unknown & 5 & may & 151 & 1 & -1 & 0 & unknown & no\\\\\n",
       "\t5 & 33 & unknown    & single & unknown   & no &   1 & no  & no  & unknown & 5 & may & 198 & 1 & -1 & 0 & unknown & no\\\\\n",
       "\t7 & 28 & management & single & tertiary  & no & 447 & yes & yes & unknown & 5 & may & 217 & 1 & -1 & 0 & unknown & no\\\\\n",
       "\\end{tabular}\n"
      ],
      "text/markdown": [
       "\n",
       "A data.frame: 3 × 17\n",
       "\n",
       "| <!--/--> | age &lt;int&gt; | job &lt;chr&gt; | marital &lt;chr&gt; | education &lt;chr&gt; | default &lt;chr&gt; | balance &lt;int&gt; | housing &lt;chr&gt; | loan &lt;chr&gt; | contact &lt;chr&gt; | day &lt;int&gt; | month &lt;chr&gt; | duration &lt;int&gt; | campaign &lt;int&gt; | pdays &lt;int&gt; | previous &lt;int&gt; | poutcome &lt;chr&gt; | y &lt;chr&gt; |\n",
       "|---|---|---|---|---|---|---|---|---|---|---|---|---|---|---|---|---|---|\n",
       "| 2 | 44 | technician | single | secondary | no |  29 | yes | no  | unknown | 5 | may | 151 | 1 | -1 | 0 | unknown | no |\n",
       "| 5 | 33 | unknown    | single | unknown   | no |   1 | no  | no  | unknown | 5 | may | 198 | 1 | -1 | 0 | unknown | no |\n",
       "| 7 | 28 | management | single | tertiary  | no | 447 | yes | yes | unknown | 5 | may | 217 | 1 | -1 | 0 | unknown | no |\n",
       "\n"
      ],
      "text/plain": [
       "  age job        marital education default balance housing loan contact day\n",
       "2 44  technician single  secondary no       29     yes     no   unknown 5  \n",
       "5 33  unknown    single  unknown   no        1     no      no   unknown 5  \n",
       "7 28  management single  tertiary  no      447     yes     yes  unknown 5  \n",
       "  month duration campaign pdays previous poutcome y \n",
       "2 may   151      1        -1    0        unknown  no\n",
       "5 may   198      1        -1    0        unknown  no\n",
       "7 may   217      1        -1    0        unknown  no"
      ]
     },
     "metadata": {},
     "output_type": "display_data"
    }
   ],
   "source": [
    "head(splitted[[3]], 3)"
   ]
  },
  {
   "cell_type": "markdown",
   "id": "31d4f9b7",
   "metadata": {},
   "source": [
    "### Aggregate\n",
    "Function used to get summary statistics of the data by group.\n",
    "aggregate(data, f, function)<br>\n",
    "- data: column of the dataframe to be aggregated\n",
    "- f: factor to be used for grouping\n",
    "- function: to be used over the groups"
   ]
  },
  {
   "cell_type": "code",
   "execution_count": 45,
   "id": "27a7996c",
   "metadata": {},
   "outputs": [
    {
     "data": {
      "text/html": [
       "'data.frame'"
      ],
      "text/latex": [
       "'data.frame'"
      ],
      "text/markdown": [
       "'data.frame'"
      ],
      "text/plain": [
       "[1] \"data.frame\""
      ]
     },
     "metadata": {},
     "output_type": "display_data"
    },
    {
     "data": {
      "text/html": [
       "<table class=\"dataframe\">\n",
       "<caption>A data.frame: 12 × 2</caption>\n",
       "<thead>\n",
       "\t<tr><th scope=col>Group.1</th><th scope=col>x</th></tr>\n",
       "\t<tr><th scope=col>&lt;chr&gt;</th><th scope=col>&lt;int&gt;</th></tr>\n",
       "</thead>\n",
       "<tbody>\n",
       "\t<tr><td>admin.       </td><td> 5873423</td></tr>\n",
       "\t<tr><td>blue-collar  </td><td>10499141</td></tr>\n",
       "\t<tr><td>entrepreneur </td><td> 2262426</td></tr>\n",
       "\t<tr><td>housemaid    </td><td> 1726570</td></tr>\n",
       "\t<tr><td>management   </td><td>16680288</td></tr>\n",
       "\t<tr><td>retired      </td><td> 4492263</td></tr>\n",
       "\t<tr><td>self-employed</td><td> 2602146</td></tr>\n",
       "\t<tr><td>services     </td><td> 4141904</td></tr>\n",
       "\t<tr><td>student      </td><td> 1302001</td></tr>\n",
       "\t<tr><td>technician   </td><td> 9516246</td></tr>\n",
       "\t<tr><td>unemployed   </td><td> 1982835</td></tr>\n",
       "\t<tr><td>unknown      </td><td>  510439</td></tr>\n",
       "</tbody>\n",
       "</table>\n"
      ],
      "text/latex": [
       "A data.frame: 12 × 2\n",
       "\\begin{tabular}{ll}\n",
       " Group.1 & x\\\\\n",
       " <chr> & <int>\\\\\n",
       "\\hline\n",
       "\t admin.        &  5873423\\\\\n",
       "\t blue-collar   & 10499141\\\\\n",
       "\t entrepreneur  &  2262426\\\\\n",
       "\t housemaid     &  1726570\\\\\n",
       "\t management    & 16680288\\\\\n",
       "\t retired       &  4492263\\\\\n",
       "\t self-employed &  2602146\\\\\n",
       "\t services      &  4141904\\\\\n",
       "\t student       &  1302001\\\\\n",
       "\t technician    &  9516246\\\\\n",
       "\t unemployed    &  1982835\\\\\n",
       "\t unknown       &   510439\\\\\n",
       "\\end{tabular}\n"
      ],
      "text/markdown": [
       "\n",
       "A data.frame: 12 × 2\n",
       "\n",
       "| Group.1 &lt;chr&gt; | x &lt;int&gt; |\n",
       "|---|---|\n",
       "| admin.        |  5873423 |\n",
       "| blue-collar   | 10499141 |\n",
       "| entrepreneur  |  2262426 |\n",
       "| housemaid     |  1726570 |\n",
       "| management    | 16680288 |\n",
       "| retired       |  4492263 |\n",
       "| self-employed |  2602146 |\n",
       "| services      |  4141904 |\n",
       "| student       |  1302001 |\n",
       "| technician    |  9516246 |\n",
       "| unemployed    |  1982835 |\n",
       "| unknown       |   510439 |\n",
       "\n"
      ],
      "text/plain": [
       "   Group.1       x       \n",
       "1  admin.         5873423\n",
       "2  blue-collar   10499141\n",
       "3  entrepreneur   2262426\n",
       "4  housemaid      1726570\n",
       "5  management    16680288\n",
       "6  retired        4492263\n",
       "7  self-employed  2602146\n",
       "8  services       4141904\n",
       "9  student        1302001\n",
       "10 technician     9516246\n",
       "11 unemployed     1982835\n",
       "12 unknown         510439"
      ]
     },
     "metadata": {},
     "output_type": "display_data"
    }
   ],
   "source": [
    "aggregated <- aggregate(data$balance, list(data$job), sum)\n",
    "class(aggregated)\n",
    "aggregated"
   ]
  },
  {
   "cell_type": "markdown",
   "id": "53ba3c41",
   "metadata": {},
   "source": [
    "### Functions Map, Reduce, Filter and lambda\n",
    "These functions are quite usefull and commonly used in functional programming. \n"
   ]
  },
  {
   "cell_type": "markdown",
   "id": "bbfac70d",
   "metadata": {},
   "source": [
    "### Map\n",
    "https://www.rdocumentation.org/packages/purrr/versions/0.2.5/topics/map<br>\n",
    "Allows mapping from one vector to another. Map function can be specified using lambda.<br>\n",
    "Map(function, data)<br>\n",
    "- function: to use on the data\n",
    "- data: a list or a vector"
   ]
  },
  {
   "cell_type": "code",
   "execution_count": 55,
   "id": "d9731d89",
   "metadata": {},
   "outputs": [
    {
     "data": {
      "text/html": [
       "<style>\n",
       ".list-inline {list-style: none; margin:0; padding: 0}\n",
       ".list-inline>li {display: inline-block}\n",
       ".list-inline>li:not(:last-child)::after {content: \"\\00b7\"; padding: 0 .5ex}\n",
       "</style>\n",
       "<ol class=list-inline><li>2</li><li>4</li><li>6</li><li>8</li><li>10</li><li>12</li><li>14</li><li>16</li><li>18</li><li>20</li></ol>\n"
      ],
      "text/latex": [
       "\\begin{enumerate*}\n",
       "\\item 2\n",
       "\\item 4\n",
       "\\item 6\n",
       "\\item 8\n",
       "\\item 10\n",
       "\\item 12\n",
       "\\item 14\n",
       "\\item 16\n",
       "\\item 18\n",
       "\\item 20\n",
       "\\end{enumerate*}\n"
      ],
      "text/markdown": [
       "1. 2\n",
       "2. 4\n",
       "3. 6\n",
       "4. 8\n",
       "5. 10\n",
       "6. 12\n",
       "7. 14\n",
       "8. 16\n",
       "9. 18\n",
       "10. 20\n",
       "\n",
       "\n"
      ],
      "text/plain": [
       " [1]  2  4  6  8 10 12 14 16 18 20"
      ]
     },
     "metadata": {},
     "output_type": "display_data"
    }
   ],
   "source": [
    "vec <- 1:10\n",
    "res <- Map({function (a) a*2}, vec)\n",
    "unlist(res)"
   ]
  },
  {
   "cell_type": "markdown",
   "id": "4e6c30a9",
   "metadata": {},
   "source": [
    "### Reduce\n",
    "Applies the function on a list or vectors one by one. Outpu is a single value<br>\n",
    "Reduce(f, data)<br>\n",
    "- f: two argument function\n",
    "- data: a list or a vector"
   ]
  },
  {
   "cell_type": "code",
   "execution_count": 56,
   "id": "a17f70a0",
   "metadata": {},
   "outputs": [
    {
     "name": "stdout",
     "output_type": "stream",
     "text": [
      " [1]   0  30  60  90 120 150 180 210 240 270 300 330 360 390 420 450 480\n"
     ]
    },
    {
     "data": {
      "text/html": [
       "4080"
      ],
      "text/latex": [
       "4080"
      ],
      "text/markdown": [
       "4080"
      ],
      "text/plain": [
       "[1] 4080"
      ]
     },
     "metadata": {},
     "output_type": "display_data"
    }
   ],
   "source": [
    "# when passing lambda to these functions curly brackets can be ommited\n",
    "vec <- seq(0, 500, 30)\n",
    "print(x)\n",
    "res <- Reduce(function (x, y) x+y, vec)\n",
    "res"
   ]
  },
  {
   "cell_type": "markdown",
   "id": "5bd94792",
   "metadata": {},
   "source": [
    "### Filter\n",
    "Used to remove all elements that does not satisfy given condition<br>\n",
    "Filter(f, data)<br>\n",
    "- f: function to be used for condition\n",
    "- data: a list or a vector"
   ]
  },
  {
   "cell_type": "code",
   "execution_count": 59,
   "id": "095160ae",
   "metadata": {},
   "outputs": [
    {
     "data": {
      "text/html": [
       "<style>\n",
       ".list-inline {list-style: none; margin:0; padding: 0}\n",
       ".list-inline>li {display: inline-block}\n",
       ".list-inline>li:not(:last-child)::after {content: \"\\00b7\"; padding: 0 .5ex}\n",
       "</style>\n",
       "<ol class=list-inline><li>0</li><li>60</li><li>120</li><li>180</li><li>240</li><li>300</li><li>360</li><li>420</li><li>480</li></ol>\n"
      ],
      "text/latex": [
       "\\begin{enumerate*}\n",
       "\\item 0\n",
       "\\item 60\n",
       "\\item 120\n",
       "\\item 180\n",
       "\\item 240\n",
       "\\item 300\n",
       "\\item 360\n",
       "\\item 420\n",
       "\\item 480\n",
       "\\end{enumerate*}\n"
      ],
      "text/markdown": [
       "1. 0\n",
       "2. 60\n",
       "3. 120\n",
       "4. 180\n",
       "5. 240\n",
       "6. 300\n",
       "7. 360\n",
       "8. 420\n",
       "9. 480\n",
       "\n",
       "\n"
      ],
      "text/plain": [
       "[1]   0  60 120 180 240 300 360 420 480"
      ]
     },
     "metadata": {},
     "output_type": "display_data"
    }
   ],
   "source": [
    "Filter(function (x)x%%60==0, vec)"
   ]
  },
  {
   "cell_type": "code",
   "execution_count": null,
   "id": "41882fec",
   "metadata": {},
   "outputs": [],
   "source": []
  }
 ],
 "metadata": {
  "kernelspec": {
   "display_name": "R",
   "language": "R",
   "name": "ir"
  },
  "language_info": {
   "codemirror_mode": "r",
   "file_extension": ".r",
   "mimetype": "text/x-r-source",
   "name": "R",
   "pygments_lexer": "r",
   "version": "4.2.1"
  }
 },
 "nbformat": 4,
 "nbformat_minor": 5
}
