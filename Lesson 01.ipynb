{
 "cells": [
  {
   "cell_type": "markdown",
   "id": "ff882f62",
   "metadata": {},
   "source": [
    "### Package instalation"
   ]
  },
  {
   "cell_type": "code",
   "execution_count": 1,
   "id": "514c7ca7",
   "metadata": {},
   "outputs": [
    {
     "data": {
      "text/html": [
       "<dl>\n",
       "\t<dt>$platform</dt>\n",
       "\t\t<dd>'x86_64-conda-linux-gnu'</dd>\n",
       "\t<dt>$arch</dt>\n",
       "\t\t<dd>'x86_64'</dd>\n",
       "\t<dt>$os</dt>\n",
       "\t\t<dd>'linux-gnu'</dd>\n",
       "\t<dt>$system</dt>\n",
       "\t\t<dd>'x86_64, linux-gnu'</dd>\n",
       "\t<dt>$status</dt>\n",
       "\t\t<dd>''</dd>\n",
       "\t<dt>$major</dt>\n",
       "\t\t<dd>'4'</dd>\n",
       "\t<dt>$minor</dt>\n",
       "\t\t<dd>'2.1'</dd>\n",
       "\t<dt>$year</dt>\n",
       "\t\t<dd>'2022'</dd>\n",
       "\t<dt>$month</dt>\n",
       "\t\t<dd>'06'</dd>\n",
       "\t<dt>$day</dt>\n",
       "\t\t<dd>'23'</dd>\n",
       "\t<dt>$`svn rev`</dt>\n",
       "\t\t<dd>'82513'</dd>\n",
       "\t<dt>$language</dt>\n",
       "\t\t<dd>'R'</dd>\n",
       "\t<dt>$version.string</dt>\n",
       "\t\t<dd>'R version 4.2.1 (2022-06-23)'</dd>\n",
       "\t<dt>$nickname</dt>\n",
       "\t\t<dd>'Funny-Looking Kid'</dd>\n",
       "</dl>\n"
      ],
      "text/latex": [
       "\\begin{description}\n",
       "\\item[\\$platform] 'x86\\_64-conda-linux-gnu'\n",
       "\\item[\\$arch] 'x86\\_64'\n",
       "\\item[\\$os] 'linux-gnu'\n",
       "\\item[\\$system] 'x86\\_64, linux-gnu'\n",
       "\\item[\\$status] ''\n",
       "\\item[\\$major] '4'\n",
       "\\item[\\$minor] '2.1'\n",
       "\\item[\\$year] '2022'\n",
       "\\item[\\$month] '06'\n",
       "\\item[\\$day] '23'\n",
       "\\item[\\$`svn rev`] '82513'\n",
       "\\item[\\$language] 'R'\n",
       "\\item[\\$version.string] 'R version 4.2.1 (2022-06-23)'\n",
       "\\item[\\$nickname] 'Funny-Looking Kid'\n",
       "\\end{description}\n"
      ],
      "text/markdown": [
       "$platform\n",
       ":   'x86_64-conda-linux-gnu'\n",
       "$arch\n",
       ":   'x86_64'\n",
       "$os\n",
       ":   'linux-gnu'\n",
       "$system\n",
       ":   'x86_64, linux-gnu'\n",
       "$status\n",
       ":   ''\n",
       "$major\n",
       ":   '4'\n",
       "$minor\n",
       ":   '2.1'\n",
       "$year\n",
       ":   '2022'\n",
       "$month\n",
       ":   '06'\n",
       "$day\n",
       ":   '23'\n",
       "$`svn rev`\n",
       ":   '82513'\n",
       "$language\n",
       ":   'R'\n",
       "$version.string\n",
       ":   'R version 4.2.1 (2022-06-23)'\n",
       "$nickname\n",
       ":   'Funny-Looking Kid'\n",
       "\n",
       "\n"
      ],
      "text/plain": [
       "$platform\n",
       "[1] \"x86_64-conda-linux-gnu\"\n",
       "\n",
       "$arch\n",
       "[1] \"x86_64\"\n",
       "\n",
       "$os\n",
       "[1] \"linux-gnu\"\n",
       "\n",
       "$system\n",
       "[1] \"x86_64, linux-gnu\"\n",
       "\n",
       "$status\n",
       "[1] \"\"\n",
       "\n",
       "$major\n",
       "[1] \"4\"\n",
       "\n",
       "$minor\n",
       "[1] \"2.1\"\n",
       "\n",
       "$year\n",
       "[1] \"2022\"\n",
       "\n",
       "$month\n",
       "[1] \"06\"\n",
       "\n",
       "$day\n",
       "[1] \"23\"\n",
       "\n",
       "$`svn rev`\n",
       "[1] \"82513\"\n",
       "\n",
       "$language\n",
       "[1] \"R\"\n",
       "\n",
       "$version.string\n",
       "[1] \"R version 4.2.1 (2022-06-23)\"\n",
       "\n",
       "$nickname\n",
       "[1] \"Funny-Looking Kid\"\n"
      ]
     },
     "metadata": {},
     "output_type": "display_data"
    }
   ],
   "source": [
    "R.Version()"
   ]
  },
  {
   "cell_type": "code",
   "execution_count": 4,
   "id": "6022e9f4",
   "metadata": {},
   "outputs": [
    {
     "name": "stderr",
     "output_type": "stream",
     "text": [
      "Updating HTML index of packages in '.Library'\n",
      "\n",
      "Making 'packages.html' ...\n",
      " done\n",
      "\n"
     ]
    }
   ],
   "source": [
    "update.packages(ask=FALSE, checkBuilt=TRUE)"
   ]
  },
  {
   "cell_type": "code",
   "execution_count": 5,
   "id": "04bfdeb6",
   "metadata": {},
   "outputs": [
    {
     "name": "stderr",
     "output_type": "stream",
     "text": [
      "Updating HTML index of packages in '.Library'\n",
      "\n",
      "Making 'packages.html' ...\n",
      " done\n",
      "\n"
     ]
    }
   ],
   "source": [
    "install.packages('dplyr')"
   ]
  },
  {
   "cell_type": "code",
   "execution_count": 6,
   "id": "f219bb64",
   "metadata": {},
   "outputs": [
    {
     "name": "stderr",
     "output_type": "stream",
     "text": [
      "also installing the dependencies ‘nlme’, ‘Matrix’, ‘mgcv’\n",
      "\n",
      "\n",
      "Updating HTML index of packages in '.Library'\n",
      "\n",
      "Making 'packages.html' ...\n",
      " done\n",
      "\n"
     ]
    }
   ],
   "source": [
    "install.packages('ggplot2')"
   ]
  },
  {
   "cell_type": "markdown",
   "id": "17076060",
   "metadata": {},
   "source": [
    "## R Operators\n",
    "Used to perfom operations on variables or values.<br>\n",
    "We can divide them into groups as follows:<br>\n",
    "1. Assigment operators\n",
    "2. Aritmetics operators\n",
    "3. Comparison operators\n",
    "4. Logical operators\n",
    "5. Miscelanous operators"
   ]
  },
  {
   "cell_type": "markdown",
   "id": "2f5edd43",
   "metadata": {},
   "source": [
    "### 1. Assigment operators"
   ]
  },
  {
   "cell_type": "markdown",
   "id": "014950e4",
   "metadata": {},
   "source": [
    "- my_var <- 1\n",
    "- my_var = 1\n",
    "- 1 -> my_var\n",
    "- 1 ->> my_var "
   ]
  },
  {
   "cell_type": "markdown",
   "id": "c5402dfb",
   "metadata": {},
   "source": [
    "### 2. Arithmetic operators"
   ]
  },
  {
   "cell_type": "markdown",
   "id": "2f5c1c26",
   "metadata": {},
   "source": [
    "| Operator | Name                              | Example |\n",
    "|----------|-----------------------------------|---------|\n",
    "| +        | Addition                          | x + y   |\n",
    "| -        | Subtraction                       | x - y   |\n",
    "| *        | Multiplication                    | x * y   |\n",
    "| /        | Division                          | x / y   |\n",
    "| ^        | Exponent                          | x ^ y   |\n",
    "| %%       | Modulus (Remainder from division) | x %% y  |\n",
    "| %/%      | Integer Division                  | x%/%y   |"
   ]
  },
  {
   "cell_type": "markdown",
   "id": "88517d96",
   "metadata": {},
   "source": [
    "### 3. Comparison operators"
   ]
  },
  {
   "cell_type": "markdown",
   "id": "ab45a75d",
   "metadata": {},
   "source": [
    "| Operator | Name                     | Example |\n",
    "|----------|--------------------------|---------|\n",
    "| ==       | Equal                    | x == y  |\n",
    "| !=       | Not equal                | x != y  |\n",
    "| >        | Greater than             | x > y   |\n",
    "| <        | Less than                | x < y   |\n",
    "| >=       | Greater than or equal to | x >= y  |\n",
    "| <=       | Less than or equal to    | x <= y  |"
   ]
  },
  {
   "cell_type": "markdown",
   "id": "cf56c44b",
   "metadata": {},
   "source": [
    "### 4. Logical operators"
   ]
  },
  {
   "cell_type": "markdown",
   "id": "a8dd6019",
   "metadata": {},
   "source": [
    "| Operator | Description                                                                          |\n",
    "|----------|--------------------------------------------------------------------------------------|\n",
    "| &        | Element\\-wise Logical AND operator\\. It returns TRUE if both elements are TRUE       |\n",
    "| &&       | Logical AND operator \\- Returns TRUE if both statements are TRUE                     |\n",
    "| \\|       | Elementwise\\- Logical OR operator\\. It returns TRUE if one of the statement is TRUE  |\n",
    "| \\|\\|     | Logical OR operator\\. It returns TRUE if one of the statement is TRUE\\.              |\n",
    "| \\!       | Logical NOT \\- returns FALSE if statement is TRUE                                    |\n",
    "\n"
   ]
  },
  {
   "cell_type": "markdown",
   "id": "e7375e89",
   "metadata": {},
   "source": [
    "### 5. Miscelanous operators"
   ]
  },
  {
   "cell_type": "markdown",
   "id": "2e2d8432",
   "metadata": {},
   "source": [
    "| Operator | Description                                |\n",
    "|----------|--------------------------------------------|\n",
    "| :        | Creates a series of numbers in a sequence  |\n",
    "| %in%     | Find out if an element belongs to a vector |\n",
    "| %\\*%     | Matrix Multiplication                      |\n",
    "|\\~|As in formulae|\n",
    "|$|Named list or dataframe column subset|\n",
    "|@|Accessing slots in S4 classes|"
   ]
  },
  {
   "cell_type": "markdown",
   "id": "3f1b2529",
   "metadata": {},
   "source": [
    "## R Operators Examples"
   ]
  },
  {
   "cell_type": "code",
   "execution_count": null,
   "id": "1e5b9ad8",
   "metadata": {},
   "outputs": [],
   "source": []
  },
  {
   "cell_type": "markdown",
   "id": "7d8d28a4",
   "metadata": {},
   "source": [
    "## R data types\n",
    "Data type is a set of values with set of operations allowed on it, it tell the compiler/interpreter how the data will be used and they are stored in computer memory accordingly. In R, variables do not need to be declared as any particular data type."
   ]
  },
  {
   "cell_type": "markdown",
   "id": "8d9e72e8",
   "metadata": {},
   "source": [
    "- class() function can be used to check the data type, or more general mode()<br>\n",
    "- Types can be changed using syntax as.x, where x is new data type\n"
   ]
  },
  {
   "cell_type": "markdown",
   "id": "1e5d2f3a",
   "metadata": {},
   "source": [
    "#### Examples\n",
    "class('Hello world')<br>\n",
    "class(1)<br>\n",
    "class(0.1)<br>\n",
    "class(T)<br>\n",
    "class(1 + 1i)<br>"
   ]
  },
  {
   "cell_type": "code",
   "execution_count": null,
   "id": "c5075e38",
   "metadata": {},
   "outputs": [],
   "source": []
  },
  {
   "cell_type": "markdown",
   "id": "cb9b18f5",
   "metadata": {},
   "source": [
    "## R vectors and matrices \n",
    "Vectors are lists of same type items.<br>\n",
    "Matrices are two or more dimensional datasets. Typical R matrix is two dimensional with columns and rows.<br>\n"
   ]
  },
  {
   "cell_type": "markdown",
   "id": "4d9f66aa",
   "metadata": {},
   "source": [
    "### Creation syntax\n",
    "- c() #combine <br>\n",
    "- animals <- c('lion', 'zebra', 'dog', 'whale', 'snake')<br>\n",
    "- numbers <- 1:5<br>\n",
    "- s_numbers <- seq(from = 0, to = 100, by = 20)<br>\n",
    "- f_numbers <- 1.1:5.1<br><br>\n",
    "\n",
    "- my_matrix <- matrix(c(1,2,3,4,5,6), nrow = 3, ncol = 2)"
   ]
  },
  {
   "cell_type": "markdown",
   "id": "463b904b",
   "metadata": {},
   "source": [
    "### Accessing and changing vectors<br>\n",
    "#### Access the first and fourth item\n",
    "- fruits[c(1, 4)]\n",
    "#### Access all items except for the first item\n",
    "- animals[c(-1)]\n",
    "#### Vector length\n",
    "- length(animals)\n",
    "#### Change item\n",
    "- animals[1] <- 'cat'\n",
    "#### Repeating vectors\n",
    "- repeated_each <- rep(c(1,2,3), each = 2)<br>\n",
    "- repeated_times <- rep(c(1,2,3), times = 2)<br>\n",
    "- repeated_indepent <- rep(c(1,2,3), times = c(3,2,1))\n",
    "#### Sorting vectors\n",
    "- sort(animals)  # Sort a string<br>\n",
    "- numbers <- c(452, 1032, 98, 87, 29)<br>\n",
    "- sort(numbers) # Sort numbers<br>\n",
    "- order(numbers) #returns indexes of items in sorted vector"
   ]
  },
  {
   "cell_type": "markdown",
   "id": "1d387409",
   "metadata": {},
   "source": [
    "### Accessing and changing matrices\n",
    "#### matrix dimensions\n",
    "- dim(my_matrix)<br>\n",
    "- length(my_matrix)<br>\n",
    "#### access rows\n",
    "- my_matrix[2,]<br>\n",
    "- my_matrix[c(1,2),]<br>\n",
    "#### access columns\n",
    "- my_matrix[,2]<br>\n",
    "- my_matrix[,c(1,2)]<br>\n",
    "#### add rows and columns\n",
    "- my_new_matrix <- cbind(my_matrix, c('cat', 'dog', 'fish'))<br>\n",
    "- my_new_matrix <- rbind(my_matrix, c('cat', 'dog'))<br>\n",
    "#### remove rows and columns \n",
    "- my_matrix <- my_matrix[-c(1), -c(1)]"
   ]
  },
  {
   "cell_type": "markdown",
   "id": "bfceaf68",
   "metadata": {},
   "source": [
    "### R functions\n",
    "Function is a block of encapsulated code, that can be repeatedly called. "
   ]
  },
  {
   "cell_type": "markdown",
   "id": "e1d669c1",
   "metadata": {},
   "source": [
    "<code>my_function <- function() {\n",
    "  print('Hello World!')\n",
    "}<code>"
   ]
  },
  {
   "cell_type": "markdown",
   "id": "43ef4f8d",
   "metadata": {},
   "source": [
    "#### Passing arguments\n",
    "<code>my_function <- function(x, y) {\n",
    "  x^y\n",
    "}<code>\n",
    "#### Default parameter value\n",
    "<code>my_function <- function(x, y=2) {\n",
    "  x^y\n",
    "}<code>\n",
    "#### Return values\n",
    "<code>my_function <- function(x, y) {\n",
    "  return(x^y)\n",
    "}<code>"
   ]
  },
  {
   "cell_type": "markdown",
   "id": "3790068f",
   "metadata": {},
   "source": [
    "### R Control Structures\n",
    "Also called as loops in R. There are eight types of control structures:\n",
    "1. if\n",
    "2. if-else\n",
    "3. for\n",
    "4. nested loops\n",
    "5. while\n",
    "6. repeat and break\n",
    "7. next\n",
    "8. return"
   ]
  },
  {
   "cell_type": "markdown",
   "id": "dd519023",
   "metadata": {},
   "source": [
    "#### If, If-else\n",
    "<code>if (test_expression) \n",
    "{statement} \n",
    "else \n",
    "{statement}<code>"
   ]
  },
  {
   "cell_type": "code",
   "execution_count": null,
   "id": "43871fb6",
   "metadata": {},
   "outputs": [],
   "source": [
    "var_1 = 10      \n",
    "var_2 = 1 \n",
    "if (var_1 > var_2){                            \n",
    "  print(\"Value 1 is greater than Value 2\")\n",
    "} else if (val1 < val2){\n",
    "  print(\"Value 1 is less than Value 2\")\n",
    "}"
   ]
  },
  {
   "cell_type": "code",
   "execution_count": null,
   "id": "c3696f70",
   "metadata": {},
   "outputs": [],
   "source": [
    "#### For loop\n",
    "For loop is a instruction repeated until a given condition is met."
   ]
  },
  {
   "cell_type": "code",
   "execution_count": null,
   "id": "139b5d30",
   "metadata": {},
   "outputs": [],
   "source": [
    "numbers <- 1:5 \n",
    "for(i in 1:5){ \n",
    "  print(numbers[i])\n",
    "  }"
   ]
  },
  {
   "cell_type": "code",
   "execution_count": null,
   "id": "30bd392a",
   "metadata": {},
   "outputs": [],
   "source": [
    "# Nested loop\n",
    "mat <- matrix(1:10, 2)\n",
    "for (i in seq(nrow(mat))) {\n",
    "  for (j in seq(ncol(mat))) {\n",
    "    print(mat[i, j])\n",
    "  }\n",
    "}"
   ]
  },
  {
   "cell_type": "markdown",
   "id": "360d6ea6",
   "metadata": {},
   "source": [
    "#### While loop\n",
    "While loop test a certain condition and is executed until the condition is met."
   ]
  },
  {
   "cell_type": "code",
   "execution_count": 42,
   "id": "fea17947",
   "metadata": {},
   "outputs": [
    {
     "name": "stdout",
     "output_type": "stream",
     "text": [
      "[1] 3.974 2.974\n",
      "[1] 4.961 2.974\n",
      "[1] 5.948 2.974\n"
     ]
    }
   ],
   "source": [
    "var = 2.987\n",
    "while(var <= 4.987) {\n",
    "  var = var + 0.987\n",
    "  print(c(var, val-1))\n",
    "}"
   ]
  },
  {
   "cell_type": "markdown",
   "id": "6c1df2ae",
   "metadata": {},
   "source": [
    "#### Repeat and break loop\n",
    "Repeat loop is infinitive and thus break is needed to exit the loop"
   ]
  },
  {
   "cell_type": "code",
   "execution_count": null,
   "id": "53944b30",
   "metadata": {},
   "outputs": [],
   "source": [
    "val <- 2\n",
    "repeat {\n",
    "  print(val)\n",
    "  val <- val+1\n",
    "  if (val == 5){\n",
    "    break\n",
    "  }\n",
    "}"
   ]
  },
  {
   "cell_type": "markdown",
   "id": "57947c43",
   "metadata": {},
   "source": [
    "#### Next statement\n",
    "Next jumps to the next iteration, it allows to skip the current iteration without terminating a loop."
   ]
  },
  {
   "cell_type": "code",
   "execution_count": null,
   "id": "6d30686f",
   "metadata": {},
   "outputs": [],
   "source": [
    "x = 1: 4\n",
    "for (i in x) {\n",
    "if (i == 2) {\n",
    "next\n",
    "}\n",
    "print(i)\n",
    "}"
   ]
  },
  {
   "cell_type": "code",
   "execution_count": null,
   "id": "e1e0a941",
   "metadata": {},
   "outputs": [],
   "source": [
    "#### Example functions, statements and return"
   ]
  },
  {
   "cell_type": "code",
   "execution_count": 9,
   "id": "1563349a",
   "metadata": {},
   "outputs": [],
   "source": [
    "check_numbers <- function(vector) {\n",
    "    results <- c()\n",
    "    for (item in vector){\n",
    "        if (item > 0) {\n",
    "            result <- 'Positive'\n",
    "            } else if (item < 0) {\n",
    "            result <- 'Negative'\n",
    "            } else {\n",
    "            result <- 'Zero'\n",
    "            }\n",
    "            results <- c(results, result)    \n",
    "            }\n",
    "    return(results)\n",
    "        }"
   ]
  },
  {
   "cell_type": "code",
   "execution_count": 10,
   "id": "5e4f4bda",
   "metadata": {},
   "outputs": [
    {
     "data": {
      "text/html": [
       "<style>\n",
       ".list-inline {list-style: none; margin:0; padding: 0}\n",
       ".list-inline>li {display: inline-block}\n",
       ".list-inline>li:not(:last-child)::after {content: \"\\00b7\"; padding: 0 .5ex}\n",
       "</style>\n",
       "<ol class=list-inline><li>'Positive'</li><li>'Negative'</li><li>'Positive'</li><li>'Zero'</li></ol>\n"
      ],
      "text/latex": [
       "\\begin{enumerate*}\n",
       "\\item 'Positive'\n",
       "\\item 'Negative'\n",
       "\\item 'Positive'\n",
       "\\item 'Zero'\n",
       "\\end{enumerate*}\n"
      ],
      "text/markdown": [
       "1. 'Positive'\n",
       "2. 'Negative'\n",
       "3. 'Positive'\n",
       "4. 'Zero'\n",
       "\n",
       "\n"
      ],
      "text/plain": [
       "[1] \"Positive\" \"Negative\" \"Positive\" \"Zero\"    "
      ]
     },
     "metadata": {},
     "output_type": "display_data"
    }
   ],
   "source": [
    "numbers <- c(1, -1, 3, 0)\n",
    "res <- check_numbers(numbers)\n",
    "res"
   ]
  },
  {
   "cell_type": "code",
   "execution_count": null,
   "id": "3aa00069",
   "metadata": {},
   "outputs": [],
   "source": []
  }
 ],
 "metadata": {
  "kernelspec": {
   "display_name": "R",
   "language": "R",
   "name": "ir"
  },
  "language_info": {
   "codemirror_mode": "r",
   "file_extension": ".r",
   "mimetype": "text/x-r-source",
   "name": "R",
   "pygments_lexer": "r",
   "version": "4.2.1"
  }
 },
 "nbformat": 4,
 "nbformat_minor": 5
}
