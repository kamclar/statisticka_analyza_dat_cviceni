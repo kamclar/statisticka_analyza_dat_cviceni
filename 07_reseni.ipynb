{
  "cells": [
    {
      "cell_type": "markdown",
      "metadata": {
        "toc": "true",
        "id": "RiIQkHP6Xc_5"
      },
      "source": [
        " # Table of Contents\n",
        "<div class=\"toc\" style=\"margin-top: 1em;\"><ul class=\"toc-item\" id=\"toc-level0\"><li><span><a href=\"http://localhost:8888/notebooks/07/ukoly/07_reseni.ipynb#Plnící-stroj\" data-toc-modified-id=\"Plnící-stroj-1\"><span class=\"toc-item-num\">1&nbsp;&nbsp;</span>Plnící stroj</a></span></li></ul></div>"
      ]
    },
    {
      "cell_type": "markdown",
      "metadata": {
        "id": "4-_COHUTXc__"
      },
      "source": [
        "# Úkoly\n",
        "\n",
        "K vypracování těchto úkolů budete potřebovat některé základní znalosti z předchozích lekcí, ale především ty z této lekce.\n",
        "\n",
        "## Plnící stroj\n",
        "\n",
        "Ve vašem rodinném pivovaru máte prastarý plnící stroj lahví a chcete zjistit, jak přesně tento starý vrak vlastně lahve plní. Za tímto účelem jste po naplnění 20 lahví změřili objem jejich obsahu. Stanovte na základě vašich měření očekávaný rozsah objemů vašich piv s pravděpodobností 99%. Vaše data najdete v souboru [`plnici_stroj.csv`](plnici_stroj.csv). Údaje jsou v ml."
      ]
    },
    {
      "cell_type": "code",
      "execution_count": null,
      "metadata": {
        "id": "BxS4nfacXdAA",
        "outputId": "c6f8978d-2694-48e5-8eff-a4aa45e6e56f"
      },
      "outputs": [
        {
          "data": {
            "text/html": [
              "<table>\n",
              "<thead><tr><th scope=col>Volume</th></tr></thead>\n",
              "<tbody>\n",
              "\t<tr><td>484.11</td></tr>\n",
              "\t<tr><td>459.49</td></tr>\n",
              "\t<tr><td>471.38</td></tr>\n",
              "\t<tr><td>512.01</td></tr>\n",
              "\t<tr><td>494.48</td></tr>\n",
              "\t<tr><td>528.63</td></tr>\n",
              "</tbody>\n",
              "</table>\n"
            ],
            "text/latex": [
              "\\begin{tabular}{r|l}\n",
              " Volume\\\\\n",
              "\\hline\n",
              "\t 484.11\\\\\n",
              "\t 459.49\\\\\n",
              "\t 471.38\\\\\n",
              "\t 512.01\\\\\n",
              "\t 494.48\\\\\n",
              "\t 528.63\\\\\n",
              "\\end{tabular}\n"
            ],
            "text/markdown": [
              "\n",
              "Volume | \n",
              "|---|---|---|---|---|---|\n",
              "| 484.11 | \n",
              "| 459.49 | \n",
              "| 471.38 | \n",
              "| 512.01 | \n",
              "| 494.48 | \n",
              "| 528.63 | \n",
              "\n",
              "\n"
            ],
            "text/plain": [
              "  Volume\n",
              "1 484.11\n",
              "2 459.49\n",
              "3 471.38\n",
              "4 512.01\n",
              "5 494.48\n",
              "6 528.63"
            ]
          },
          "metadata": {},
          "output_type": "display_data"
        }
      ],
      "source": [
        "mereni <- read.table(\"plnici_stroj.csv\")\n",
        "head(mereni)"
      ]
    },
    {
      "cell_type": "code",
      "execution_count": null,
      "metadata": {
        "id": "ZwyYbd-xXdAD",
        "outputId": "bd16f750-5774-45b8-dfd9-e12973293edf"
      },
      "outputs": [
        {
          "data": {
            "text/html": [
              "'numeric'"
            ],
            "text/latex": [
              "'numeric'"
            ],
            "text/markdown": [
              "'numeric'"
            ],
            "text/plain": [
              "[1] \"numeric\""
            ]
          },
          "metadata": {},
          "output_type": "display_data"
        },
        {
          "data": {
            "text/html": [
              "20"
            ],
            "text/latex": [
              "20"
            ],
            "text/markdown": [
              "20"
            ],
            "text/plain": [
              "[1] 20"
            ]
          },
          "metadata": {},
          "output_type": "display_data"
        }
      ],
      "source": [
        "mereni <- mereni$Volume\n",
        "class(mereni)\n",
        "length(mereni)"
      ]
    },
    {
      "cell_type": "markdown",
      "metadata": {
        "id": "TQYa-rETXdAE"
      },
      "source": [
        "Manuálně:"
      ]
    },
    {
      "cell_type": "code",
      "execution_count": null,
      "metadata": {
        "id": "l_F-WljsXdAF",
        "outputId": "a8f9169f-eb14-46ec-fa8f-4e3ff212625e"
      },
      "outputs": [
        {
          "data": {
            "text/html": [
              "475.709374508793"
            ],
            "text/latex": [
              "475.709374508793"
            ],
            "text/markdown": [
              "475.709374508793"
            ],
            "text/plain": [
              "[1] 475.7094"
            ]
          },
          "metadata": {},
          "output_type": "display_data"
        },
        {
          "data": {
            "text/html": [
              "507.431625491207"
            ],
            "text/latex": [
              "507.431625491207"
            ],
            "text/markdown": [
              "507.431625491207"
            ],
            "text/plain": [
              "[1] 507.4316"
            ]
          },
          "metadata": {},
          "output_type": "display_data"
        }
      ],
      "source": [
        "sem <- sd(mereni) / sqrt(length(mereni))\n",
        "t <- qt(0.995, df = length(mereni) - 1)\n",
        "mean(mereni) - t * sem\n",
        "mean(mereni) + t * sem"
      ]
    },
    {
      "cell_type": "markdown",
      "metadata": {
        "id": "WeQX3lx_XdAG"
      },
      "source": [
        "pomocí funkce `t.test`"
      ]
    },
    {
      "cell_type": "code",
      "execution_count": null,
      "metadata": {
        "id": "9QTmS3R0XdAG",
        "outputId": "29aeba4c-796a-46c0-b80d-ff98441108ac"
      },
      "outputs": [
        {
          "data": {
            "text/plain": [
              "\n",
              "\tOne Sample t-test\n",
              "\n",
              "data:  mereni\n",
              "t = 88.667, df = 19, p-value < 2.2e-16\n",
              "alternative hypothesis: true mean is not equal to 0\n",
              "99 percent confidence interval:\n",
              " 475.7094 507.4316\n",
              "sample estimates:\n",
              "mean of x \n",
              " 491.5705 \n"
            ]
          },
          "metadata": {},
          "output_type": "display_data"
        }
      ],
      "source": [
        "t.test(mereni, conf.level = 0.99)"
      ]
    },
    {
      "cell_type": "markdown",
      "metadata": {
        "id": "jD4xa686XdAH"
      },
      "source": [
        "Náš starý stroj tedy naplní 99% procent lahví někde mezi 475.7 ml a 507.4. \n",
        "\n",
        "Pokud by nás zajímala pouze spodní hranice, tedy interval od minimálního možného naplnění do nekonečna, můžeme tak učinit takto:"
      ]
    },
    {
      "cell_type": "code",
      "execution_count": null,
      "metadata": {
        "id": "eKH9yqVXXdAH",
        "outputId": "37ab996d-331f-40a9-b299-d14299063b8b"
      },
      "outputs": [
        {
          "data": {
            "text/html": [
              "477.491512847243"
            ],
            "text/latex": [
              "477.491512847243"
            ],
            "text/markdown": [
              "477.491512847243"
            ],
            "text/plain": [
              "[1] 477.4915"
            ]
          },
          "metadata": {},
          "output_type": "display_data"
        }
      ],
      "source": [
        "t <- qt(0.99, df = length(mereni) - 1)\n",
        "mean(mereni) - t * sem"
      ]
    },
    {
      "cell_type": "markdown",
      "metadata": {
        "id": "vI9IJUAgXdAI"
      },
      "source": [
        "nebo opět funkci `t.test` ale s parametrem `alternative`, který specifikuje o jakou alternativu se jedná (více v další lekci):"
      ]
    },
    {
      "cell_type": "code",
      "execution_count": null,
      "metadata": {
        "id": "cXLHM8UmXdAI",
        "outputId": "028aeeee-2d8a-4e1e-bc35-0ae7b5e156f5"
      },
      "outputs": [
        {
          "data": {
            "text/plain": [
              "\n",
              "\tOne Sample t-test\n",
              "\n",
              "data:  mereni\n",
              "t = 88.667, df = 19, p-value < 2.2e-16\n",
              "alternative hypothesis: true mean is greater than 0\n",
              "99 percent confidence interval:\n",
              " 477.4915      Inf\n",
              "sample estimates:\n",
              "mean of x \n",
              " 491.5705 \n"
            ]
          },
          "metadata": {},
          "output_type": "display_data"
        }
      ],
      "source": [
        "t.test(mereni, conf.level = 0.99, alternative = \"greater\")"
      ]
    },
    {
      "cell_type": "markdown",
      "metadata": {
        "id": "GJPXvs_2XdAJ"
      },
      "source": [
        "Náš stroj tedy v 99% případů zákazníky ošidí maximálně asi o 22.5 ml lahodného moku."
      ]
    },
    {
      "cell_type": "code",
      "execution_count": null,
      "metadata": {
        "collapsed": true,
        "id": "vtsB4I3tXdAJ"
      },
      "outputs": [],
      "source": []
    }
  ],
  "metadata": {
    "kernelspec": {
      "display_name": "R",
      "language": "R",
      "name": "ir"
    },
    "language_info": {
      "codemirror_mode": "r",
      "file_extension": ".r",
      "mimetype": "text/x-r-source",
      "name": "R",
      "pygments_lexer": "r",
      "version": "3.3.2"
    },
    "toc": {
      "nav_menu": {},
      "number_sections": true,
      "sideBar": true,
      "skip_h1_title": true,
      "toc_cell": true,
      "toc_position": {},
      "toc_section_display": "block",
      "toc_window_display": false
    },
    "colab": {
      "provenance": []
    }
  },
  "nbformat": 4,
  "nbformat_minor": 0
}