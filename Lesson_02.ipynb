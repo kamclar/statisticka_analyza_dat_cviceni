{
 "cells": [
  {
   "cell_type": "markdown",
   "id": "2af4defb",
   "metadata": {},
   "source": [
    "## R - basics"
   ]
  },
  {
   "cell_type": "markdown",
   "id": "2fa0840d",
   "metadata": {},
   "source": [
    "## R Data Structures\n",
    "Way of organizing data to reduce space and complexity of different tasks. \n",
    "1. Vectors\n",
    "2. Lists\n",
    "3. Matrices\n",
    "4. Arrays\n",
    "5. Dataframes\n",
    "6. Factors"
   ]
  },
  {
   "cell_type": "markdown",
   "id": "433a9bf4",
   "metadata": {},
   "source": [
    "### 1. Vectors\n",
    "Very basic one dimensional data collection type in R. All elements must be of identical data type."
   ]
  },
  {
   "cell_type": "code",
   "execution_count": 1,
   "id": "a03d76d1",
   "metadata": {},
   "outputs": [
    {
     "name": "stdout",
     "output_type": "stream",
     "text": [
      "[1] \"numeric\"\n",
      "[1] \"character\"\n",
      "[1] \"character\"\n",
      "[1] \"____________\"\n"
     ]
    },
    {
     "data": {
      "text/html": [
       "'integer'"
      ],
      "text/latex": [
       "'integer'"
      ],
      "text/markdown": [
       "'integer'"
      ],
      "text/plain": [
       "[1] \"integer\""
      ]
     },
     "metadata": {},
     "output_type": "display_data"
    },
    {
     "data": {
      "text/html": [
       "FALSE"
      ],
      "text/latex": [
       "FALSE"
      ],
      "text/markdown": [
       "FALSE"
      ],
      "text/plain": [
       "[1] FALSE"
      ]
     },
     "metadata": {},
     "output_type": "display_data"
    },
    {
     "data": {
      "text/html": [
       "'double'"
      ],
      "text/latex": [
       "'double'"
      ],
      "text/markdown": [
       "'double'"
      ],
      "text/plain": [
       "[1] \"double\""
      ]
     },
     "metadata": {},
     "output_type": "display_data"
    }
   ],
   "source": [
    "# try\n",
    "\n",
    "vec1 = c(1, 2, 3)\n",
    "vec2 = c('3', '4', '5')\n",
    "vec = c(vec1, vec2)\n",
    "print(class(vec1))\n",
    "print(class(vec2))\n",
    "print(class(vec))\n",
    "print('____________')\n",
    "\n",
    "vec1 = as.integer(c(1, 2, 3))\n",
    "typeof(vec1[0])\n",
    "vec2 = c(1.1, 2.1, 3.1)\n",
    "vec = c(vec1, vec2)\n",
    "\n",
    "# ask what type are the vector elements\n",
    "is.integer(vec[0])\n",
    "typeof(vec[0])"
   ]
  },
  {
   "cell_type": "markdown",
   "id": "b62b03ec",
   "metadata": {},
   "source": [
    "### 2. Lists\n",
    "List of ordered collection of objects. Compared to vectors they are heterogenous; elements can be of different data types. Similar to vectors, lists are one dimensional. But they can consists of numbers, characters, vectors, matrices or even functions."
   ]
  },
  {
   "cell_type": "code",
   "execution_count": 2,
   "id": "0bc2412c",
   "metadata": {},
   "outputs": [
    {
     "data": {
      "text/html": [
       "<ol>\n",
       "\t<li><style>\n",
       ".list-inline {list-style: none; margin:0; padding: 0}\n",
       ".list-inline>li {display: inline-block}\n",
       ".list-inline>li:not(:last-child)::after {content: \"\\00b7\"; padding: 0 .5ex}\n",
       "</style>\n",
       "<ol class=list-inline><li>1</li><li>2</li><li>3</li></ol>\n",
       "</li>\n",
       "\t<li><style>\n",
       ".list-inline {list-style: none; margin:0; padding: 0}\n",
       ".list-inline>li {display: inline-block}\n",
       ".list-inline>li:not(:last-child)::after {content: \"\\00b7\"; padding: 0 .5ex}\n",
       "</style>\n",
       "<ol class=list-inline><li>'dog'</li><li>'cat'</li><li>'horse'</li></ol>\n",
       "</li>\n",
       "</ol>\n"
      ],
      "text/latex": [
       "\\begin{enumerate}\n",
       "\\item \\begin{enumerate*}\n",
       "\\item 1\n",
       "\\item 2\n",
       "\\item 3\n",
       "\\end{enumerate*}\n",
       "\n",
       "\\item \\begin{enumerate*}\n",
       "\\item 'dog'\n",
       "\\item 'cat'\n",
       "\\item 'horse'\n",
       "\\end{enumerate*}\n",
       "\n",
       "\\end{enumerate}\n"
      ],
      "text/markdown": [
       "1. 1. 1\n",
       "2. 2\n",
       "3. 3\n",
       "\n",
       "\n",
       "\n",
       "2. 1. 'dog'\n",
       "2. 'cat'\n",
       "3. 'horse'\n",
       "\n",
       "\n",
       "\n",
       "\n",
       "\n"
      ],
      "text/plain": [
       "[[1]]\n",
       "[1] 1 2 3\n",
       "\n",
       "[[2]]\n",
       "[1] \"dog\"   \"cat\"   \"horse\"\n"
      ]
     },
     "metadata": {},
     "output_type": "display_data"
    },
    {
     "name": "stdout",
     "output_type": "stream",
     "text": [
      "[1] \"list\"\n"
     ]
    }
   ],
   "source": [
    "spec_id <- c(1, 2, 3)\n",
    "species <- c('dog', 'cat', 'horse')\n",
    "\n",
    "spec_list <- list(spec_id, species)\n",
    "spec_list\n",
    "\n",
    "print(class(spec_list))"
   ]
  },
  {
   "cell_type": "markdown",
   "id": "2caa5b13",
   "metadata": {},
   "source": [
    "### 3. Matrices\n",
    "Arangment of rows and columns to two dimensional rectangular object, similar to those in mathematics. They contain homogenous data.\n",
    "#### Syntax matrix(data, nrow, ncol, byrow)"
   ]
  },
  {
   "cell_type": "code",
   "execution_count": 3,
   "id": "0035c012",
   "metadata": {},
   "outputs": [
    {
     "name": "stdout",
     "output_type": "stream",
     "text": [
      "     [,1] [,2] [,3]\n",
      "[1,]    1    2    3\n",
      "[2,]    4    5    6\n"
     ]
    }
   ],
   "source": [
    "mat = matrix(\n",
    "            1:6,                  # c(..), n:k, etc\n",
    "            nrow=2, ncol=3,\n",
    "            byrow=TRUE            # default matrices ordering is by column wise, byrow change the arangement of the matrix\n",
    "            ) \n",
    "print(mat)"
   ]
  },
  {
   "cell_type": "code",
   "execution_count": 4,
   "id": "a65d4bb6",
   "metadata": {},
   "outputs": [
    {
     "name": "stderr",
     "output_type": "stream",
     "text": [
      "Updating HTML index of packages in '.Library'\n",
      "\n",
      "Making 'packages.html' ...\n",
      " done\n",
      "\n"
     ]
    }
   ],
   "source": [
    "# Install benchmarking package\n",
    "install.packages(\"microbenchmark\")"
   ]
  },
  {
   "cell_type": "code",
   "execution_count": 5,
   "id": "50589fad",
   "metadata": {},
   "outputs": [],
   "source": [
    "# how to access R help documentation\n",
    "# operator '::'' access the exact function from a specific package. \n",
    "help('::')"
   ]
  },
  {
   "cell_type": "code",
   "execution_count": 6,
   "id": "0e3436a3",
   "metadata": {},
   "outputs": [
    {
     "name": "stdout",
     "output_type": "stream",
     "text": [
      "Unit: microseconds\n",
      "   expr     min       lq      mean   median       uq      max neval\n",
      " by_col 200.648  349.870  353.5851  364.247  386.106  408.947    10\n",
      " by_row 846.372 1027.291 1060.7014 1101.043 1122.716 1144.064    10\n"
     ]
    }
   ],
   "source": [
    "mbm = microbenchmark::microbenchmark(\n",
    "                              by_col = matrix(1:1e5, nrow = 1000),\n",
    "                              by_row = matrix(1:1e5, nrow = 1000, byrow = TRUE),\n",
    "                              times = 10\n",
    "                              )\n",
    "print(mbm)"
   ]
  },
  {
   "cell_type": "markdown",
   "id": "cd1cb6f5",
   "metadata": {},
   "source": [
    "#### Useful matrix functions\n",
    "- dim()\n",
    "- nrow()\n",
    "- ncol()\n",
    "- cbind()\n",
    "- rbind()\n",
    "- dimnames(mat) <- list(,) # Naming the rows and columns"
   ]
  },
  {
   "cell_type": "code",
   "execution_count": 8,
   "id": "cb631641",
   "metadata": {},
   "outputs": [
    {
     "name": "stdout",
     "output_type": "stream",
     "text": [
      "      col 1 col 2 col 3\n",
      "row 1     1     3     5\n",
      "row 2     2     4     6\n"
     ]
    },
    {
     "data": {
      "text/html": [
       "<dl>\n",
       "\t<dt>$dim</dt>\n",
       "\t\t<dd><style>\n",
       ".list-inline {list-style: none; margin:0; padding: 0}\n",
       ".list-inline>li {display: inline-block}\n",
       ".list-inline>li:not(:last-child)::after {content: \"\\00b7\"; padding: 0 .5ex}\n",
       "</style>\n",
       "<ol class=list-inline><li>2</li><li>3</li></ol>\n",
       "</dd>\n",
       "\t<dt>$dimnames</dt>\n",
       "\t\t<dd><ol>\n",
       "\t<li><style>\n",
       ".list-inline {list-style: none; margin:0; padding: 0}\n",
       ".list-inline>li {display: inline-block}\n",
       ".list-inline>li:not(:last-child)::after {content: \"\\00b7\"; padding: 0 .5ex}\n",
       "</style>\n",
       "<ol class=list-inline><li>'row 1'</li><li>'row 2'</li></ol>\n",
       "</li>\n",
       "\t<li><style>\n",
       ".list-inline {list-style: none; margin:0; padding: 0}\n",
       ".list-inline>li {display: inline-block}\n",
       ".list-inline>li:not(:last-child)::after {content: \"\\00b7\"; padding: 0 .5ex}\n",
       "</style>\n",
       "<ol class=list-inline><li>'col 1'</li><li>'col 2'</li><li>'col 3'</li></ol>\n",
       "</li>\n",
       "</ol>\n",
       "</dd>\n",
       "</dl>\n"
      ],
      "text/latex": [
       "\\begin{description}\n",
       "\\item[\\$dim] \\begin{enumerate*}\n",
       "\\item 2\n",
       "\\item 3\n",
       "\\end{enumerate*}\n",
       "\n",
       "\\item[\\$dimnames] \\begin{enumerate}\n",
       "\\item \\begin{enumerate*}\n",
       "\\item 'row 1'\n",
       "\\item 'row 2'\n",
       "\\end{enumerate*}\n",
       "\n",
       "\\item \\begin{enumerate*}\n",
       "\\item 'col 1'\n",
       "\\item 'col 2'\n",
       "\\item 'col 3'\n",
       "\\end{enumerate*}\n",
       "\n",
       "\\end{enumerate}\n",
       "\n",
       "\\end{description}\n"
      ],
      "text/markdown": [
       "$dim\n",
       ":   1. 2\n",
       "2. 3\n",
       "\n",
       "\n",
       "\n",
       "$dimnames\n",
       ":   1. 1. 'row 1'\n",
       "2. 'row 2'\n",
       "\n",
       "\n",
       "\n",
       "2. 1. 'col 1'\n",
       "2. 'col 2'\n",
       "3. 'col 3'\n",
       "\n",
       "\n",
       "\n",
       "\n",
       "\n",
       "\n",
       "\n",
       "\n"
      ],
      "text/plain": [
       "$dim\n",
       "[1] 2 3\n",
       "\n",
       "$dimnames\n",
       "$dimnames[[1]]\n",
       "[1] \"row 1\" \"row 2\"\n",
       "\n",
       "$dimnames[[2]]\n",
       "[1] \"col 1\" \"col 2\" \"col 3\"\n",
       "\n"
      ]
     },
     "metadata": {},
     "output_type": "display_data"
    }
   ],
   "source": [
    "mat <- matrix(1:6, nrow=2, ncol=3)\n",
    "dimnames(mat) <- list(c('row 1', 'row 2'), c('col 1', 'col 2', 'col 3'))\n",
    "print(mat)\n",
    "# attributes() prints information about matrix dimensions and also about rows and columns names\n",
    "attributes(mat)"
   ]
  },
  {
   "cell_type": "code",
   "execution_count": 9,
   "id": "6355d6a3",
   "metadata": {},
   "outputs": [
    {
     "data": {
      "text/html": [
       "<table class=\"dataframe\">\n",
       "<caption>A matrix: 4 × 3 of type int</caption>\n",
       "<tbody>\n",
       "\t<tr><td>1</td><td>5</td><td> 9</td></tr>\n",
       "\t<tr><td>2</td><td>6</td><td>10</td></tr>\n",
       "\t<tr><td>3</td><td>7</td><td>11</td></tr>\n",
       "\t<tr><td>4</td><td>8</td><td>12</td></tr>\n",
       "</tbody>\n",
       "</table>\n"
      ],
      "text/latex": [
       "A matrix: 4 × 3 of type int\n",
       "\\begin{tabular}{lll}\n",
       "\t 1 & 5 &  9\\\\\n",
       "\t 2 & 6 & 10\\\\\n",
       "\t 3 & 7 & 11\\\\\n",
       "\t 4 & 8 & 12\\\\\n",
       "\\end{tabular}\n"
      ],
      "text/markdown": [
       "\n",
       "A matrix: 4 × 3 of type int\n",
       "\n",
       "| 1 | 5 |  9 |\n",
       "| 2 | 6 | 10 |\n",
       "| 3 | 7 | 11 |\n",
       "| 4 | 8 | 12 |\n",
       "\n"
      ],
      "text/plain": [
       "     [,1] [,2] [,3]\n",
       "[1,] 1    5     9  \n",
       "[2,] 2    6    10  \n",
       "[3,] 3    7    11  \n",
       "[4,] 4    8    12  "
      ]
     },
     "metadata": {},
     "output_type": "display_data"
    },
    {
     "data": {
      "text/html": [
       "<table class=\"dataframe\">\n",
       "<caption>A matrix: 4 × 3 of type int</caption>\n",
       "<tbody>\n",
       "\t<tr><td>1</td><td>5</td><td> 9</td></tr>\n",
       "\t<tr><td>2</td><td>6</td><td>10</td></tr>\n",
       "\t<tr><td>3</td><td>7</td><td>11</td></tr>\n",
       "\t<tr><td>4</td><td>8</td><td>12</td></tr>\n",
       "</tbody>\n",
       "</table>\n"
      ],
      "text/latex": [
       "A matrix: 4 × 3 of type int\n",
       "\\begin{tabular}{lll}\n",
       "\t 1 & 5 &  9\\\\\n",
       "\t 2 & 6 & 10\\\\\n",
       "\t 3 & 7 & 11\\\\\n",
       "\t 4 & 8 & 12\\\\\n",
       "\\end{tabular}\n"
      ],
      "text/markdown": [
       "\n",
       "A matrix: 4 × 3 of type int\n",
       "\n",
       "| 1 | 5 |  9 |\n",
       "| 2 | 6 | 10 |\n",
       "| 3 | 7 | 11 |\n",
       "| 4 | 8 | 12 |\n",
       "\n"
      ],
      "text/plain": [
       "     [,1] [,2] [,3]\n",
       "[1,] 1    5     9  \n",
       "[2,] 2    6    10  \n",
       "[3,] 3    7    11  \n",
       "[4,] 4    8    12  "
      ]
     },
     "metadata": {},
     "output_type": "display_data"
    }
   ],
   "source": [
    "# R can solve the number of rows \n",
    "matrix(1:12, ncol = 3)\n",
    "matrix(1:12, nrow = 4, ncol = 3)"
   ]
  },
  {
   "cell_type": "code",
   "execution_count": 10,
   "id": "174870d0",
   "metadata": {},
   "outputs": [
    {
     "data": {
      "text/html": [
       "<table class=\"dataframe\">\n",
       "<caption>A matrix: 3 × 3 of type dbl</caption>\n",
       "<tbody>\n",
       "\t<tr><td>0</td><td>0</td><td>0</td></tr>\n",
       "\t<tr><td>0</td><td>0</td><td>0</td></tr>\n",
       "\t<tr><td>0</td><td>0</td><td>0</td></tr>\n",
       "</tbody>\n",
       "</table>\n"
      ],
      "text/latex": [
       "A matrix: 3 × 3 of type dbl\n",
       "\\begin{tabular}{lll}\n",
       "\t 0 & 0 & 0\\\\\n",
       "\t 0 & 0 & 0\\\\\n",
       "\t 0 & 0 & 0\\\\\n",
       "\\end{tabular}\n"
      ],
      "text/markdown": [
       "\n",
       "A matrix: 3 × 3 of type dbl\n",
       "\n",
       "| 0 | 0 | 0 |\n",
       "| 0 | 0 | 0 |\n",
       "| 0 | 0 | 0 |\n",
       "\n"
      ],
      "text/plain": [
       "     [,1] [,2] [,3]\n",
       "[1,] 0    0    0   \n",
       "[2,] 0    0    0   \n",
       "[3,] 0    0    0   "
      ]
     },
     "metadata": {},
     "output_type": "display_data"
    },
    {
     "data": {
      "text/html": [
       "<table class=\"dataframe\">\n",
       "<caption>A matrix: 3 × 3 of type dbl</caption>\n",
       "<tbody>\n",
       "\t<tr><td>1</td><td>1</td><td>1</td></tr>\n",
       "\t<tr><td>1</td><td>1</td><td>1</td></tr>\n",
       "\t<tr><td>1</td><td>1</td><td>1</td></tr>\n",
       "</tbody>\n",
       "</table>\n"
      ],
      "text/latex": [
       "A matrix: 3 × 3 of type dbl\n",
       "\\begin{tabular}{lll}\n",
       "\t 1 & 1 & 1\\\\\n",
       "\t 1 & 1 & 1\\\\\n",
       "\t 1 & 1 & 1\\\\\n",
       "\\end{tabular}\n"
      ],
      "text/markdown": [
       "\n",
       "A matrix: 3 × 3 of type dbl\n",
       "\n",
       "| 1 | 1 | 1 |\n",
       "| 1 | 1 | 1 |\n",
       "| 1 | 1 | 1 |\n",
       "\n"
      ],
      "text/plain": [
       "     [,1] [,2] [,3]\n",
       "[1,] 1    1    1   \n",
       "[2,] 1    1    1   \n",
       "[3,] 1    1    1   "
      ]
     },
     "metadata": {},
     "output_type": "display_data"
    }
   ],
   "source": [
    "# if you need matrix filled with just one number\n",
    "matrix(0, ncol = 3, nrow = 3)\n",
    "matrix(1, ncol = 3, nrow = 3)"
   ]
  },
  {
   "cell_type": "code",
   "execution_count": 11,
   "id": "39a07e9f",
   "metadata": {},
   "outputs": [
    {
     "name": "stdout",
     "output_type": "stream",
     "text": [
      "     [,1] [,2] [,3]\n",
      "[1,]    2    6   10\n",
      "[2,]    3    7   11\n",
      "[1] \"____________________\"\n",
      "[1]  7 11\n"
     ]
    }
   ],
   "source": [
    "# Selection parts of the matrix\n",
    "mat <- matrix(1:12, ncol = 3)\n",
    "print(mat[c(2, 3), 1:3]) # numeric\n",
    "print('____________________')\n",
    "print(mat[c(F, F, T), c(F, T, T)]) # boolean"
   ]
  },
  {
   "cell_type": "code",
   "execution_count": 12,
   "id": "216739ee",
   "metadata": {},
   "outputs": [
    {
     "name": "stdout",
     "output_type": "stream",
     "text": [
      "     [,1] [,2] [,3]\n",
      "[1,]    1    5    9\n",
      "[2,]    2    6   10\n",
      "[3,]    3    7   11\n",
      "[4,]    4    8   12\n"
     ]
    },
    {
     "data": {
      "text/html": [
       "<table class=\"dataframe\">\n",
       "<caption>A matrix: 4 × 3 of type lgl</caption>\n",
       "<tbody>\n",
       "\t<tr><td> TRUE</td><td> TRUE</td><td> TRUE</td></tr>\n",
       "\t<tr><td>FALSE</td><td>FALSE</td><td>FALSE</td></tr>\n",
       "\t<tr><td> TRUE</td><td> TRUE</td><td> TRUE</td></tr>\n",
       "\t<tr><td>FALSE</td><td>FALSE</td><td>FALSE</td></tr>\n",
       "</tbody>\n",
       "</table>\n"
      ],
      "text/latex": [
       "A matrix: 4 × 3 of type lgl\n",
       "\\begin{tabular}{lll}\n",
       "\t  TRUE &  TRUE &  TRUE\\\\\n",
       "\t FALSE & FALSE & FALSE\\\\\n",
       "\t  TRUE &  TRUE &  TRUE\\\\\n",
       "\t FALSE & FALSE & FALSE\\\\\n",
       "\\end{tabular}\n"
      ],
      "text/markdown": [
       "\n",
       "A matrix: 4 × 3 of type lgl\n",
       "\n",
       "|  TRUE |  TRUE |  TRUE |\n",
       "| FALSE | FALSE | FALSE |\n",
       "|  TRUE |  TRUE |  TRUE |\n",
       "| FALSE | FALSE | FALSE |\n",
       "\n"
      ],
      "text/plain": [
       "     [,1]  [,2]  [,3] \n",
       "[1,]  TRUE  TRUE  TRUE\n",
       "[2,] FALSE FALSE FALSE\n",
       "[3,]  TRUE  TRUE  TRUE\n",
       "[4,] FALSE FALSE FALSE"
      ]
     },
     "metadata": {},
     "output_type": "display_data"
    },
    {
     "name": "stdout",
     "output_type": "stream",
     "text": [
      "[1] \"integer\"\n"
     ]
    }
   ],
   "source": [
    "# Selection using the boolean mask\n",
    "print(mat)\n",
    "mask <- matrix(\n",
    "    c(\n",
    "        T, T, T,\n",
    "        F, F, F,\n",
    "        T, T, T,\n",
    "        F, F, F\n",
    "    )\n",
    "    , nrow = 4\n",
    "    , byrow = T\n",
    ")\n",
    "mask\n",
    "# the mask result is a vector\n",
    "selection <- mat[mask]\n",
    "print(class(selection))"
   ]
  },
  {
   "cell_type": "code",
   "execution_count": 13,
   "id": "21afb209",
   "metadata": {},
   "outputs": [
    {
     "name": "stdout",
     "output_type": "stream",
     "text": [
      "[1] 1 5 9\n"
     ]
    },
    {
     "data": {
      "text/html": [
       "'integer'"
      ],
      "text/latex": [
       "'integer'"
      ],
      "text/markdown": [
       "'integer'"
      ],
      "text/plain": [
       "[1] \"integer\""
      ]
     },
     "metadata": {},
     "output_type": "display_data"
    },
    {
     "data": {
      "text/plain": [
       "NULL"
      ]
     },
     "metadata": {},
     "output_type": "display_data"
    },
    {
     "data": {
      "text/html": [
       "'____________________'"
      ],
      "text/latex": [
       "'\\_\\_\\_\\_\\_\\_\\_\\_\\_\\_\\_\\_\\_\\_\\_\\_\\_\\_\\_\\_'"
      ],
      "text/markdown": [
       "'____________________'"
      ],
      "text/plain": [
       "[1] \"____________________\""
      ]
     },
     "metadata": {},
     "output_type": "display_data"
    },
    {
     "name": "stdout",
     "output_type": "stream",
     "text": [
      "     [,1] [,2] [,3]\n",
      "[1,]    1    5    9\n"
     ]
    },
    {
     "data": {
      "text/html": [
       "<style>\n",
       ".list-inline {list-style: none; margin:0; padding: 0}\n",
       ".list-inline>li {display: inline-block}\n",
       ".list-inline>li:not(:last-child)::after {content: \"\\00b7\"; padding: 0 .5ex}\n",
       "</style>\n",
       "<ol class=list-inline><li>'matrix'</li><li>'array'</li></ol>\n"
      ],
      "text/latex": [
       "\\begin{enumerate*}\n",
       "\\item 'matrix'\n",
       "\\item 'array'\n",
       "\\end{enumerate*}\n"
      ],
      "text/markdown": [
       "1. 'matrix'\n",
       "2. 'array'\n",
       "\n",
       "\n"
      ],
      "text/plain": [
       "[1] \"matrix\" \"array\" "
      ]
     },
     "metadata": {},
     "output_type": "display_data"
    },
    {
     "data": {
      "text/html": [
       "<style>\n",
       ".list-inline {list-style: none; margin:0; padding: 0}\n",
       ".list-inline>li {display: inline-block}\n",
       ".list-inline>li:not(:last-child)::after {content: \"\\00b7\"; padding: 0 .5ex}\n",
       "</style>\n",
       "<ol class=list-inline><li>1</li><li>3</li></ol>\n"
      ],
      "text/latex": [
       "\\begin{enumerate*}\n",
       "\\item 1\n",
       "\\item 3\n",
       "\\end{enumerate*}\n"
      ],
      "text/markdown": [
       "1. 1\n",
       "2. 3\n",
       "\n",
       "\n"
      ],
      "text/plain": [
       "[1] 1 3"
      ]
     },
     "metadata": {},
     "output_type": "display_data"
    }
   ],
   "source": [
    "# Notice, if one of the selection dimension is empty the resulting selection is a vector\n",
    "selection <- mat[1,]\n",
    "print(selection)\n",
    "class(selection)\n",
    "dim(selection)\n",
    "('____________________')\n",
    "# if we want to have a matrix we need to use drop = FALSE\n",
    "selection <- mat[1,, drop = F]\n",
    "print(selection)\n",
    "class(selection)\n",
    "dim(selection)"
   ]
  },
  {
   "cell_type": "code",
   "execution_count": 14,
   "id": "4a072f3a",
   "metadata": {},
   "outputs": [
    {
     "name": "stdout",
     "output_type": "stream",
     "text": [
      "     [,1] [,2] [,3]\n",
      "[1,]    1    5    9\n",
      "[2,]    2    6   10\n",
      "[3,]    3    7   11\n",
      "[4,]    4    8   12\n",
      "     [,1] [,2] [,3]\n",
      "[1,]   10   10   10\n",
      "[2,]    2    6   10\n",
      "[3,]    3    7   11\n",
      "[4,]    4    8   12\n",
      "     [,1] [,2] [,3]\n",
      "[1,]    2   10   10\n",
      "[2,]    5    6   10\n",
      "[3,]    2    7   11\n",
      "[4,]    5    8   12\n"
     ]
    }
   ],
   "source": [
    "# Selection notation [] can be used for assigning a new data\n",
    "print(mat)\n",
    "mat[1, ] <- c(10, 10, 10)\n",
    "print(mat)\n",
    "mat[, 1] <- c(2, 5) # notice the repetition in the resulting columns\n",
    "print(mat)"
   ]
  },
  {
   "cell_type": "code",
   "execution_count": 15,
   "id": "7e1c9f2d",
   "metadata": {},
   "outputs": [],
   "source": [
    "# try what would happen if you assign the strings or characters to one columns"
   ]
  },
  {
   "cell_type": "code",
   "execution_count": 16,
   "id": "4d7a3cbd",
   "metadata": {},
   "outputs": [
    {
     "data": {
      "image/png": "[encoded data removed]",
      "text/plain": [
       "plot without title"
      ]
     },
     "metadata": {
      "image/png": {
       "height": 420,
       "width": 420
      }
     },
     "output_type": "display_data"
    }
   ],
   "source": [
    "# Image data are stores in a matrix\n",
    "# https://www.rdocumentation.org/packages/graphics/versions/3.6.2/topics/image\n",
    "\n",
    "image(volcano)"
   ]
  },
  {
   "cell_type": "code",
   "execution_count": 17,
   "id": "a390af7f",
   "metadata": {},
   "outputs": [
    {
     "name": "stdout",
     "output_type": "stream",
     "text": [
      " [1] -12.5663706 -11.5997267 -10.6330828  -9.6664389  -8.6997950  -7.7331511\n",
      " [7]  -6.7665073  -5.7998634  -4.8332195  -3.8665756  -2.8999317  -1.9332878\n",
      "[13]  -0.9666439   0.0000000   0.9666439   1.9332878   2.8999317   3.8665756\n",
      "[19]   4.8332195   5.7998634   6.7665073   7.7331511   8.6997950   9.6664389\n",
      "[25]  10.6330828  11.5997267  12.5663706\n",
      "[1] 27 27\n",
      "            [,1]        [,2]        [,3]         [,4]        [,5]\n",
      "[1,] -0.00502329 -0.05525878  0.04486588  0.071168689  0.03395126\n",
      "[2,] -0.05525878  0.03120585 -0.06114277 -0.018267052 -0.08652410\n",
      "[3,]  0.04486588 -0.06114277  0.08137578  0.060674115  0.09805751\n",
      "[4,]  0.07116869 -0.01826705  0.06067412 -0.004575801  0.09936265\n",
      "[5,]  0.03395126 -0.08652410  0.09805751  0.099362650  0.10787324\n"
     ]
    },
    {
     "data": {
      "image/png": "[encoded data removed]",
      "text/plain": [
       "plot without title"
      ]
     },
     "metadata": {
      "image/png": {
       "height": 420,
       "width": 420
      }
     },
     "output_type": "display_data"
    }
   ],
   "source": [
    "# Let's try to plot some function\n",
    "x <- y <- seq(-4*pi, 4*pi, len = 27)\n",
    "print(x)\n",
    "r <- sqrt(outer(x^2, y^2, \"+\"))\n",
    "print(dim(r))\n",
    "z <- cos(r^2)*exp(-r/6)\n",
    "print(z[1:5, 1:5])\n",
    "image(z = z)\n",
    "contour(z, add = TRUE, drawlabels = FALSE)"
   ]
  },
  {
   "cell_type": "markdown",
   "id": "5eddaf45",
   "metadata": {},
   "source": [
    "#### Matrix operations"
   ]
  },
  {
   "cell_type": "code",
   "execution_count": 18,
   "id": "0c7a899a",
   "metadata": {},
   "outputs": [],
   "source": [
    "mat1 <- matrix(1:6, 2)\n",
    "mat2 <- matrix(c(rep(1, 3), rep(2, 3)), 2, byrow = T)"
   ]
  },
  {
   "cell_type": "code",
   "execution_count": 19,
   "id": "2b59f8fa",
   "metadata": {},
   "outputs": [
    {
     "name": "stdout",
     "output_type": "stream",
     "text": [
      "     [,1] [,2] [,3]\n",
      "[1,]    2    4    6\n",
      "[2,]    4    6    8\n",
      "     [,1] [,2] [,3]\n",
      "[1,]   -1    1    3\n",
      "[2,]    0    2    4\n"
     ]
    }
   ],
   "source": [
    "# Addition, subtraction\n",
    "print(mat1 + mat2)\n",
    "print(mat1 - 2)"
   ]
  },
  {
   "cell_type": "code",
   "execution_count": 20,
   "id": "43b41f66",
   "metadata": {},
   "outputs": [
    {
     "name": "stdout",
     "output_type": "stream",
     "text": [
      "     [,1] [,2] [,3]\n",
      "[1,]    1    3    5\n",
      "[2,]    4    8   12\n",
      "[1] \"______________\"\n",
      "     [,1] [,2] [,3]\n",
      "[1,]    3    9   15\n",
      "[2,]    6   12   18\n",
      "[1] \"______________\"\n",
      "     [,1] [,2] [,3]\n",
      "[1,]    1    3    5\n",
      "[2,]    1    2    3\n"
     ]
    }
   ],
   "source": [
    "# Element-wise multiplication, division\n",
    "print(mat1 * mat2)\n",
    "print('______________')\n",
    "print(mat1 * 3)\n",
    "print('______________')\n",
    "print(mat1 / mat2)"
   ]
  },
  {
   "cell_type": "code",
   "execution_count": 21,
   "id": "e2a850bf",
   "metadata": {},
   "outputs": [
    {
     "name": "stdout",
     "output_type": "stream",
     "text": [
      "     [,1] [,2] [,3]\n",
      "[1,]    1    1    1\n",
      "[2,]    2    2    2\n",
      "     [,1] [,2]\n",
      "[1,]    1    2\n",
      "[2,]    1    2\n",
      "[3,]    1    2\n"
     ]
    }
   ],
   "source": [
    "# Transpose\n",
    "print(mat2)\n",
    "print(t(mat2))"
   ]
  },
  {
   "cell_type": "code",
   "execution_count": 22,
   "id": "c1555496",
   "metadata": {},
   "outputs": [
    {
     "name": "stdout",
     "output_type": "stream",
     "text": [
      "     [,1] [,2]\n",
      "[1,]    9   18\n",
      "[2,]   12   24\n"
     ]
    }
   ],
   "source": [
    "# Matrix multiplication, dimension of matrices must match, i.e. (dim(2,3) times dim(3,2))\n",
    "print(mat1 %*% t(mat2))"
   ]
  },
  {
   "cell_type": "markdown",
   "id": "9f3052d2",
   "metadata": {},
   "source": [
    "<div>\n",
    "<img src='https://upload.wikimedia.org/wikipedia/commons/thumb/1/11/Matrix_multiplication_diagram.svg/1920px-Matrix_multiplication_diagram.svg.png' width='500'>\n",
    "</div>"
   ]
  },
  {
   "cell_type": "code",
   "execution_count": 23,
   "id": "468b78aa",
   "metadata": {},
   "outputs": [
    {
     "data": {
      "text/html": [
       "0.4"
      ],
      "text/latex": [
       "0.4"
      ],
      "text/markdown": [
       "0.4"
      ],
      "text/plain": [
       "[1] 0.4"
      ]
     },
     "metadata": {},
     "output_type": "display_data"
    },
    {
     "data": {
      "text/html": [
       "0.4"
      ],
      "text/latex": [
       "0.4"
      ],
      "text/markdown": [
       "0.4"
      ],
      "text/plain": [
       "[1] 0.4"
      ]
     },
     "metadata": {},
     "output_type": "display_data"
    }
   ],
   "source": [
    "# solve function\n",
    "# solve(a: coefficients of the equation, b: vector or matrix of the equation)  \n",
    "# it is a generic R function used to solving linear algebraic equations (a %*% x = b)\n",
    "# https://www.rdocumentation.org/packages/base/versions/3.6.2/topics/solve\n",
    "# a: a square numeric or complex matrix containing the coefficients of the linear system. Logical matrices are coerced to numeric\n",
    "# b: a numeric or complex vector or matrix giving the right-hand side(s) of the linear system. \n",
    "# If missing, b is taken to be an identity matrix and solve will return the inverse of a.\n",
    "# Try\n",
    "solve(5, 2) # a*5 = 2 -> a = 2/5 \n",
    "a = 2/5\n",
    "a"
   ]
  },
  {
   "cell_type": "code",
   "execution_count": 24,
   "id": "107864ac",
   "metadata": {},
   "outputs": [],
   "source": [
    "# Solve:\n",
    "# 15x + 3y = 15\n",
    "# 22x + 6y = 9"
   ]
  },
  {
   "cell_type": "code",
   "execution_count": 25,
   "id": "128c4e47",
   "metadata": {},
   "outputs": [
    {
     "name": "stdout",
     "output_type": "stream",
     "text": [
      "     [,1] [,2]\n",
      "[1,]   15    3\n",
      "[2,]   22    6\n",
      "     [,1]\n",
      "[1,]   12\n",
      "[2,]   29\n",
      "[1] \"Solution:\"\n",
      "       [,1]\n",
      "[1,] -0.625\n",
      "[2,]  7.125\n"
     ]
    }
   ],
   "source": [
    "# Solution\n",
    "# left side\n",
    "A <- matrix(c(15, 22,        \n",
    "              3, 6),\n",
    "            nrow = 2)\n",
    "print(A)\n",
    "# right side\n",
    "b <- matrix(c(12,           \n",
    "              29),\n",
    "            nrow = 2)\n",
    "print(b)\n",
    "print('Solution:')\n",
    "print(solve(A,b))"
   ]
  },
  {
   "cell_type": "markdown",
   "id": "84a2bbe6",
   "metadata": {},
   "source": [
    "Inverse<br>\n",
    "Matrix needs to be square, non-singular (determinant != 0)<br>\n",
    "https://collegedunia.com/exams/inverse-matrix-formula-concept-and-solved-examples-mathematics-articleid-1363<br>\n",
    "![inverse](https://media.geeksforgeeks.org/wp-content/uploads/20200402114604/inv.png)"
   ]
  },
  {
   "cell_type": "markdown",
   "id": "417020a5",
   "metadata": {},
   "source": [
    "![inverse matrix](https://images.collegedunia.com/public/image/f400c1f4a3ce3345d087aa446dec1513.png?tr=w-500,h-94,c-force?tr=w-500,h-94,c-force)"
   ]
  },
  {
   "cell_type": "code",
   "execution_count": 26,
   "id": "bc7d1c9a",
   "metadata": {},
   "outputs": [
    {
     "name": "stdout",
     "output_type": "stream",
     "text": [
      "     [,1] [,2] [,3]\n",
      "[1,]    3    3    6\n",
      "[2,]    2    2    3\n",
      "[3,]    5    3    4\n",
      "[1] \"____________________________\"\n",
      "           [,1] [,2]          [,3]\n",
      "[1,]  0.1666667   -1  5.000000e-01\n",
      "[2,] -1.1666667    3 -5.000000e-01\n",
      "[3,]  0.6666667   -1 -1.480297e-17\n"
     ]
    }
   ],
   "source": [
    "mat3 <- matrix(c(3, 2, 5, 3, 2, 3, 6, 3, 4), 3)\n",
    "print(mat3)\n",
    "print('____________________________')\n",
    "print(solve(mat3))"
   ]
  },
  {
   "cell_type": "markdown",
   "id": "687d7fb1",
   "metadata": {},
   "source": [
    "### 4. Arrays\n",
    "Objects that can store data in more than two dimensions, can store only one data type."
   ]
  },
  {
   "cell_type": "code",
   "execution_count": 27,
   "id": "f2882e61",
   "metadata": {},
   "outputs": [
    {
     "name": "stdout",
     "output_type": "stream",
     "text": [
      ", , mat 1\n",
      "\n",
      "      col 1 col 2 col 3\n",
      "row 1     3    10    13\n",
      "row 2     3    11    14\n",
      "row 3     3    12    15\n",
      "\n",
      ", , mat 2\n",
      "\n",
      "      col 1 col 2 col 3\n",
      "row 1     3    10    13\n",
      "row 2     3    11    14\n",
      "row 3     3    12    15\n",
      "\n"
     ]
    }
   ],
   "source": [
    "vec1 <- c(rep(3, 3))\n",
    "vec2 <- 10:15\n",
    "\n",
    "arr <- array(c(vec1,vec2),dim = c(3,3,2), dimnames = list(c('row 1', 'row 2', 'row 3'), \n",
    "                                                          c('col 1', 'col 2', 'col 3'),\n",
    "                                                          c('mat 1', 'mat 2')))\n",
    "print(arr)"
   ]
  },
  {
   "cell_type": "code",
   "execution_count": 28,
   "id": "d8702a20",
   "metadata": {},
   "outputs": [
    {
     "name": "stdout",
     "output_type": "stream",
     "text": [
      "[1] \"the 2nd row of the 2nd matrix of the array\"\n",
      "col 1 col 2 col 3 \n",
      "    3    11    14 \n",
      "[1] \"______________\"\n",
      "[1] \"element in the 1st row and 2rd column of the 1st matrix\"\n",
      "[1] 10\n",
      "[1] \"______________\"\n",
      "[1] \"the 2nd Matrix\"\n",
      "      col 1 col 2 col 3\n",
      "row 1     3    10    13\n",
      "row 2     3    11    14\n",
      "row 3     3    12    15\n"
     ]
    }
   ],
   "source": [
    "# Accessing array elements\n",
    "\n",
    "print('the 2nd row of the 2nd matrix of the array')\n",
    "print(arr[2, , 2])\n",
    "print('______________')\n",
    "print('element in the 1st row and 2rd column of the 1st matrix')\n",
    "print(arr[1, 2, 1])\n",
    "print('______________')\n",
    "print('the 2nd Matrix')\n",
    "print(arr[ , , 2])"
   ]
  },
  {
   "cell_type": "markdown",
   "id": "5d419760",
   "metadata": {},
   "source": [
    "### 5. Dataframes\n",
    "A Dataframe is a table like structure, where columns represents different variables and rows their respective values."
   ]
  },
  {
   "cell_type": "code",
   "execution_count": 29,
   "id": "3ace1401",
   "metadata": {},
   "outputs": [
    {
     "data": {
      "text/html": [
       "<table class=\"dataframe\">\n",
       "<caption>A data.frame: 6 × 11</caption>\n",
       "<thead>\n",
       "\t<tr><th></th><th scope=col>mpg</th><th scope=col>cyl</th><th scope=col>disp</th><th scope=col>hp</th><th scope=col>drat</th><th scope=col>wt</th><th scope=col>qsec</th><th scope=col>vs</th><th scope=col>am</th><th scope=col>gear</th><th scope=col>carb</th></tr>\n",
       "\t<tr><th></th><th scope=col>&lt;dbl&gt;</th><th scope=col>&lt;dbl&gt;</th><th scope=col>&lt;dbl&gt;</th><th scope=col>&lt;dbl&gt;</th><th scope=col>&lt;dbl&gt;</th><th scope=col>&lt;dbl&gt;</th><th scope=col>&lt;dbl&gt;</th><th scope=col>&lt;dbl&gt;</th><th scope=col>&lt;dbl&gt;</th><th scope=col>&lt;dbl&gt;</th><th scope=col>&lt;dbl&gt;</th></tr>\n",
       "</thead>\n",
       "<tbody>\n",
       "\t<tr><th scope=row>Mazda RX4</th><td>21.0</td><td>6</td><td>160</td><td>110</td><td>3.90</td><td>2.620</td><td>16.46</td><td>0</td><td>1</td><td>4</td><td>4</td></tr>\n",
       "\t<tr><th scope=row>Mazda RX4 Wag</th><td>21.0</td><td>6</td><td>160</td><td>110</td><td>3.90</td><td>2.875</td><td>17.02</td><td>0</td><td>1</td><td>4</td><td>4</td></tr>\n",
       "\t<tr><th scope=row>Datsun 710</th><td>22.8</td><td>4</td><td>108</td><td> 93</td><td>3.85</td><td>2.320</td><td>18.61</td><td>1</td><td>1</td><td>4</td><td>1</td></tr>\n",
       "\t<tr><th scope=row>Hornet 4 Drive</th><td>21.4</td><td>6</td><td>258</td><td>110</td><td>3.08</td><td>3.215</td><td>19.44</td><td>1</td><td>0</td><td>3</td><td>1</td></tr>\n",
       "\t<tr><th scope=row>Hornet Sportabout</th><td>18.7</td><td>8</td><td>360</td><td>175</td><td>3.15</td><td>3.440</td><td>17.02</td><td>0</td><td>0</td><td>3</td><td>2</td></tr>\n",
       "\t<tr><th scope=row>Valiant</th><td>18.1</td><td>6</td><td>225</td><td>105</td><td>2.76</td><td>3.460</td><td>20.22</td><td>1</td><td>0</td><td>3</td><td>1</td></tr>\n",
       "</tbody>\n",
       "</table>\n"
      ],
      "text/latex": [
       "A data.frame: 6 × 11\n",
       "\\begin{tabular}{r|lllllllllll}\n",
       "  & mpg & cyl & disp & hp & drat & wt & qsec & vs & am & gear & carb\\\\\n",
       "  & <dbl> & <dbl> & <dbl> & <dbl> & <dbl> & <dbl> & <dbl> & <dbl> & <dbl> & <dbl> & <dbl>\\\\\n",
       "\\hline\n",
       "\tMazda RX4 & 21.0 & 6 & 160 & 110 & 3.90 & 2.620 & 16.46 & 0 & 1 & 4 & 4\\\\\n",
       "\tMazda RX4 Wag & 21.0 & 6 & 160 & 110 & 3.90 & 2.875 & 17.02 & 0 & 1 & 4 & 4\\\\\n",
       "\tDatsun 710 & 22.8 & 4 & 108 &  93 & 3.85 & 2.320 & 18.61 & 1 & 1 & 4 & 1\\\\\n",
       "\tHornet 4 Drive & 21.4 & 6 & 258 & 110 & 3.08 & 3.215 & 19.44 & 1 & 0 & 3 & 1\\\\\n",
       "\tHornet Sportabout & 18.7 & 8 & 360 & 175 & 3.15 & 3.440 & 17.02 & 0 & 0 & 3 & 2\\\\\n",
       "\tValiant & 18.1 & 6 & 225 & 105 & 2.76 & 3.460 & 20.22 & 1 & 0 & 3 & 1\\\\\n",
       "\\end{tabular}\n"
      ],
      "text/markdown": [
       "\n",
       "A data.frame: 6 × 11\n",
       "\n",
       "| <!--/--> | mpg &lt;dbl&gt; | cyl &lt;dbl&gt; | disp &lt;dbl&gt; | hp &lt;dbl&gt; | drat &lt;dbl&gt; | wt &lt;dbl&gt; | qsec &lt;dbl&gt; | vs &lt;dbl&gt; | am &lt;dbl&gt; | gear &lt;dbl&gt; | carb &lt;dbl&gt; |\n",
       "|---|---|---|---|---|---|---|---|---|---|---|---|\n",
       "| Mazda RX4 | 21.0 | 6 | 160 | 110 | 3.90 | 2.620 | 16.46 | 0 | 1 | 4 | 4 |\n",
       "| Mazda RX4 Wag | 21.0 | 6 | 160 | 110 | 3.90 | 2.875 | 17.02 | 0 | 1 | 4 | 4 |\n",
       "| Datsun 710 | 22.8 | 4 | 108 |  93 | 3.85 | 2.320 | 18.61 | 1 | 1 | 4 | 1 |\n",
       "| Hornet 4 Drive | 21.4 | 6 | 258 | 110 | 3.08 | 3.215 | 19.44 | 1 | 0 | 3 | 1 |\n",
       "| Hornet Sportabout | 18.7 | 8 | 360 | 175 | 3.15 | 3.440 | 17.02 | 0 | 0 | 3 | 2 |\n",
       "| Valiant | 18.1 | 6 | 225 | 105 | 2.76 | 3.460 | 20.22 | 1 | 0 | 3 | 1 |\n",
       "\n"
      ],
      "text/plain": [
       "                  mpg  cyl disp hp  drat wt    qsec  vs am gear carb\n",
       "Mazda RX4         21.0 6   160  110 3.90 2.620 16.46 0  1  4    4   \n",
       "Mazda RX4 Wag     21.0 6   160  110 3.90 2.875 17.02 0  1  4    4   \n",
       "Datsun 710        22.8 4   108   93 3.85 2.320 18.61 1  1  4    1   \n",
       "Hornet 4 Drive    21.4 6   258  110 3.08 3.215 19.44 1  0  3    1   \n",
       "Hornet Sportabout 18.7 8   360  175 3.15 3.440 17.02 0  0  3    2   \n",
       "Valiant           18.1 6   225  105 2.76 3.460 20.22 1  0  3    1   "
      ]
     },
     "metadata": {},
     "output_type": "display_data"
    }
   ],
   "source": [
    "# https://www.rdocumentation.org/packages/datasets/versions/3.6.2/topics/mtcars\n",
    "head(mtcars)"
   ]
  },
  {
   "cell_type": "code",
   "execution_count": 30,
   "id": "44bab906",
   "metadata": {},
   "outputs": [
    {
     "name": "stdout",
     "output_type": "stream",
     "text": [
      "  anim_id  animal weight           diet\n",
      "1       1     cat      3      carnivore\n",
      "2       2     dog     15      carnivore\n",
      "3       3   horse    400      herbivore\n",
      "4       4   whale  50000 plancton eater\n",
      "5       5 ostrich    100       omnivore\n"
     ]
    }
   ],
   "source": [
    "anim.data <- data.frame(\n",
    "    anim_id = c (1:5), \n",
    "    animal = c('cat','dog','horse','whale', 'ostrich'),\n",
    "    weight = c(3, 15, 400, 50000, 100), # whales differ from 5k to 15k\n",
    "    diet = c('carnivore', 'carnivore', 'herbivore','plancton eater' ,'omnivore'),\n",
    "    stringsAsFactors = FALSE\n",
    ")\n",
    "print(anim.data)"
   ]
  },
  {
   "cell_type": "code",
   "execution_count": 31,
   "id": "bcf14f2a",
   "metadata": {},
   "outputs": [
    {
     "name": "stdout",
     "output_type": "stream",
     "text": [
      "'data.frame':\t5 obs. of  4 variables:\n",
      " $ anim_id: int  1 2 3 4 5\n",
      " $ animal : chr  \"cat\" \"dog\" \"horse\" \"whale\" ...\n",
      " $ weight : num  3 15 400 50000 100\n",
      " $ diet   : chr  \"carnivore\" \"carnivore\" \"herbivore\" \"plancton eater\" ...\n"
     ]
    }
   ],
   "source": [
    "# Structure of the dataframe\n",
    "str(anim.data)"
   ]
  },
  {
   "cell_type": "code",
   "execution_count": 32,
   "id": "f49b036c",
   "metadata": {},
   "outputs": [
    {
     "name": "stdout",
     "output_type": "stream",
     "text": [
      "    anim_id     animal              weight          diet          \n",
      " Min.   :1   Length:5           Min.   :    3   Length:5          \n",
      " 1st Qu.:2   Class :character   1st Qu.:   15   Class :character  \n",
      " Median :3   Mode  :character   Median :  100   Mode  :character  \n",
      " Mean   :3                      Mean   :10104                     \n",
      " 3rd Qu.:4                      3rd Qu.:  400                     \n",
      " Max.   :5                      Max.   :50000                     \n"
     ]
    }
   ],
   "source": [
    "# Summary\n",
    "print(summary(anim.data))  "
   ]
  },
  {
   "cell_type": "code",
   "execution_count": 33,
   "id": "78864e4c",
   "metadata": {},
   "outputs": [
    {
     "name": "stdout",
     "output_type": "stream",
     "text": [
      "      mpg             cyl             disp             hp       \n",
      " Min.   :10.40   Min.   :4.000   Min.   : 71.1   Min.   : 52.0  \n",
      " 1st Qu.:15.43   1st Qu.:4.000   1st Qu.:120.8   1st Qu.: 96.5  \n",
      " Median :19.20   Median :6.000   Median :196.3   Median :123.0  \n",
      " Mean   :20.09   Mean   :6.188   Mean   :230.7   Mean   :146.7  \n",
      " 3rd Qu.:22.80   3rd Qu.:8.000   3rd Qu.:326.0   3rd Qu.:180.0  \n",
      " Max.   :33.90   Max.   :8.000   Max.   :472.0   Max.   :335.0  \n",
      "      drat             wt             qsec             vs        \n",
      " Min.   :2.760   Min.   :1.513   Min.   :14.50   Min.   :0.0000  \n",
      " 1st Qu.:3.080   1st Qu.:2.581   1st Qu.:16.89   1st Qu.:0.0000  \n",
      " Median :3.695   Median :3.325   Median :17.71   Median :0.0000  \n",
      " Mean   :3.597   Mean   :3.217   Mean   :17.85   Mean   :0.4375  \n",
      " 3rd Qu.:3.920   3rd Qu.:3.610   3rd Qu.:18.90   3rd Qu.:1.0000  \n",
      " Max.   :4.930   Max.   :5.424   Max.   :22.90   Max.   :1.0000  \n",
      "       am              gear            carb      \n",
      " Min.   :0.0000   Min.   :3.000   Min.   :1.000  \n",
      " 1st Qu.:0.0000   1st Qu.:3.000   1st Qu.:2.000  \n",
      " Median :0.0000   Median :4.000   Median :2.000  \n",
      " Mean   :0.4062   Mean   :3.688   Mean   :2.812  \n",
      " 3rd Qu.:1.0000   3rd Qu.:4.000   3rd Qu.:4.000  \n",
      " Max.   :1.0000   Max.   :5.000   Max.   :8.000  \n"
     ]
    }
   ],
   "source": [
    "print(summary(mtcars))  "
   ]
  },
  {
   "cell_type": "code",
   "execution_count": 34,
   "id": "071a8289",
   "metadata": {},
   "outputs": [
    {
     "data": {
      "text/html": [
       "<table class=\"dataframe\">\n",
       "<caption>A data.frame: 5 × 2</caption>\n",
       "<thead>\n",
       "\t<tr><th scope=col>anim.data.animal</th><th scope=col>anim.data.diet</th></tr>\n",
       "\t<tr><th scope=col>&lt;chr&gt;</th><th scope=col>&lt;chr&gt;</th></tr>\n",
       "</thead>\n",
       "<tbody>\n",
       "\t<tr><td>cat    </td><td>carnivore     </td></tr>\n",
       "\t<tr><td>dog    </td><td>carnivore     </td></tr>\n",
       "\t<tr><td>horse  </td><td>herbivore     </td></tr>\n",
       "\t<tr><td>whale  </td><td>plancton eater</td></tr>\n",
       "\t<tr><td>ostrich</td><td>omnivore      </td></tr>\n",
       "</tbody>\n",
       "</table>\n"
      ],
      "text/latex": [
       "A data.frame: 5 × 2\n",
       "\\begin{tabular}{ll}\n",
       " anim.data.animal & anim.data.diet\\\\\n",
       " <chr> & <chr>\\\\\n",
       "\\hline\n",
       "\t cat     & carnivore     \\\\\n",
       "\t dog     & carnivore     \\\\\n",
       "\t horse   & herbivore     \\\\\n",
       "\t whale   & plancton eater\\\\\n",
       "\t ostrich & omnivore      \\\\\n",
       "\\end{tabular}\n"
      ],
      "text/markdown": [
       "\n",
       "A data.frame: 5 × 2\n",
       "\n",
       "| anim.data.animal &lt;chr&gt; | anim.data.diet &lt;chr&gt; |\n",
       "|---|---|\n",
       "| cat     | carnivore      |\n",
       "| dog     | carnivore      |\n",
       "| horse   | herbivore      |\n",
       "| whale   | plancton eater |\n",
       "| ostrich | omnivore       |\n",
       "\n"
      ],
      "text/plain": [
       "  anim.data.animal anim.data.diet\n",
       "1 cat              carnivore     \n",
       "2 dog              carnivore     \n",
       "3 horse            herbivore     \n",
       "4 whale            plancton eater\n",
       "5 ostrich          omnivore      "
      ]
     },
     "metadata": {},
     "output_type": "display_data"
    },
    {
     "name": "stdout",
     "output_type": "stream",
     "text": [
      "'data.frame':\t5 obs. of  2 variables:\n",
      " $ anim.data.animal: chr  \"cat\" \"dog\" \"horse\" \"whale\" ...\n",
      " $ anim.data.diet  : chr  \"carnivore\" \"carnivore\" \"herbivore\" \"plancton eater\" ...\n"
     ]
    }
   ],
   "source": [
    "# Extract specific columns\n",
    "anim.data2 <- data.frame(anim.data$animal, anim.data$diet)\n",
    "anim.data2\n",
    "str(anim.data2)"
   ]
  },
  {
   "cell_type": "code",
   "execution_count": 35,
   "id": "88fdf717",
   "metadata": {},
   "outputs": [
    {
     "data": {
      "text/html": [
       "<table class=\"dataframe\">\n",
       "<caption>A data.frame: 5 × 2</caption>\n",
       "<thead>\n",
       "\t<tr><th scope=col>anim.data...2.</th><th scope=col>anim.data...4.</th></tr>\n",
       "\t<tr><th scope=col>&lt;chr&gt;</th><th scope=col>&lt;chr&gt;</th></tr>\n",
       "</thead>\n",
       "<tbody>\n",
       "\t<tr><td>cat    </td><td>carnivore     </td></tr>\n",
       "\t<tr><td>dog    </td><td>carnivore     </td></tr>\n",
       "\t<tr><td>horse  </td><td>herbivore     </td></tr>\n",
       "\t<tr><td>whale  </td><td>plancton eater</td></tr>\n",
       "\t<tr><td>ostrich</td><td>omnivore      </td></tr>\n",
       "</tbody>\n",
       "</table>\n"
      ],
      "text/latex": [
       "A data.frame: 5 × 2\n",
       "\\begin{tabular}{ll}\n",
       " anim.data...2. & anim.data...4.\\\\\n",
       " <chr> & <chr>\\\\\n",
       "\\hline\n",
       "\t cat     & carnivore     \\\\\n",
       "\t dog     & carnivore     \\\\\n",
       "\t horse   & herbivore     \\\\\n",
       "\t whale   & plancton eater\\\\\n",
       "\t ostrich & omnivore      \\\\\n",
       "\\end{tabular}\n"
      ],
      "text/markdown": [
       "\n",
       "A data.frame: 5 × 2\n",
       "\n",
       "| anim.data...2. &lt;chr&gt; | anim.data...4. &lt;chr&gt; |\n",
       "|---|---|\n",
       "| cat     | carnivore      |\n",
       "| dog     | carnivore      |\n",
       "| horse   | herbivore      |\n",
       "| whale   | plancton eater |\n",
       "| ostrich | omnivore       |\n",
       "\n"
      ],
      "text/plain": [
       "  anim.data...2. anim.data...4.\n",
       "1 cat            carnivore     \n",
       "2 dog            carnivore     \n",
       "3 horse          herbivore     \n",
       "4 whale          plancton eater\n",
       "5 ostrich        omnivore      "
      ]
     },
     "metadata": {},
     "output_type": "display_data"
    },
    {
     "name": "stdout",
     "output_type": "stream",
     "text": [
      "'data.frame':\t5 obs. of  2 variables:\n",
      " $ anim.data...2.: chr  \"cat\" \"dog\" \"horse\" \"whale\" ...\n",
      " $ anim.data...4.: chr  \"carnivore\" \"carnivore\" \"herbivore\" \"plancton eater\" ...\n"
     ]
    }
   ],
   "source": [
    "# or using [] notation, notice the difference in the names of the columns\n",
    "anim.data2 <- data.frame(anim.data[, 2], anim.data[, 4])\n",
    "anim.data2\n",
    "str(anim.data2)"
   ]
  },
  {
   "cell_type": "code",
   "execution_count": 36,
   "id": "c1d5db99",
   "metadata": {},
   "outputs": [
    {
     "name": "stdout",
     "output_type": "stream",
     "text": [
      "  anim_id  animal weight           diet domesticated\n",
      "1       1     cat      3      carnivore         TRUE\n",
      "2       2     dog     15      carnivore         TRUE\n",
      "3       3   horse    400      herbivore         TRUE\n",
      "4       4   whale  50000 plancton eater        FALSE\n",
      "5       5 ostrich    100       omnivore        FALSE\n"
     ]
    }
   ],
   "source": [
    "# Add new column\n",
    "anim.data$domesticated <- c(T, T, T, F, F)\n",
    "print(anim.data)"
   ]
  },
  {
   "cell_type": "code",
   "execution_count": 37,
   "id": "c81133d7",
   "metadata": {},
   "outputs": [
    {
     "name": "stdout",
     "output_type": "stream",
     "text": [
      "  anim_id        animal weight           diet domesticated\n",
      "1       1           cat      3      carnivore         TRUE\n",
      "2       2           dog     15      carnivore         TRUE\n",
      "3       3         horse    400      herbivore         TRUE\n",
      "4       4         whale  50000 plancton eater        FALSE\n",
      "5       5       ostrich    100       omnivore        FALSE\n",
      "6       6 komodo dragon     80      carnivore        FALSE\n"
     ]
    }
   ],
   "source": [
    "# Add new row\n",
    "new_row.data <- data.frame(anim_id = c(6), \n",
    "                           animal = c('komodo dragon'), \n",
    "                           weight = c(80), \n",
    "                           diet = c('carnivore'), \n",
    "                           domesticated = c(F),\n",
    "                           stringsAsFactors = FALSE)\n",
    "anim.data3 <- rbind(anim.data, new_row.data)\n",
    "print(anim.data3)"
   ]
  },
  {
   "cell_type": "markdown",
   "id": "d8117cc0",
   "metadata": {},
   "source": [
    "### 6. Factors\n",
    "Factors are objects for categorizing the data. They can store characters (strings), integers or boolean values. They are used in data analysis."
   ]
  },
  {
   "cell_type": "code",
   "execution_count": 38,
   "id": "00743241",
   "metadata": {},
   "outputs": [
    {
     "name": "stdout",
     "output_type": "stream",
     "text": [
      "[1] mammal  mammal  mammal  mammal  bird    reptile\n",
      "Levels: bird mammal reptile\n",
      "[1] \"numeric\"\n",
      "[1] \"character\"\n",
      "[1] \"factor\"\n"
     ]
    }
   ],
   "source": [
    "data <- c('mammal', 'mammal', 'mammal', 'mammal', 'bird', 'reptile' )\n",
    "factor_data <- factor(data)\n",
    "print(factor_data)\n",
    "print(mode(factor_data)) # factors are internaly stored as numeric\n",
    "print(mode(levels(factor_data)))\n",
    "print(class(factor_data))"
   ]
  },
  {
   "cell_type": "code",
   "execution_count": 39,
   "id": "90539add",
   "metadata": {},
   "outputs": [
    {
     "name": "stdout",
     "output_type": "stream",
     "text": [
      "  anim_id        animal weight           diet domesticated anim_class\n",
      "1       1           cat      3      carnivore         TRUE     mammal\n",
      "2       2           dog     15      carnivore         TRUE     mammal\n",
      "3       3         horse    400      herbivore         TRUE     mammal\n",
      "4       4         whale  50000 plancton eater        FALSE     mammal\n",
      "5       5       ostrich    100       omnivore        FALSE       bird\n",
      "6       6 komodo dragon     80      carnivore        FALSE    reptile\n",
      "[1] TRUE\n",
      "[1] mammal  mammal  mammal  mammal  bird    reptile\n",
      "Levels: bird mammal reptile\n"
     ]
    }
   ],
   "source": [
    "anim.data3$anim_class <- factor_data\n",
    "print(anim.data3)\n",
    "\n",
    "print(is.factor(anim.data3$anim_class)) # let's check whether the column is indeed factor\n",
    "print(anim.data3$anim_class)            # let's print the column to see the levels of the factor"
   ]
  },
  {
   "cell_type": "code",
   "execution_count": 40,
   "id": "d82fcd2f",
   "metadata": {},
   "outputs": [
    {
     "name": "stdout",
     "output_type": "stream",
     "text": [
      "[1] mammal  mammal  mammal  mammal  bird    reptile\n",
      "Levels: reptile mammal bird\n"
     ]
    }
   ],
   "source": [
    "# Change the order of levels in factor\n",
    "factor_data_level_changed <- factor(factor_data, levels = c('reptile', 'mammal', 'bird'))\n",
    "print(factor_data_level_changed)"
   ]
  },
  {
   "cell_type": "code",
   "execution_count": 41,
   "id": "3d491740",
   "metadata": {},
   "outputs": [
    {
     "name": "stdout",
     "output_type": "stream",
     "text": [
      "[1] mammal  mammal  bird    bird    reptile reptile\n",
      "Levels: mammal bird reptile\n"
     ]
    }
   ],
   "source": [
    "# Generate factor levels\n",
    "# gl(n=int number of levels, k=int number of replication, labels)\n",
    "\n",
    "factor_data_generated = gl(3, 2, labels = c('mammal', 'bird', 'reptile'))\n",
    "print(factor_data_generated)"
   ]
  },
  {
   "cell_type": "markdown",
   "id": "8335b4d7",
   "metadata": {},
   "source": [
    "### Simple regression example"
   ]
  },
  {
   "cell_type": "code",
   "execution_count": 42,
   "id": "402983ee",
   "metadata": {},
   "outputs": [
    {
     "name": "stdout",
     "output_type": "stream",
     "text": [
      "[1] \"data.frame\"\n",
      "  Type Alcohol Malic  Ash Alcalinity Magnesium Phenols Flavanoids Nonflavanoids\n",
      "1    1   14.23  1.71 2.43       15.6       127    2.80       3.06          0.28\n",
      "2    1   13.20  1.78 2.14       11.2       100    2.65       2.76          0.26\n",
      "3    1   13.16  2.36 2.67       18.6       101    2.80       3.24          0.30\n",
      "4    1   14.37  1.95 2.50       16.8       113    3.85       3.49          0.24\n",
      "5    1   13.24  2.59 2.87       21.0       118    2.80       2.69          0.39\n",
      "6    1   14.20  1.76 2.45       15.2       112    3.27       3.39          0.34\n",
      "  Proanthocyanins Color  Hue Dilution Proline\n",
      "1            2.29  5.64 1.04     3.92    1065\n",
      "2            1.28  4.38 1.05     3.40    1050\n",
      "3            2.81  5.68 1.03     3.17    1185\n",
      "4            2.18  7.80 0.86     3.45    1480\n",
      "5            1.82  4.32 1.04     2.93     735\n",
      "6            1.97  6.75 1.05     2.85    1450\n"
     ]
    }
   ],
   "source": [
    "# Get the data\n",
    "url.wine <- \"http://archive.ics.uci.edu/ml/machine-learning-databases/wine/wine.data\"\n",
    "wine <- read.csv(url(url.wine), header = FALSE)\n",
    "print(class(wine))\n",
    "col.names <- c('Type', 'Alcohol', 'Malic', 'Ash', \n",
    "                'Alcalinity', 'Magnesium', 'Phenols', \n",
    "                'Flavanoids', 'Nonflavanoids',\n",
    "                'Proanthocyanins', 'Color', 'Hue', \n",
    "                'Dilution', 'Proline')\n",
    "colnames(wine) <- col.names\n",
    "wine$Type <- as.factor(wine$Type)\n",
    "print(head(wine))"
   ]
  },
  {
   "cell_type": "markdown",
   "id": "3791057c",
   "metadata": {},
   "source": [
    "\\begin{align}\n",
    "\\beta = (X^{T}X)^{-1}(X^{T}Y)\n",
    "\\end{align}"
   ]
  },
  {
   "cell_type": "markdown",
   "id": "37f908b9",
   "metadata": {},
   "source": [
    "\\begin{align}\n",
    "Y=Xβ+ϵ\n",
    "\\end{align}"
   ]
  },
  {
   "cell_type": "markdown",
   "id": "641871f2",
   "metadata": {},
   "source": [
    "![lin regression](https://online.stat.psu.edu/stat462/sites/onlinecourses.science.psu.edu.stat462/files/05mlr/eq_matrix_notation/index.gif)"
   ]
  },
  {
   "cell_type": "code",
   "execution_count": 49,
   "id": "d2ee11ef",
   "metadata": {},
   "outputs": [
    {
     "data": {
      "text/html": [
       "<style>\n",
       ".list-inline {list-style: none; margin:0; padding: 0}\n",
       ".list-inline>li {display: inline-block}\n",
       ".list-inline>li:not(:last-child)::after {content: \"\\00b7\"; padding: 0 .5ex}\n",
       "</style>\n",
       "<ol class=list-inline><li>2.29</li><li>1.28</li><li>2.81</li><li>2.18</li><li>1.82</li></ol>\n"
      ],
      "text/latex": [
       "\\begin{enumerate*}\n",
       "\\item 2.29\n",
       "\\item 1.28\n",
       "\\item 2.81\n",
       "\\item 2.18\n",
       "\\item 1.82\n",
       "\\end{enumerate*}\n"
      ],
      "text/markdown": [
       "1. 2.29\n",
       "2. 1.28\n",
       "3. 2.81\n",
       "4. 2.18\n",
       "5. 1.82\n",
       "\n",
       "\n"
      ],
      "text/plain": [
       "[1] 2.29 1.28 2.81 2.18 1.82"
      ]
     },
     "metadata": {},
     "output_type": "display_data"
    }
   ],
   "source": [
    "y <- as.numeric(wine$Proanthocyanins)\n",
    "# the first five values\n",
    "y[1:5]"
   ]
  },
  {
   "cell_type": "code",
   "execution_count": 44,
   "id": "d741ac3d",
   "metadata": {},
   "outputs": [
    {
     "data": {
      "text/html": [
       "<style>\n",
       ".list-inline {list-style: none; margin:0; padding: 0}\n",
       ".list-inline>li {display: inline-block}\n",
       ".list-inline>li:not(:last-child)::after {content: \"\\00b7\"; padding: 0 .5ex}\n",
       "</style>\n",
       "<ol class=list-inline><li>'matrix'</li><li>'array'</li></ol>\n"
      ],
      "text/latex": [
       "\\begin{enumerate*}\n",
       "\\item 'matrix'\n",
       "\\item 'array'\n",
       "\\end{enumerate*}\n"
      ],
      "text/markdown": [
       "1. 'matrix'\n",
       "2. 'array'\n",
       "\n",
       "\n"
      ],
      "text/plain": [
       "[1] \"matrix\" \"array\" "
      ]
     },
     "metadata": {},
     "output_type": "display_data"
    },
    {
     "name": "stdout",
     "output_type": "stream",
     "text": [
      "     [,1] [,2] [,3] [,4] [,5]\n",
      "[1,]  127 1.71 2.43 15.6 3.06\n",
      "[2,]  100 1.78 2.14 11.2 2.76\n",
      "[3,]  101 2.36 2.67 18.6 3.24\n",
      "[4,]  113 1.95 2.50 16.8 3.49\n",
      "[5,]  118 2.59 2.87 21.0 2.69\n",
      "[6,]  112 1.76 2.45 15.2 3.39\n"
     ]
    }
   ],
   "source": [
    "x <- as.matrix(cbind(wine$Magnesium, wine$Malic, wine$Ash, wine$Alcalinity, wine$Flavanoids))\n",
    "class(x)\n",
    "print(head(x))"
   ]
  },
  {
   "cell_type": "code",
   "execution_count": 45,
   "id": "9265d65a",
   "metadata": {},
   "outputs": [
    {
     "name": "stdout",
     "output_type": "stream",
     "text": [
      "[1]  0.008395407  0.045420407 -0.334290415  0.029300169  0.425256761\n"
     ]
    }
   ],
   "source": [
    "# parameter estimates\n",
    "beta.hat <- solve(t(x) %*% x) %*% t(x) %*% y #  solve(crossprod(data)) %*% crossprod(data, return)\n",
    "print(c(beta.hat))"
   ]
  },
  {
   "cell_type": "code",
   "execution_count": 46,
   "id": "db746105",
   "metadata": {},
   "outputs": [
    {
     "data": {
      "text/html": [
       "<style>\n",
       ".list-inline {list-style: none; margin:0; padding: 0}\n",
       ".list-inline>li {display: inline-block}\n",
       ".list-inline>li:not(:last-child)::after {content: \"\\00b7\"; padding: 0 .5ex}\n",
       "</style>\n",
       "<ol class=list-inline><li>2.08992826008542</li><li>1.70687813551751</li><li>1.98538795716865</li><li>2.17791373534666</li><li>1.90812768157673</li><li>2.0881970243524</li></ol>\n"
      ],
      "text/latex": [
       "\\begin{enumerate*}\n",
       "\\item 2.08992826008542\n",
       "\\item 1.70687813551751\n",
       "\\item 1.98538795716865\n",
       "\\item 2.17791373534666\n",
       "\\item 1.90812768157673\n",
       "\\item 2.0881970243524\n",
       "\\end{enumerate*}\n"
      ],
      "text/markdown": [
       "1. 2.08992826008542\n",
       "2. 1.70687813551751\n",
       "3. 1.98538795716865\n",
       "4. 2.17791373534666\n",
       "5. 1.90812768157673\n",
       "6. 2.0881970243524\n",
       "\n",
       "\n"
      ],
      "text/plain": [
       "[1] 2.089928 1.706878 1.985388 2.177914 1.908128 2.088197"
      ]
     },
     "metadata": {},
     "output_type": "display_data"
    },
    {
     "data": {
      "text/html": [
       "<style>\n",
       ".list-inline {list-style: none; margin:0; padding: 0}\n",
       ".list-inline>li {display: inline-block}\n",
       ".list-inline>li:not(:last-child)::after {content: \"\\00b7\"; padding: 0 .5ex}\n",
       "</style>\n",
       "<ol class=list-inline><li>2.29</li><li>1.28</li><li>2.81</li><li>2.18</li><li>1.82</li><li>1.97</li></ol>\n"
      ],
      "text/latex": [
       "\\begin{enumerate*}\n",
       "\\item 2.29\n",
       "\\item 1.28\n",
       "\\item 2.81\n",
       "\\item 2.18\n",
       "\\item 1.82\n",
       "\\item 1.97\n",
       "\\end{enumerate*}\n"
      ],
      "text/markdown": [
       "1. 2.29\n",
       "2. 1.28\n",
       "3. 2.81\n",
       "4. 2.18\n",
       "5. 1.82\n",
       "6. 1.97\n",
       "\n",
       "\n"
      ],
      "text/plain": [
       "[1] 2.29 1.28 2.81 2.18 1.82 1.97"
      ]
     },
     "metadata": {},
     "output_type": "display_data"
    },
    {
     "data": {
      "image/png": "[encoded data removed]",
      "text/plain": [
       "plot without title"
      ]
     },
     "metadata": {
      "image/png": {
       "height": 420,
       "width": 420
      }
     },
     "output_type": "display_data"
    }
   ],
   "source": [
    "# compare the results estimates and true y\n",
    "y.hat <- x %*% beta.hat\n",
    "c(head(y.hat))\n",
    "# Compare true and predicted values\n",
    "head(y)\n",
    "plot(y.hat, y)"
   ]
  },
  {
   "cell_type": "code",
   "execution_count": 50,
   "id": "f0252b60",
   "metadata": {},
   "outputs": [
    {
     "data": {
      "text/plain": [
       "\n",
       "Call:\n",
       "lm(formula = Proanthocyanins ~ Magnesium + Malic + Ash + Alcalinity + \n",
       "    Flavanoids + 0, data = input)\n",
       "\n",
       "Coefficients:\n",
       " Magnesium       Malic         Ash  Alcalinity  Flavanoids  \n",
       "  0.008395    0.045420   -0.334290    0.029300    0.425257  \n"
      ]
     },
     "metadata": {},
     "output_type": "display_data"
    },
    {
     "name": "stdout",
     "output_type": "stream",
     "text": [
      "[1]  0.008395407  0.045420407 -0.334290415  0.029300169  0.425256761\n"
     ]
    }
   ],
   "source": [
    "# Let'c check whether we solved the linear regression correctly\n",
    "input <- wine[,c('Magnesium', 'Malic', 'Ash', 'Alcalinity', 'Flavanoids', 'Proanthocyanins')]\n",
    "reg = lm(formula = Proanthocyanins ~ Magnesium+Malic+Ash+Alcalinity+Flavanoids+0 , data = input)\n",
    "reg\n",
    "# Check ours parameters estimates\n",
    "print(c(beta.hat))"
   ]
  },
  {
   "cell_type": "code",
   "execution_count": 51,
   "id": "d2393719",
   "metadata": {},
   "outputs": [
    {
     "data": {
      "text/html": [
       "<style>\n",
       ".list-inline {list-style: none; margin:0; padding: 0}\n",
       ".list-inline>li {display: inline-block}\n",
       ".list-inline>li:not(:last-child)::after {content: \"\\00b7\"; padding: 0 .5ex}\n",
       "</style>\n",
       "<ol class=list-inline><li>2.08992826008542</li><li>1.70687813551751</li><li>1.98538795716865</li><li>2.17791373534666</li><li>1.90812768157673</li><li>2.0881970243524</li></ol>\n"
      ],
      "text/latex": [
       "\\begin{enumerate*}\n",
       "\\item 2.08992826008542\n",
       "\\item 1.70687813551751\n",
       "\\item 1.98538795716865\n",
       "\\item 2.17791373534666\n",
       "\\item 1.90812768157673\n",
       "\\item 2.0881970243524\n",
       "\\end{enumerate*}\n"
      ],
      "text/markdown": [
       "1. 2.08992826008542\n",
       "2. 1.70687813551751\n",
       "3. 1.98538795716865\n",
       "4. 2.17791373534666\n",
       "5. 1.90812768157673\n",
       "6. 2.0881970243524\n",
       "\n",
       "\n"
      ],
      "text/plain": [
       "[1] 2.089928 1.706878 1.985388 2.177914 1.908128 2.088197"
      ]
     },
     "metadata": {},
     "output_type": "display_data"
    },
    {
     "data": {
      "text/html": [
       "<style>\n",
       ".list-inline {list-style: none; margin:0; padding: 0}\n",
       ".list-inline>li {display: inline-block}\n",
       ".list-inline>li:not(:last-child)::after {content: \"\\00b7\"; padding: 0 .5ex}\n",
       "</style>\n",
       "<ol class=list-inline><li>2.08992826008542</li><li>1.70687813551751</li><li>1.98538795716865</li><li>2.17791373534666</li><li>1.90812768157673</li><li>2.0881970243524</li></ol>\n"
      ],
      "text/latex": [
       "\\begin{enumerate*}\n",
       "\\item 2.08992826008542\n",
       "\\item 1.70687813551751\n",
       "\\item 1.98538795716865\n",
       "\\item 2.17791373534666\n",
       "\\item 1.90812768157673\n",
       "\\item 2.0881970243524\n",
       "\\end{enumerate*}\n"
      ],
      "text/markdown": [
       "1. 2.08992826008542\n",
       "2. 1.70687813551751\n",
       "3. 1.98538795716865\n",
       "4. 2.17791373534666\n",
       "5. 1.90812768157673\n",
       "6. 2.0881970243524\n",
       "\n",
       "\n"
      ],
      "text/plain": [
       "[1] 2.089928 1.706878 1.985388 2.177914 1.908128 2.088197"
      ]
     },
     "metadata": {},
     "output_type": "display_data"
    },
    {
     "data": {
      "image/png": "[encoded data removed]",
      "text/plain": [
       "plot without title"
      ]
     },
     "metadata": {
      "image/png": {
       "height": 420,
       "width": 420
      }
     },
     "output_type": "display_data"
    }
   ],
   "source": [
    "# And again compute the y estimates\n",
    "beta.hat2 <- as.vector(summary(reg)$coefficients[1:5,1])\n",
    "y.hat2 <- x %*% beta.hat\n",
    "# Compare the y estimations\n",
    "c(head(y.hat2))\n",
    "c(head(y.hat))\n",
    "plot(y.hat2, y)"
   ]
  },
  {
   "cell_type": "code",
   "execution_count": null,
   "id": "c61be520",
   "metadata": {},
   "outputs": [],
   "source": []
  }
 ],
 "metadata": {
  "kernelspec": {
   "display_name": "R",
   "language": "R",
   "name": "ir"
  },
  "language_info": {
   "codemirror_mode": "r",
   "file_extension": ".r",
   "mimetype": "text/x-r-source",
   "name": "R",
   "pygments_lexer": "r",
   "version": "4.2.1"
  }
 },
 "nbformat": 4,
 "nbformat_minor": 5
}
